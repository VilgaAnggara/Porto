{
 "cells": [
  {
   "cell_type": "markdown",
   "id": "6887ac8e-576a-47ef-85ca-46a57a6812ab",
   "metadata": {},
   "source": [
    "# Descriptive Statistics"
   ]
  },
  {
   "cell_type": "markdown",
   "id": "eeec7f52-5864-4c7b-8306-6df0ad8c4e86",
   "metadata": {},
   "source": [
    "    statistic yang mencoba merangkum data kita \n",
    "    # measure of cenral tendency (seberapa ke tengah)\n",
    "    # measure of spread (seberapa tersebar datanya)"
   ]
  },
  {
   "cell_type": "markdown",
   "id": "37086c5c-9573-4b97-9522-6ddd82d97435",
   "metadata": {},
   "source": [
    "### Terminologi "
   ]
  },
  {
   "cell_type": "markdown",
   "id": "ca52c68f-b984-4ed0-b1b5-0b557c07962a",
   "metadata": {},
   "source": [
    "#### population vs sample "
   ]
  },
  {
   "cell_type": "markdown",
   "id": "61f66dba-db4c-4ea7-acf1-fd92adeb04da",
   "metadata": {},
   "source": [
    "population adalah seluruh data yang mau kita tes/observasi. sample adalah sebagian dari populasi tersebut"
   ]
  },
  {
   "cell_type": "markdown",
   "id": "cc6d55bc-aa11-4d39-b6f6-b2d93bf7df23",
   "metadata": {},
   "source": [
    "#### outlier"
   ]
  },
  {
   "cell_type": "markdown",
   "id": "68c0a21a-519a-4d44-8d46-7f832a7984e5",
   "metadata": {},
   "source": [
    "data yang berbeda jauh dari data lainnya, tidak umum"
   ]
  },
  {
   "cell_type": "markdown",
   "id": "08bf663d-615e-47e6-a1e0-aec30ebb1354",
   "metadata": {},
   "source": [
    "### Measure of Central Tendency"
   ]
  },
  {
   "cell_type": "markdown",
   "id": "da08d506-3d0e-462d-9ef8-e7f89231a8d0",
   "metadata": {},
   "source": [
    "    mencari data yang tengah \n",
    "    mean \n",
    "    median (urutkan semua data dan ambil yang di tengah\n",
    "    mode (data yang paling sering muncul)"
   ]
  },
  {
   "cell_type": "markdown",
   "id": "5a442109-215c-4fac-ae91-f98fdd8164f2",
   "metadata": {},
   "source": [
    "### Measure of Spread "
   ]
  },
  {
   "cell_type": "markdown",
   "id": "56347f78-1826-4e30-90d6-a1a47db17ebf",
   "metadata": {},
   "source": [
    "    mencari seberapa tersebar data kita \n",
    "    standard deviation (satu titik ke rata2)\n",
    "    variance (std dev dikuadrat)\n",
    "    range (data max-data min)\n",
    "    percentile (titik ini di posisi ke berapa % dari semua data)\n",
    "    quartile (25,50,75 percentile)\n",
    "    skewness (jika digambar sebagai normal distribution, apakah simetris atau berat sebelah dengan buntut panjang)\n",
    "    kurtosis (seberapa banyak nilai yang adalah outlier)\n",
    "    correlation (seberapa terikat 2 variable berbeda, nilai r ini bisa diantara -1,0,1. jika 0 tidak ada korelasi)"
   ]
  },
  {
   "cell_type": "markdown",
   "id": "201d2bfd-cbd2-457e-ab90-fd08b80eaa7c",
   "metadata": {},
   "source": [
    "# Statistik di Python"
   ]
  },
  {
   "cell_type": "code",
   "execution_count": 1,
   "id": "4d12ec29-3887-4b07-8818-4ae5a8790119",
   "metadata": {},
   "outputs": [],
   "source": [
    "import math \n",
    "import statistics \n",
    "import numpy as np \n",
    "import scipy.stats\n",
    "import pandas as pd\n",
    "%matplotlib inline"
   ]
  },
  {
   "cell_type": "code",
   "execution_count": 2,
   "id": "c589424d-3a17-46c8-a0e9-fade10f76182",
   "metadata": {},
   "outputs": [
    {
     "name": "stdout",
     "output_type": "stream",
     "text": [
      "nan\n",
      "<class 'float'>\n"
     ]
    }
   ],
   "source": [
    "print(math.nan)\n",
    "print(type(math.nan))"
   ]
  },
  {
   "cell_type": "code",
   "execution_count": 3,
   "id": "a4cdf398-a2f9-4231-a70e-11e77c71b989",
   "metadata": {},
   "outputs": [
    {
     "name": "stdout",
     "output_type": "stream",
     "text": [
      "[8.0, 1, 2.5, 4, 28]\n",
      "[8.0, 1, 2.5, nan, 4, 28.0]\n",
      "[ 8.   1.   2.5  4.  28. ]\n",
      "[ 8.   1.   2.5  nan  4.  28. ]\n",
      "0     8.0\n",
      "1     1.0\n",
      "2     2.5\n",
      "3     4.0\n",
      "4    28.0\n",
      "dtype: float64\n",
      "0     8.0\n",
      "1     1.0\n",
      "2     2.5\n",
      "3     NaN\n",
      "4     4.0\n",
      "5    28.0\n",
      "dtype: float64\n"
     ]
    }
   ],
   "source": [
    "# misalnya kita punya data berikut \n",
    "\n",
    "# list python\n",
    "x = [8.0,1, 2.5, 4, 28]\n",
    "x_nan= [8.0,1,2.5, math.nan, 4, 28.0]\n",
    "\n",
    "# numpy array \n",
    "y = np.array (x)\n",
    "y_nan = np.array(x_nan)\n",
    "\n",
    "# pandas series\n",
    "z = pd.Series(x)\n",
    "z_nan = pd.Series(x_nan)\n",
    "\n",
    "print(x)\n",
    "print(x_nan)\n",
    "\n",
    "print(y)\n",
    "print(y_nan)\n",
    "\n",
    "print(z)\n",
    "print(z_nan)"
   ]
  },
  {
   "cell_type": "markdown",
   "id": "e8617a51-8e0d-404b-906b-6b70f792e581",
   "metadata": {},
   "source": [
    "# Menghitung rata-rata(mean) dan Central Tendency lainnya"
   ]
  },
  {
   "cell_type": "markdown",
   "id": "d423676e-1b47-41d6-93bf-dd8231f95a0f",
   "metadata": {},
   "source": [
    "    mean \n",
    "    weighted\n",
    "    geometric \n",
    "    harmonic\n",
    "    median \n",
    "    mode"
   ]
  },
  {
   "cell_type": "code",
   "execution_count": 4,
   "id": "7bff51fb-ae4e-42da-9035-4d3e4e6d3a9b",
   "metadata": {},
   "outputs": [
    {
     "name": "stdout",
     "output_type": "stream",
     "text": [
      "8.7\n",
      "8.7\n",
      "8.7\n",
      "8.7\n"
     ]
    }
   ],
   "source": [
    "# mean \n",
    "print(sum(x)/len(x)) # python\n",
    "print(statistics.mean(x)) # package statistics\n",
    "print(np.mean(y)) # numpy\n",
    "print(z.mean()) # pandas"
   ]
  },
  {
   "cell_type": "code",
   "execution_count": 5,
   "id": "89686428-f3b6-4a15-9aad-e9013aec0833",
   "metadata": {},
   "outputs": [
    {
     "name": "stdout",
     "output_type": "stream",
     "text": [
      "nan\n",
      "nan\n",
      "nan\n",
      "8.7\n",
      "8.7\n"
     ]
    }
   ],
   "source": [
    "print(sum(x_nan)/len(x_nan)) # python\n",
    "print(statistics.mean(x_nan)) #package statistics\n",
    "print(np.mean(y_nan)) # numpy\n",
    "print(np.nanmean(y_nan)) #numpy juga, bisa handle data nan \n",
    "print(z_nan.mean()) # pandas"
   ]
  },
  {
   "cell_type": "markdown",
   "id": "3c39aad8-bc95-42b6-8aaa-deaf12aebcaa",
   "metadata": {},
   "source": [
    "# Weighted mean"
   ]
  },
  {
   "cell_type": "code",
   "execution_count": 6,
   "id": "26dcc151-d728-4f59-8f48-cb2c6e99eed1",
   "metadata": {},
   "outputs": [
    {
     "data": {
      "text/plain": [
       "[8.0, 1, 2.5, 4, 28]"
      ]
     },
     "execution_count": 6,
     "metadata": {},
     "output_type": "execute_result"
    }
   ],
   "source": [
    "x"
   ]
  },
  {
   "cell_type": "code",
   "execution_count": 7,
   "id": "eebd4423-5078-489d-9a06-35c9a848ca48",
   "metadata": {},
   "outputs": [
    {
     "data": {
      "text/plain": [
       "[0.1, 0.2, 0.3, 0.25, 0.15]"
      ]
     },
     "execution_count": 7,
     "metadata": {},
     "output_type": "execute_result"
    }
   ],
   "source": [
    "w = [0.1, 0.2, 0.3, 0.25, 0.15]\n",
    "w"
   ]
  },
  {
   "cell_type": "code",
   "execution_count": 8,
   "id": "9c0b5b6a-c267-4f44-8168-f2787edf393d",
   "metadata": {},
   "outputs": [
    {
     "data": {
      "text/plain": [
       "1.0"
      ]
     },
     "execution_count": 8,
     "metadata": {},
     "output_type": "execute_result"
    }
   ],
   "source": [
    "sum(w)"
   ]
  },
  {
   "cell_type": "code",
   "execution_count": 20,
   "id": "51c8397c-f90f-4ced-920a-5c1ee212c5c5",
   "metadata": {},
   "outputs": [
    {
     "data": {
      "text/plain": [
       "6.95"
      ]
     },
     "execution_count": 20,
     "metadata": {},
     "output_type": "execute_result"
    }
   ],
   "source": [
    "# menghitung dengan manual \n",
    "wmean = sum(w[i] * x[i] for i in range(len(x))) / sum(w)\n",
    "wmean"
   ]
  },
  {
   "cell_type": "code",
   "execution_count": 10,
   "id": "14570930-aff5-4921-99b7-113f6e4c53ea",
   "metadata": {},
   "outputs": [
    {
     "data": {
      "text/plain": [
       "6.95"
      ]
     },
     "execution_count": 10,
     "metadata": {},
     "output_type": "execute_result"
    }
   ],
   "source": [
    "total= 0\n",
    "for i in range(len(x)) :\n",
    "    total += w[i] * x[i]\n",
    "wmean = total/sum(w)\n",
    "wmean"
   ]
  },
  {
   "cell_type": "code",
   "execution_count": 11,
   "id": "f2cc0203-be7f-427b-82a0-4399f8d8ff84",
   "metadata": {},
   "outputs": [
    {
     "name": "stdout",
     "output_type": "stream",
     "text": [
      "6.95\n",
      "6.95\n",
      "6.95\n"
     ]
    }
   ],
   "source": [
    "# menghitung weihted mean dengan package lain\n",
    "y = np.array(x)\n",
    "z = pd.Series(x)\n",
    "\n",
    "w = np.array(w)\n",
    "\n",
    "wmean = np.average(y, weights=w)\n",
    "print(wmean)\n",
    "\n",
    "wmean = np.average(z,weights=w)\n",
    "print(wmean)\n",
    "\n",
    "#kalikan dua numpy array juga bisa \n",
    "wmean = sum(w*y)/sum(w)\n",
    "print(wmean)"
   ]
  },
  {
   "cell_type": "markdown",
   "id": "818db5ed-7c41-4d9c-acc0-a2adb60f7b17",
   "metadata": {},
   "source": [
    "# Harmonic Mean"
   ]
  },
  {
   "cell_type": "markdown",
   "id": "23c79acc-b8d0-42d7-9bd0-3ecc882fcf45",
   "metadata": {},
   "source": [
    "jumlah data/(1/data1 + 1/data2 +....)         \n",
    "berbeda dengan mean biasa: (data1+data2+....) / jumlah data"
   ]
  },
  {
   "cell_type": "code",
   "execution_count": 13,
   "id": "57c2fb44-5471-4ead-9a02-15e5e166a5ef",
   "metadata": {},
   "outputs": [
    {
     "data": {
      "text/plain": [
       "[8.0, 1, 2.5, 4, 28]"
      ]
     },
     "execution_count": 13,
     "metadata": {},
     "output_type": "execute_result"
    }
   ],
   "source": [
    "x"
   ]
  },
  {
   "cell_type": "code",
   "execution_count": 14,
   "id": "64f8a997-fa6b-4de1-be23-fac569c6eff7",
   "metadata": {},
   "outputs": [
    {
     "name": "stdout",
     "output_type": "stream",
     "text": [
      "2.7613412228796843\n",
      "2.7613412228796843\n",
      "2.7613412228796843\n",
      "2.7613412228796843\n"
     ]
    }
   ],
   "source": [
    "# cara biasa \n",
    "hmean = len(x)/sum(1/i for i in x)\n",
    "print(hmean)\n",
    "\n",
    "# package statistics\n",
    "print(statistics.harmonic_mean(x))\n",
    "\n",
    "# package scipy stats\n",
    "print(scipy.stats.hmean(y)) # pakai np.array \n",
    "print(scipy.stats.hmean(z)) # pakai pandas"
   ]
  },
  {
   "cell_type": "markdown",
   "id": "1153773a-9a87-481e-957b-91a64531e0c1",
   "metadata": {},
   "source": [
    "# Geometric mean   \n",
    "mencari rata2 di saat ada angka yang skalanya berbeda"
   ]
  },
  {
   "cell_type": "code",
   "execution_count": 15,
   "id": "628d5ef8-6a2f-4994-984e-e07ec951b2a5",
   "metadata": {},
   "outputs": [
    {
     "name": "stdout",
     "output_type": "stream",
     "text": [
      "4.677885674856041\n"
     ]
    }
   ],
   "source": [
    "# cara biasa \n",
    "gmean = 1\n",
    "for i in x :\n",
    "    gmean *=i\n",
    "gmean**=1/len(x)\n",
    "print(gmean)"
   ]
  },
  {
   "cell_type": "code",
   "execution_count": 16,
   "id": "0c21d9b2-ccb7-43fe-b5d9-46dc8d91fb73",
   "metadata": {},
   "outputs": [
    {
     "name": "stdout",
     "output_type": "stream",
     "text": [
      "4.67788567485604\n",
      "4.67788567485604\n"
     ]
    }
   ],
   "source": [
    "# scipy stats \n",
    "print(scipy.stats.gmean(y)) # pakai numpy array\n",
    "print(scipy.stats.gmean(z)) # pakai pandas"
   ]
  },
  {
   "cell_type": "markdown",
   "id": "1ecf7832-3f6e-41b0-8af2-be7b941113ae",
   "metadata": {},
   "source": [
    "# Median"
   ]
  },
  {
   "cell_type": "code",
   "execution_count": 22,
   "id": "eb43acad-8b66-492a-9bdc-ab1d972aa7fd",
   "metadata": {},
   "outputs": [
    {
     "name": "stdout",
     "output_type": "stream",
     "text": [
      "4\n"
     ]
    }
   ],
   "source": [
    "# cara manual, sortir dulu lalu ambil angka tengah \n",
    "n = len(x)\n",
    "if n%2 : \n",
    "    # jumlah angka ganjil \n",
    "    # angka tengah cuma 1, langsung ambil aja \n",
    "    med = sorted(x)[round((n-1)/2)]\n",
    "else:\n",
    "    #jumlah angka genap \n",
    "    # angka tengahnya ada 2 ditambah lagi dibagi 2 \n",
    "    xs = sorted(x)\n",
    "    index1 = round(n/2)\n",
    "    index2 = index1-1\n",
    "    med = (xs[index1] + [index2])/2\n",
    "print(med)"
   ]
  },
  {
   "cell_type": "code",
   "execution_count": 23,
   "id": "8c6ae795-a82f-4258-90ac-6553cee7bd51",
   "metadata": {},
   "outputs": [
    {
     "data": {
      "text/plain": [
       "[8.0, 1, 2.5, 4, 28]"
      ]
     },
     "execution_count": 23,
     "metadata": {},
     "output_type": "execute_result"
    }
   ],
   "source": [
    "x"
   ]
  },
  {
   "cell_type": "code",
   "execution_count": 24,
   "id": "5dd572cb-5c14-4f10-865a-b6eb584940f2",
   "metadata": {},
   "outputs": [
    {
     "name": "stdout",
     "output_type": "stream",
     "text": [
      "False\n"
     ]
    }
   ],
   "source": [
    "if 0:\n",
    "    print(True)\n",
    "else:\n",
    "    print(False)"
   ]
  },
  {
   "cell_type": "code",
   "execution_count": 25,
   "id": "3f8fb110-9a77-478c-abc8-281d43a895e1",
   "metadata": {},
   "outputs": [
    {
     "name": "stdout",
     "output_type": "stream",
     "text": [
      "4\n",
      "4\n",
      "3.5\n"
     ]
    }
   ],
   "source": [
    "# package statistics\n",
    "d = [1,2,3,4,5,6]\n",
    "print(statistics.median_low(x))\n",
    "print(statistics.median_high(d))\n",
    "print(statistics.median(d))"
   ]
  },
  {
   "cell_type": "code",
   "execution_count": 26,
   "id": "d9af64b8-cdd0-4f6a-837d-9b7df2566241",
   "metadata": {},
   "outputs": [
    {
     "data": {
      "text/plain": [
       "[1, 2.5, 4, 8.0, 28]"
      ]
     },
     "execution_count": 26,
     "metadata": {},
     "output_type": "execute_result"
    }
   ],
   "source": [
    "sorted(x)"
   ]
  },
  {
   "cell_type": "code",
   "execution_count": 27,
   "id": "7b928147-9fcd-4a9a-864e-65c789eaa982",
   "metadata": {},
   "outputs": [
    {
     "name": "stdout",
     "output_type": "stream",
     "text": [
      "4\n",
      "8.0\n",
      "6.0\n"
     ]
    }
   ],
   "source": [
    "print(statistics.median_low(x_nan))\n",
    "print(statistics.median_high(x_nan))\n",
    "print(statistics.median(x_nan))"
   ]
  },
  {
   "cell_type": "markdown",
   "id": "ceda9ff4-b39a-4490-ae91-0e1010192e36",
   "metadata": {},
   "source": [
    "# Mode      \n",
    "paling sering muncul dari sebuah set data"
   ]
  },
  {
   "cell_type": "code",
   "execution_count": 28,
   "id": "7aa15040-dea1-4ed5-b09d-eb079c4e4b33",
   "metadata": {},
   "outputs": [
    {
     "name": "stdout",
     "output_type": "stream",
     "text": [
      "(3, 2)\n",
      "2\n"
     ]
    }
   ],
   "source": [
    "u = [2,3,42,2,8,12,2]\n",
    "v = [12,15,12,15,21,15,12]\n",
    "\n",
    "# cara manual \n",
    "mod = max((u.count(i),i)for i in set (u))\n",
    "print(mod) # index 0 dari mod adalah berapa kali angkanya muncul \n",
    "print(mod[1]) # index 1 adalh angka modusnya"
   ]
  },
  {
   "cell_type": "code",
   "execution_count": 29,
   "id": "539078db-be4b-4a46-aa62-d89c1bd2d70d",
   "metadata": {},
   "outputs": [
    {
     "name": "stdout",
     "output_type": "stream",
     "text": [
      "ModeResult(mode=array([2]), count=array([3]))\n",
      "2\n"
     ]
    }
   ],
   "source": [
    "print(scipy.stats.mode(u)) # package scipy stats\n",
    "print(statistics.mode(u)) # pakai statitics"
   ]
  },
  {
   "cell_type": "code",
   "execution_count": 30,
   "id": "86c5e7ef-10bd-4d50-9c98-0dbb95b9e625",
   "metadata": {},
   "outputs": [
    {
     "name": "stdout",
     "output_type": "stream",
     "text": [
      "0    2\n",
      "dtype: int64\n"
     ]
    }
   ],
   "source": [
    "# pandas seri mode \n",
    "print((pd.Series(u)).mode())"
   ]
  },
  {
   "cell_type": "markdown",
   "id": "36607e1c-a2bd-4a83-a9ad-8c49ea514c1c",
   "metadata": {},
   "source": [
    "# Measures of Variability    \n",
    "melihat seberapa tersebar data kita        \n",
    "\n",
    "    variance      \n",
    "    std (variance diakar2)\n",
    "    skewness (seberaoa miring) \n",
    "    percentile(quartile juga)\n",
    "    range (perbedaan max dan min)"
   ]
  },
  {
   "cell_type": "code",
   "execution_count": 31,
   "id": "083ec1a1-8df7-4c6b-a867-997fafea091e",
   "metadata": {},
   "outputs": [
    {
     "data": {
      "text/plain": [
       "[8.0, 1, 2.5, 4, 28]"
      ]
     },
     "execution_count": 31,
     "metadata": {},
     "output_type": "execute_result"
    }
   ],
   "source": [
    "x"
   ]
  },
  {
   "cell_type": "code",
   "execution_count": 33,
   "id": "4c32141b-adbd-4e9b-8a2e-c66d96e128d0",
   "metadata": {},
   "outputs": [
    {
     "name": "stdout",
     "output_type": "stream",
     "text": [
      "123.19999999999999\n"
     ]
    },
    {
     "data": {
      "text/plain": [
       "123.2"
      ]
     },
     "execution_count": 33,
     "metadata": {},
     "output_type": "execute_result"
    }
   ],
   "source": [
    "# cara manual \n",
    "mean_x = sum(x)/ len(x)\n",
    "var_x = sum((i-mean_x)**2 for i in x)/ (len(x)-1)\n",
    "print(var_x)\n",
    "round(var_x,2)"
   ]
  },
  {
   "cell_type": "code",
   "execution_count": 34,
   "id": "ae80006c-e58d-4d4f-bd21-47790b56390f",
   "metadata": {},
   "outputs": [
    {
     "name": "stdout",
     "output_type": "stream",
     "text": [
      "123.2\n"
     ]
    }
   ],
   "source": [
    "# pakai package statistics \n",
    "print(statistics.variance(x))"
   ]
  },
  {
   "cell_type": "code",
   "execution_count": 37,
   "id": "f68dc470-c90c-4edf-b517-d5241871a653",
   "metadata": {},
   "outputs": [
    {
     "name": "stdout",
     "output_type": "stream",
     "text": [
      "123.19999999999999\n"
     ]
    }
   ],
   "source": [
    "# pakai numpy \n",
    "print(np.var(y, ddof=1))"
   ]
  },
  {
   "cell_type": "code",
   "execution_count": 38,
   "id": "ede8a705-7024-4b38-b919-5d9868824799",
   "metadata": {},
   "outputs": [
    {
     "data": {
      "text/plain": [
       "123.19999999999999"
      ]
     },
     "execution_count": 38,
     "metadata": {},
     "output_type": "execute_result"
    }
   ],
   "source": [
    "z.var(ddof=1)"
   ]
  },
  {
   "cell_type": "markdown",
   "id": "1c5a4557-2ad2-4610-a747-1b75b96cd651",
   "metadata": {},
   "source": [
    "# Standard Deviation"
   ]
  },
  {
   "cell_type": "code",
   "execution_count": 39,
   "id": "828539af-31eb-4901-bcfb-f7b69c962db7",
   "metadata": {},
   "outputs": [
    {
     "name": "stdout",
     "output_type": "stream",
     "text": [
      "11.099549540409285\n"
     ]
    }
   ],
   "source": [
    "std_x = var_x ** (1/2)\n",
    "print(std_x)"
   ]
  },
  {
   "cell_type": "code",
   "execution_count": 40,
   "id": "d2fc357e-84f5-4e7c-a6c9-71488e976fce",
   "metadata": {},
   "outputs": [
    {
     "name": "stdout",
     "output_type": "stream",
     "text": [
      "11.099549540409287\n",
      "11.099549540409285\n",
      "11.099549540409285\n"
     ]
    }
   ],
   "source": [
    "# pakai package statistic\n",
    "print(statistics.stdev(x))\n",
    "\n",
    "#numpy\n",
    "print(np.std(y,ddof=1))\n",
    "\n",
    "#pandas\n",
    "print(z.std(ddof=1))"
   ]
  },
  {
   "cell_type": "markdown",
   "id": "20995e15-50a7-43a2-a568-4dc68338f349",
   "metadata": {},
   "source": [
    "# Skewness"
   ]
  },
  {
   "cell_type": "code",
   "execution_count": 42,
   "id": "4e3b1220-b71b-45fe-a78f-0cc073021076",
   "metadata": {},
   "outputs": [
    {
     "name": "stdout",
     "output_type": "stream",
     "text": [
      "1.9470432273905929\n"
     ]
    }
   ],
   "source": [
    "#cara manual\n",
    "n = len(x)\n",
    "\n",
    "mean_ = sum(x)/n \n",
    "var_ = sum((item - mean_)**2 for item in x)/ (n-1)\n",
    "std_ = var_ ** 0.5\n",
    "\n",
    "skew_ = (sum((item-mean_)**3 for item in x)* n/((n-1)*(n-2)*std_**3))\n",
    "print(skew_)"
   ]
  },
  {
   "cell_type": "code",
   "execution_count": 43,
   "id": "8c07c61a-4cb6-4427-9c86-086812c9e442",
   "metadata": {},
   "outputs": [
    {
     "name": "stdout",
     "output_type": "stream",
     "text": [
      "1.9470432273905927\n"
     ]
    }
   ],
   "source": [
    "# pakai scipy stats dengan numpy array \n",
    "print(scipy.stats.skew(y, bias=False))"
   ]
  },
  {
   "cell_type": "code",
   "execution_count": 44,
   "id": "6cbfbf62-126a-4371-a708-e164517674fe",
   "metadata": {},
   "outputs": [
    {
     "name": "stdout",
     "output_type": "stream",
     "text": [
      "1.9470432273905924\n"
     ]
    }
   ],
   "source": [
    "# pakai pandas series\n",
    "print(z.skew())"
   ]
  },
  {
   "cell_type": "code",
   "execution_count": 45,
   "id": "45ca58c6-5788-4250-b6cb-9ae221d724df",
   "metadata": {},
   "outputs": [
    {
     "name": "stdout",
     "output_type": "stream",
     "text": [
      "1.9470432273905924\n"
     ]
    }
   ],
   "source": [
    "print(z_nan.skew())"
   ]
  },
  {
   "cell_type": "markdown",
   "id": "2c64f489-5f58-4678-ab13-98072f30492d",
   "metadata": {},
   "source": [
    "# Percentiles      \n",
    "    percentile 25 = quartile 1"
   ]
  },
  {
   "cell_type": "code",
   "execution_count": 46,
   "id": "216c68fc-2249-43d3-99a8-baefdbbf9376",
   "metadata": {},
   "outputs": [
    {
     "name": "stdout",
     "output_type": "stream",
     "text": [
      "[2.5, 4.0, 8.0]\n"
     ]
    }
   ],
   "source": [
    "# hitung pakai package statistics\n",
    "print(statistics.quantiles(x, n=4, method='inclusive'))\n",
    "# n adalah yang menentukan datanya dibagi berapa quartile \n",
    "# kalau 4, dibagi 4, berarti kita dapat % ke 25,50,75\n",
    "# kalu 2, dibagi 2, berarti kita dapat % ke 50 \n",
    "\n",
    "# method exclusive default nya meng exclude data outlier \n",
    "# kalau inclusive maka semua data di include "
   ]
  },
  {
   "cell_type": "code",
   "execution_count": 47,
   "id": "73312c68-b9a9-4178-a86a-4ad37a2e398b",
   "metadata": {},
   "outputs": [
    {
     "name": "stdout",
     "output_type": "stream",
     "text": [
      "[2.5 4.  8. ]\n"
     ]
    }
   ],
   "source": [
    "# pakai numpy \n",
    "print(np.percentile(y, [25,50,75]))"
   ]
  },
  {
   "cell_type": "code",
   "execution_count": 48,
   "id": "706cadd9-491a-408f-90fe-b167ca0d3367",
   "metadata": {},
   "outputs": [
    {
     "name": "stdout",
     "output_type": "stream",
     "text": [
      "0.25    2.5\n",
      "0.50    4.0\n",
      "0.75    8.0\n",
      "dtype: float64\n"
     ]
    }
   ],
   "source": [
    "print(z.quantile([0.25, 0.50, 0.75]))"
   ]
  },
  {
   "cell_type": "markdown",
   "id": "72cabd51-00e8-40ff-9bb5-ff10e819545a",
   "metadata": {},
   "source": [
    "# Range "
   ]
  },
  {
   "cell_type": "code",
   "execution_count": 49,
   "id": "623689a2-d1ed-473f-bd0a-81d28a8be56e",
   "metadata": {},
   "outputs": [
    {
     "name": "stdout",
     "output_type": "stream",
     "text": [
      "27.0\n",
      "27.0\n",
      "27.0\n",
      "27.0\n"
     ]
    }
   ],
   "source": [
    "# pakai numpy \n",
    "print(np.ptp(y))\n",
    "\n",
    "# sedikit manual, max - min \n",
    "print(np.amax(y) - np.amin(y))\n",
    "print(np.max(y) - np.min(y))\n",
    "# pakai pandas \n",
    "print(z.max() - z.min())"
   ]
  },
  {
   "cell_type": "markdown",
   "id": "e7daa421-c978-450b-ae0a-a419db056a8f",
   "metadata": {},
   "source": [
    "# Interquartile Range"
   ]
  },
  {
   "cell_type": "markdown",
   "id": "d7d073f1-fff8-48ca-af99-71ae4d6da887",
   "metadata": {},
   "source": [
    "perbedaan quartile 3 dan quartile "
   ]
  },
  {
   "cell_type": "code",
   "execution_count": 50,
   "id": "d003512b-57f8-43d1-82ed-727e96871744",
   "metadata": {},
   "outputs": [
    {
     "name": "stdout",
     "output_type": "stream",
     "text": [
      "5.5\n",
      "5.5\n"
     ]
    }
   ],
   "source": [
    "# pakai numpy \n",
    "print(np.percentile(y,75) - np.percentile(y,25))\n",
    "\n",
    "# pakai cara pandas \n",
    "print(z.quantile(0.75) - z.quantile(0.25))"
   ]
  },
  {
   "cell_type": "markdown",
   "id": "dc9dcfe0-ffa6-474b-a2da-f06b5d04d294",
   "metadata": {},
   "source": [
    "# Descriptive Statistics    \n",
    "semua angkanya bisa dihitung sekaligus "
   ]
  },
  {
   "cell_type": "code",
   "execution_count": 51,
   "id": "f83417eb-08a1-45ae-a0e9-0059741fc7a4",
   "metadata": {},
   "outputs": [
    {
     "name": "stdout",
     "output_type": "stream",
     "text": [
      "DescribeResult(nobs=5, minmax=(1.0, 28.0), mean=8.7, variance=123.19999999999999, skewness=1.9470432273905927, kurtosis=3.878019618875446)\n"
     ]
    }
   ],
   "source": [
    "# scipy stats \n",
    "res = scipy.stats.describe(y, ddof=1, bias=False)\n",
    "print(res)"
   ]
  },
  {
   "cell_type": "code",
   "execution_count": 52,
   "id": "e1abd2aa-0596-4c90-9ef9-74ce0e74bb7a",
   "metadata": {},
   "outputs": [
    {
     "data": {
      "text/plain": [
       "count     5.00000\n",
       "mean      8.70000\n",
       "std      11.09955\n",
       "min       1.00000\n",
       "25%       2.50000\n",
       "50%       4.00000\n",
       "75%       8.00000\n",
       "max      28.00000\n",
       "dtype: float64"
      ]
     },
     "execution_count": 52,
     "metadata": {},
     "output_type": "execute_result"
    }
   ],
   "source": [
    "# pakai pandas describe \n",
    "z.describe()"
   ]
  },
  {
   "cell_type": "markdown",
   "id": "adac174b-a9a0-41db-bbb2-d90b03744bcd",
   "metadata": {},
   "source": [
    "# Correlation"
   ]
  },
  {
   "cell_type": "markdown",
   "id": "305d0a48-a40b-4678-b49a-23cc1effd7ec",
   "metadata": {},
   "source": [
    "### Covariance"
   ]
  },
  {
   "cell_type": "code",
   "execution_count": 53,
   "id": "b0fa48ed-0dae-47a9-9f66-26a6b068e474",
   "metadata": {},
   "outputs": [],
   "source": [
    "# contoh, bikin 2 set data \n",
    "x = list(range(-10,11))\n",
    "y = [0,2,2,2,2,3,3,6,7,4,7,6,6,9,4,5,5,10,11,12,14]\n",
    "\n",
    "xn = np.array(x)\n",
    "yn = np.array(y)\n",
    "\n",
    "xs = pd.Series(x)\n",
    "ys = pd.Series(y)"
   ]
  },
  {
   "cell_type": "code",
   "execution_count": 54,
   "id": "8b68787c-1ced-47a4-a322-c0499b3c1924",
   "metadata": {},
   "outputs": [
    {
     "data": {
      "text/plain": [
       "range(0, 5)"
      ]
     },
     "execution_count": 54,
     "metadata": {},
     "output_type": "execute_result"
    }
   ],
   "source": [
    "range(n)"
   ]
  },
  {
   "cell_type": "code",
   "execution_count": 56,
   "id": "955efcc2-bebe-4aae-85f1-dde1bd41c092",
   "metadata": {},
   "outputs": [
    {
     "name": "stdout",
     "output_type": "stream",
     "text": [
      "19.95\n"
     ]
    }
   ],
   "source": [
    "# cara manual \n",
    "n = len(x)\n",
    "mean_x = sum(x) / n\n",
    "mean_y = sum(y) / n \n",
    "cov_xy = sum((x[i] - mean_x) * (y[i]-mean_y)for i in range(n))/(n-1)\n",
    "print(cov_xy)"
   ]
  },
  {
   "cell_type": "code",
   "execution_count": 57,
   "id": "52ba11bb-afb0-4aa1-97fa-dea264bd0bf6",
   "metadata": {},
   "outputs": [
    {
     "name": "stdout",
     "output_type": "stream",
     "text": [
      "[[38.5        19.95      ]\n",
      " [19.95       13.91428571]]\n",
      "38.5\n",
      "13.914285714285711\n",
      "19.95\n"
     ]
    }
   ],
   "source": [
    "# cara numpy \n",
    "print(np.cov(xn, yn))\n",
    "# note kalau numpy punya cov ini kasih convariance matrix \n",
    "# dan untuk dapat cov_xy kita ambil yang di posisi [0,1] atau \n",
    "# yang di posisi [1,0]\n",
    "\n",
    "print(xn.var(ddof=1))\n",
    "print(yn.var(ddof=1))\n",
    "\n",
    "cov_xy = np.cov(xn, yn)[0,1]\n",
    "print(cov_xy)"
   ]
  },
  {
   "cell_type": "code",
   "execution_count": 58,
   "id": "8ce5cc13-d1cb-456d-b937-4dcf3d662731",
   "metadata": {},
   "outputs": [
    {
     "name": "stdout",
     "output_type": "stream",
     "text": [
      "19.95\n"
     ]
    }
   ],
   "source": [
    "# cara pandas \n",
    "print(xs.cov(ys))"
   ]
  },
  {
   "cell_type": "markdown",
   "id": "a5b369b9-ec73-4c25-ae70-43adb09337cf",
   "metadata": {},
   "source": [
    "# Correlation Coefficient"
   ]
  },
  {
   "cell_type": "code",
   "execution_count": 60,
   "id": "8882c510-727c-4e2d-9504-c7fefb3385bb",
   "metadata": {},
   "outputs": [
    {
     "name": "stdout",
     "output_type": "stream",
     "text": [
      "0.861950005631606\n"
     ]
    }
   ],
   "source": [
    "# cara manual \n",
    "# covariance tadi dibagi stc_x * std_y \n",
    "var_x = sum((i - mean_x)**2 for i in x)/ (len(x)-1)\n",
    "var_y = sum((i - mean_y)**2 for i in y)/ (len(y)-1)\n",
    "std_x, std_y = var_x ** 0.5, var_y ** 0.5\n",
    "r = cov_xy/ (std_x*std_y)\n",
    "print(r)"
   ]
  },
  {
   "cell_type": "code",
   "execution_count": 61,
   "id": "6628b685-97e7-46f8-bd72-36c6809d9b06",
   "metadata": {},
   "outputs": [
    {
     "name": "stdout",
     "output_type": "stream",
     "text": [
      "0.861950005631606\n"
     ]
    }
   ],
   "source": [
    "# pakai scipy stats, dengan numpy array \n",
    "r,p = scipy.stats.pearsonr(xn, yn)\n",
    "print(r)"
   ]
  },
  {
   "cell_type": "code",
   "execution_count": 62,
   "id": "053b8ab5-6829-4dd5-beb5-176c3d872a8f",
   "metadata": {},
   "outputs": [
    {
     "name": "stdout",
     "output_type": "stream",
     "text": [
      "0.8619500056316061\n"
     ]
    }
   ],
   "source": [
    "# pakai numpy punya .corrcoef()\n",
    "print(np.corrcoef(xn, yn)[0,1])"
   ]
  },
  {
   "cell_type": "code",
   "execution_count": 63,
   "id": "0eecfe68-051d-416d-8570-1eab96342e54",
   "metadata": {},
   "outputs": [
    {
     "name": "stdout",
     "output_type": "stream",
     "text": [
      "0.8619500056316061\n"
     ]
    }
   ],
   "source": [
    "# pakai pandas \n",
    "print(xs.corr(ys))"
   ]
  },
  {
   "cell_type": "markdown",
   "id": "083d3d16-47a4-4d8c-ac3b-16ad4e1b8c59",
   "metadata": {},
   "source": [
    "# Mencoba Descriptive Statistics dengan Data 2D"
   ]
  },
  {
   "cell_type": "code",
   "execution_count": 3,
   "id": "a0fd642c-86d8-4e20-8531-25a075b0e5eb",
   "metadata": {},
   "outputs": [
    {
     "name": "stdout",
     "output_type": "stream",
     "text": [
      "[[ 1  1  1]\n",
      " [ 2  3  1]\n",
      " [ 4  9  2]\n",
      " [ 8 27  4]\n",
      " [16  1  1]]\n"
     ]
    }
   ],
   "source": [
    "a = np.array ([[1,1,1],\n",
    "             [2,3,1],\n",
    "             [4,9,2],\n",
    "             [8,27,4],\n",
    "             [16,1,1],])\n",
    "print(a)"
   ]
  },
  {
   "cell_type": "code",
   "execution_count": 65,
   "id": "36e9ffc4-c1a0-4dbe-955c-fd835efce777",
   "metadata": {},
   "outputs": [
    {
     "name": "stdout",
     "output_type": "stream",
     "text": [
      "5.4\n",
      "2.0\n",
      "53.40000000000001\n"
     ]
    }
   ],
   "source": [
    "print(np.mean(a))\n",
    "print(np.median(a))\n",
    "print(a.var(ddof=1))"
   ]
  },
  {
   "cell_type": "code",
   "execution_count": 5,
   "id": "c54e7cf8-62e2-4100-9733-019b16810d7c",
   "metadata": {},
   "outputs": [
    {
     "name": "stdout",
     "output_type": "stream",
     "text": [
      "[6.2 8.2 1.8]\n",
      "[4. 3. 1.]\n",
      "[ 37.2 121.2   1.7]\n"
     ]
    }
   ],
   "source": [
    "print(np.mean(a, axis=0))\n",
    "print(np.median(a, axis=0))\n",
    "print(a.var(ddof=1, axis=0))"
   ]
  },
  {
   "cell_type": "code",
   "execution_count": 6,
   "id": "6a592572-d800-4be9-a7ed-489c8063fb97",
   "metadata": {},
   "outputs": [
    {
     "name": "stdout",
     "output_type": "stream",
     "text": [
      "[ 1.  2.  5. 13.  6.]\n",
      "[1. 2. 4. 8. 1.]\n",
      "[  0.   1.  13. 151.  75.]\n"
     ]
    }
   ],
   "source": [
    "print(np.mean(a, axis=1))\n",
    "print(np.median(a, axis=1))\n",
    "print(a.var(ddof=1, axis=1))"
   ]
  },
  {
   "cell_type": "code",
   "execution_count": 7,
   "id": "f6f6d76c-24c4-4486-af0b-44cec2075ca0",
   "metadata": {},
   "outputs": [
    {
     "name": "stdout",
     "output_type": "stream",
     "text": [
      "[4.         3.73719282 1.51571657]\n",
      "[1.         1.81712059 4.16016765 9.52440631 2.5198421 ]\n",
      "2.829705017016332\n"
     ]
    }
   ],
   "source": [
    "# geometric mean kita minta bantuan scipy stats\n",
    "print(scipy.stats.gmean(a, axis=0))\n",
    "print(scipy.stats.gmean(a, axis=1))\n",
    "print(scipy.stats.gmean(a, axis=None))"
   ]
  },
  {
   "cell_type": "code",
   "execution_count": 8,
   "id": "2111e975-d4ba-4c00-ab16-f2ee4a3e07c7",
   "metadata": {},
   "outputs": [
    {
     "name": "stdout",
     "output_type": "stream",
     "text": [
      "DescribeResult(nobs=5, minmax=(array([1, 1, 1]), array([16, 27,  4])), mean=array([6.2, 8.2, 1.8]), variance=array([ 37.2, 121.2,   1.7]), skewness=array([1.32531471, 1.79809454, 1.71439233]), kurtosis=array([1.30376344, 3.14969121, 2.66435986]))\n",
      "DescribeResult(nobs=3, minmax=(array([1, 1, 2, 4, 1]), array([ 1,  3,  9, 27, 16])), mean=array([ 1.,  2.,  5., 13.,  6.]), variance=array([  0.,   1.,  13., 151.,  75.]), skewness=array([0.        , 0.        , 1.15206964, 1.52787436, 1.73205081]), kurtosis=array([-3. , -1.5, -1.5, -1.5, -1.5]))\n",
      "DescribeResult(nobs=15, minmax=(1, 27), mean=5.4, variance=53.40000000000001, skewness=2.264965290423389, kurtosis=5.212690982795767)\n"
     ]
    }
   ],
   "source": [
    "# angka deskriptif statistik lainnya\n",
    "print(scipy.stats.describe(a, axis=0, ddof=1, bias=False))\n",
    "print(scipy.stats.describe(a, axis=1, ddof=1, bias=False))\n",
    "print(scipy.stats.describe(a, axis=None, ddof=1, bias=False))"
   ]
  },
  {
   "cell_type": "markdown",
   "id": "18c747bb-e734-49ad-adac-1793de831ea4",
   "metadata": {},
   "source": [
    "# scipy.stats.describe punya:   \n",
    "\n",
    "    nobs\n",
    "    minmax\n",
    "    mean\n",
    "    variance\n",
    "    skewness\n",
    "    kurtosis"
   ]
  },
  {
   "cell_type": "code",
   "execution_count": 9,
   "id": "a8e2939e-e2ff-42ed-92c4-79f1139ecb83",
   "metadata": {},
   "outputs": [
    {
     "data": {
      "text/plain": [
       "53.40000000000001"
      ]
     },
     "execution_count": 9,
     "metadata": {},
     "output_type": "execute_result"
    }
   ],
   "source": [
    "scipy.stats.describe(a, axis=None, ddof=1, bias=False).variance"
   ]
  },
  {
   "cell_type": "code",
   "execution_count": 10,
   "id": "c327d2f7-0a6a-455a-9b3c-c788667f875a",
   "metadata": {},
   "outputs": [
    {
     "data": {
      "text/html": [
       "<div>\n",
       "<style scoped>\n",
       "    .dataframe tbody tr th:only-of-type {\n",
       "        vertical-align: middle;\n",
       "    }\n",
       "\n",
       "    .dataframe tbody tr th {\n",
       "        vertical-align: top;\n",
       "    }\n",
       "\n",
       "    .dataframe thead th {\n",
       "        text-align: right;\n",
       "    }\n",
       "</style>\n",
       "<table border=\"1\" class=\"dataframe\">\n",
       "  <thead>\n",
       "    <tr style=\"text-align: right;\">\n",
       "      <th></th>\n",
       "      <th>A</th>\n",
       "      <th>B</th>\n",
       "      <th>C</th>\n",
       "    </tr>\n",
       "  </thead>\n",
       "  <tbody>\n",
       "    <tr>\n",
       "      <th>first</th>\n",
       "      <td>1</td>\n",
       "      <td>1</td>\n",
       "      <td>1</td>\n",
       "    </tr>\n",
       "    <tr>\n",
       "      <th>second</th>\n",
       "      <td>2</td>\n",
       "      <td>3</td>\n",
       "      <td>1</td>\n",
       "    </tr>\n",
       "    <tr>\n",
       "      <th>third</th>\n",
       "      <td>4</td>\n",
       "      <td>9</td>\n",
       "      <td>2</td>\n",
       "    </tr>\n",
       "    <tr>\n",
       "      <th>fourth</th>\n",
       "      <td>8</td>\n",
       "      <td>27</td>\n",
       "      <td>4</td>\n",
       "    </tr>\n",
       "    <tr>\n",
       "      <th>fifth</th>\n",
       "      <td>16</td>\n",
       "      <td>1</td>\n",
       "      <td>1</td>\n",
       "    </tr>\n",
       "  </tbody>\n",
       "</table>\n",
       "</div>"
      ],
      "text/plain": [
       "         A   B  C\n",
       "first    1   1  1\n",
       "second   2   3  1\n",
       "third    4   9  2\n",
       "fourth   8  27  4\n",
       "fifth   16   1  1"
      ]
     },
     "execution_count": 10,
     "metadata": {},
     "output_type": "execute_result"
    }
   ],
   "source": [
    "row_names = [\"first\", \"second\", \"third\", \"fourth\", \"fifth\"]\n",
    "df = pd.DataFrame(a, index=row_names, columns=[\"A\",\"B\",\"C\"])\n",
    "df"
   ]
  },
  {
   "cell_type": "code",
   "execution_count": 11,
   "id": "15c656de-8de2-4d1c-b571-a357b4c7fe41",
   "metadata": {},
   "outputs": [
    {
     "name": "stdout",
     "output_type": "stream",
     "text": [
      "A    6.2\n",
      "B    8.2\n",
      "C    1.8\n",
      "dtype: float64\n",
      "A     37.2\n",
      "B    121.2\n",
      "C      1.7\n",
      "dtype: float64\n"
     ]
    }
   ],
   "source": [
    "print(df.mean())\n",
    "print(df.var())"
   ]
  },
  {
   "cell_type": "code",
   "execution_count": 12,
   "id": "06c68ec1-a147-4ccf-986e-c0c11445cf0a",
   "metadata": {},
   "outputs": [
    {
     "name": "stdout",
     "output_type": "stream",
     "text": [
      "A    6.2\n",
      "B    8.2\n",
      "C    1.8\n",
      "dtype: float64\n",
      "A     37.2\n",
      "B    121.2\n",
      "C      1.7\n",
      "dtype: float64\n"
     ]
    }
   ],
   "source": [
    "print(df.mean(axis=0))\n",
    "print(df.var(axis=0))"
   ]
  },
  {
   "cell_type": "code",
   "execution_count": 13,
   "id": "b780079a-325e-4c8e-8ee9-e17d03886dd7",
   "metadata": {},
   "outputs": [
    {
     "name": "stdout",
     "output_type": "stream",
     "text": [
      "first      1.0\n",
      "second     2.0\n",
      "third      5.0\n",
      "fourth    13.0\n",
      "fifth      6.0\n",
      "dtype: float64\n",
      "first       0.0\n",
      "second      1.0\n",
      "third      13.0\n",
      "fourth    151.0\n",
      "fifth      75.0\n",
      "dtype: float64\n"
     ]
    }
   ],
   "source": [
    "print(df.mean(axis=1))\n",
    "print(df.var(axis=1))"
   ]
  },
  {
   "cell_type": "code",
   "execution_count": 14,
   "id": "5b5e4f3b-0d48-4626-b224-d469661c6ae5",
   "metadata": {},
   "outputs": [
    {
     "name": "stdout",
     "output_type": "stream",
     "text": [
      "              A          B        C\n",
      "count   5.00000   5.000000  5.00000\n",
      "mean    6.20000   8.200000  1.80000\n",
      "std     6.09918  11.009087  1.30384\n",
      "min     1.00000   1.000000  1.00000\n",
      "25%     2.00000   1.000000  1.00000\n",
      "50%     4.00000   3.000000  1.00000\n",
      "75%     8.00000   9.000000  2.00000\n",
      "max    16.00000  27.000000  4.00000\n"
     ]
    }
   ],
   "source": [
    "print(df.describe())"
   ]
  },
  {
   "cell_type": "code",
   "execution_count": 15,
   "id": "30f40571-18dc-40ff-914c-e224610da2c0",
   "metadata": {},
   "outputs": [
    {
     "data": {
      "text/plain": [
       "11.009087155618309"
      ]
     },
     "execution_count": 15,
     "metadata": {},
     "output_type": "execute_result"
    }
   ],
   "source": [
    "# ambil satu angka dari hasil describe pandas\n",
    "df.describe().at['std', 'B']"
   ]
  },
  {
   "cell_type": "code",
   "execution_count": null,
   "id": "10a4c912-92f9-4f83-8c6d-1263781159b5",
   "metadata": {},
   "outputs": [],
   "source": []
  }
 ],
 "metadata": {
  "kernelspec": {
   "display_name": "Python 3",
   "language": "python",
   "name": "python3"
  },
  "language_info": {
   "codemirror_mode": {
    "name": "ipython",
    "version": 3
   },
   "file_extension": ".py",
   "mimetype": "text/x-python",
   "name": "python",
   "nbconvert_exporter": "python",
   "pygments_lexer": "ipython3",
   "version": "3.8.8"
  }
 },
 "nbformat": 4,
 "nbformat_minor": 5
}
