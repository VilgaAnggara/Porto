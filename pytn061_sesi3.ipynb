{
 "cells": [
  {
   "cell_type": "markdown",
   "id": "e55dd1f7-1a00-4567-a469-0d4bbf0c5479",
   "metadata": {},
   "source": [
    "# Function"
   ]
  },
  {
   "cell_type": "code",
   "execution_count": 1,
   "id": "17f92cca-3c59-481c-8442-dc1acfa84d6f",
   "metadata": {},
   "outputs": [],
   "source": [
    "def menyapa(): \n",
    "    while True : \n",
    "        message = input(\"ketik karakter: \").lower()\n",
    "        print(message)\n",
    "        if (message == 'stop'):\n",
    "            break;"
   ]
  },
  {
   "cell_type": "code",
   "execution_count": 2,
   "id": "da4e8760-235c-4844-8e26-79bc47821e7f",
   "metadata": {},
   "outputs": [
    {
     "name": "stdin",
     "output_type": "stream",
     "text": [
      "ketik karakter:  stop\n"
     ]
    },
    {
     "name": "stdout",
     "output_type": "stream",
     "text": [
      "stop\n"
     ]
    }
   ],
   "source": [
    "menyapa()"
   ]
  },
  {
   "cell_type": "code",
   "execution_count": 3,
   "id": "dc36e754-5c87-46b9-b113-5ce9827265cb",
   "metadata": {},
   "outputs": [
    {
     "name": "stdin",
     "output_type": "stream",
     "text": [
      "ketik karakter:  hallo word\n"
     ]
    },
    {
     "name": "stdout",
     "output_type": "stream",
     "text": [
      "hallo word\n"
     ]
    },
    {
     "name": "stdin",
     "output_type": "stream",
     "text": [
      "ketik karakter:  vilga anggara stop\n"
     ]
    },
    {
     "name": "stdout",
     "output_type": "stream",
     "text": [
      "vilga anggara stop\n"
     ]
    },
    {
     "name": "stdin",
     "output_type": "stream",
     "text": [
      "ketik karakter:  stop\n"
     ]
    },
    {
     "name": "stdout",
     "output_type": "stream",
     "text": [
      "stop\n"
     ]
    }
   ],
   "source": [
    "menyapa()"
   ]
  },
  {
   "cell_type": "code",
   "execution_count": 4,
   "id": "54fe98dc-598c-4b1f-b99c-d6291b70f891",
   "metadata": {},
   "outputs": [],
   "source": [
    "def menyapaNama(nama):\n",
    "    while True : \n",
    "        message = input(\"ketik karakter: \").lower()\n",
    "        print(message)\n",
    "        if (message == 'stop'):\n",
    "            break;"
   ]
  },
  {
   "cell_type": "code",
   "execution_count": 5,
   "id": "e5c98319-d827-4a7f-9bf7-b1c0eab16fb9",
   "metadata": {},
   "outputs": [
    {
     "name": "stdin",
     "output_type": "stream",
     "text": [
      "ketik karakter:  stop\n"
     ]
    },
    {
     "name": "stdout",
     "output_type": "stream",
     "text": [
      "stop\n"
     ]
    }
   ],
   "source": [
    "menyapaNama(\"vilga\")"
   ]
  },
  {
   "cell_type": "code",
   "execution_count": 6,
   "id": "02e1eb3e-e103-4943-a02d-29782c9e7956",
   "metadata": {},
   "outputs": [],
   "source": [
    "def heloo(nama,waktu):\n",
    "    print(\"selamat\", waktu, nama)"
   ]
  },
  {
   "cell_type": "code",
   "execution_count": 7,
   "id": "eab0dd46-153c-4131-a54c-2ade709359f9",
   "metadata": {},
   "outputs": [
    {
     "name": "stdout",
     "output_type": "stream",
     "text": [
      "selamat malam vilga\n"
     ]
    }
   ],
   "source": [
    "heloo(\"vilga\",\"malam\")"
   ]
  },
  {
   "cell_type": "code",
   "execution_count": 8,
   "id": "aa63fcd0-4310-4f4d-8be5-f6efae653ded",
   "metadata": {},
   "outputs": [
    {
     "ename": "TypeError",
     "evalue": "heloo() missing 2 required positional arguments: 'nama' and 'waktu'",
     "output_type": "error",
     "traceback": [
      "\u001b[1;31m---------------------------------------------------------------------------\u001b[0m",
      "\u001b[1;31mTypeError\u001b[0m                                 Traceback (most recent call last)",
      "\u001b[1;32m<ipython-input-8-c7fd93f5fa3c>\u001b[0m in \u001b[0;36m<module>\u001b[1;34m\u001b[0m\n\u001b[1;32m----> 1\u001b[1;33m \u001b[0mheloo\u001b[0m\u001b[1;33m(\u001b[0m\u001b[1;33m)\u001b[0m\u001b[1;33m\u001b[0m\u001b[1;33m\u001b[0m\u001b[0m\n\u001b[0m",
      "\u001b[1;31mTypeError\u001b[0m: heloo() missing 2 required positional arguments: 'nama' and 'waktu'"
     ]
    }
   ],
   "source": [
    "heloo()"
   ]
  },
  {
   "cell_type": "code",
   "execution_count": 9,
   "id": "af1cec11-6f66-4e49-a91c-67796a07361e",
   "metadata": {},
   "outputs": [
    {
     "name": "stdout",
     "output_type": "stream",
     "text": [
      "selamat 2 1\n"
     ]
    }
   ],
   "source": [
    "heloo(\"1\",2)"
   ]
  },
  {
   "cell_type": "markdown",
   "id": "7c2459cc-a8db-43e7-b8d6-80e90fc72323",
   "metadata": {},
   "source": [
    "## return in function"
   ]
  },
  {
   "cell_type": "code",
   "execution_count": 10,
   "id": "5e13af46-2dde-442b-9c52-a6f442ad3299",
   "metadata": {},
   "outputs": [
    {
     "name": "stdout",
     "output_type": "stream",
     "text": [
      "selamat siang adi\n",
      "None\n"
     ]
    }
   ],
   "source": [
    "hasil = heloo(\"adi\",\"siang\")\n",
    "print(hasil)"
   ]
  },
  {
   "cell_type": "code",
   "execution_count": 17,
   "id": "eec2899f-5d86-42d1-80af-bf6626c440b7",
   "metadata": {},
   "outputs": [],
   "source": [
    "def menulis(nama,waktu):\n",
    "    return \"selamat\" + \" \" + waktu + \" \" + nama "
   ]
  },
  {
   "cell_type": "code",
   "execution_count": 18,
   "id": "e84ebf92-bfe4-4bc9-922f-60bc3f5b6a12",
   "metadata": {},
   "outputs": [
    {
     "data": {
      "text/plain": [
       "'selamat malam vilga'"
      ]
     },
     "execution_count": 18,
     "metadata": {},
     "output_type": "execute_result"
    }
   ],
   "source": [
    "menulis(\"vilga\",\"malam\")"
   ]
  },
  {
   "cell_type": "code",
   "execution_count": 19,
   "id": "b32b1ec5-409e-426b-a6e1-f167ea30d28b",
   "metadata": {},
   "outputs": [
    {
     "name": "stdout",
     "output_type": "stream",
     "text": [
      "selamat sore banu\n"
     ]
    }
   ],
   "source": [
    "hasil = menulis(\"banu\",\"sore\")\n",
    "print(hasil)"
   ]
  },
  {
   "cell_type": "code",
   "execution_count": 35,
   "id": "b902ce86-a150-4b86-9a39-a9a5cb9d5ca1",
   "metadata": {},
   "outputs": [],
   "source": [
    "def cekGanjilGenap(angka):\n",
    "    if(angka % 2 == 0):\n",
    "        print(\"genap\")\n",
    "    else:\n",
    "        print(\"ganjil\")"
   ]
  },
  {
   "cell_type": "code",
   "execution_count": 36,
   "id": "6eda8543-75c4-4ed1-9c18-bacc74cd6093",
   "metadata": {},
   "outputs": [
    {
     "name": "stdout",
     "output_type": "stream",
     "text": [
      "genap\n"
     ]
    }
   ],
   "source": [
    "cekGanjilGenap(1998)"
   ]
  },
  {
   "cell_type": "code",
   "execution_count": 37,
   "id": "e17955a4-bdeb-4497-82de-461ef0b65f90",
   "metadata": {},
   "outputs": [
    {
     "name": "stdout",
     "output_type": "stream",
     "text": [
      "ganjil\n",
      "None\n"
     ]
    }
   ],
   "source": [
    "print(cekGanjilGenap(1999))"
   ]
  },
  {
   "cell_type": "code",
   "execution_count": 38,
   "id": "9c9d319d-d5a5-4e90-98fa-881c6425d6cc",
   "metadata": {},
   "outputs": [
    {
     "name": "stdout",
     "output_type": "stream",
     "text": [
      "ganjil\n",
      "kena tilang\n"
     ]
    }
   ],
   "source": [
    "hari_ini = \"genap\"\n",
    "if (hari_ini != cekGanjilGenap(2021)):\n",
    "    print(\"kena tilang\")"
   ]
  },
  {
   "cell_type": "code",
   "execution_count": 39,
   "id": "ccd5193c-1c50-48a0-8408-5b63bb30e799",
   "metadata": {},
   "outputs": [],
   "source": [
    "def helloWorld():\n",
    "    print(\"hello world\")"
   ]
  },
  {
   "cell_type": "code",
   "execution_count": 41,
   "id": "3a48c99f-0380-4bec-a6b8-568058a808b4",
   "metadata": {},
   "outputs": [
    {
     "name": "stdout",
     "output_type": "stream",
     "text": [
      "hello world\n",
      "None\n"
     ]
    }
   ],
   "source": [
    "x = helloWorld()\n",
    "print(x)"
   ]
  },
  {
   "cell_type": "markdown",
   "id": "a49af7ea-e83e-462a-be46-fe09f3ad0250",
   "metadata": {},
   "source": [
    "# Pass by Reference vs Pass by Value"
   ]
  },
  {
   "cell_type": "code",
   "execution_count": 34,
   "id": "4d18a2da-97c3-4467-b213-98bb2f8cd552",
   "metadata": {},
   "outputs": [
    {
     "name": "stdout",
     "output_type": "stream",
     "text": [
      "80 5\n",
      "400\n"
     ]
    }
   ],
   "source": [
    "a = 10\n",
    "b = a \n",
    "b = 100 \n",
    "\n",
    "def perkalian(angka1,angka2):\n",
    "    angka1 = 80\n",
    "    print(angka1,angka2)\n",
    "    return angka1 * angka2 \n",
    "hasil = perkalian(5,5)\n",
    "print(hasil)"
   ]
  },
  {
   "cell_type": "code",
   "execution_count": 45,
   "id": "a23a1139-f0d8-43a0-ad91-8e0a6a71d6ba",
   "metadata": {},
   "outputs": [
    {
     "name": "stdout",
     "output_type": "stream",
     "text": [
      "['apel', 'nanas', 'nangka']\n",
      "['apel', 'nanas', 'nangka', 'duku']\n",
      "['apel', 'nanas', 'nangka', 'duku']\n"
     ]
    }
   ],
   "source": [
    "list_buah = [\"apel\", \"nanas\", \"nangka\"]\n",
    "\n",
    "def nambah(l,b):\n",
    "    print(l)\n",
    "    l.append (b)\n",
    "    print(l)\n",
    "\n",
    "nambah(list_buah, \"duku\")\n",
    "print(list_buah)"
   ]
  },
  {
   "cell_type": "code",
   "execution_count": 46,
   "id": "67912a77-8e5d-4b1a-9bd8-e5e88eacb00e",
   "metadata": {},
   "outputs": [
    {
     "name": "stdout",
     "output_type": "stream",
     "text": [
      "['jeruk', 'anggur', 'pepaya', 'nanas']\n",
      "['jeruk', 'anggur', 'pepaya', 'nanas']\n"
     ]
    }
   ],
   "source": [
    "list_buah = [\"jeruk\", \"anggur\", \"pepaya\"]\n",
    "list_baru = list_buah\n",
    "list_baru.append(\"nanas\")\n",
    "print(list_buah)\n",
    "print(list_baru)"
   ]
  },
  {
   "cell_type": "code",
   "execution_count": 49,
   "id": "42ff580a-aca1-48f9-990e-e3fc8a0eed74",
   "metadata": {},
   "outputs": [
    {
     "name": "stdout",
     "output_type": "stream",
     "text": [
      "['semangka', 'melon']\n",
      "['semangka', 'melon', 'duku']\n",
      "['semangka', 'melon']\n"
     ]
    }
   ],
   "source": [
    "# teknik deep copy \n",
    "list_buah = [\"semangka\", \"melon\"]\n",
    "\n",
    "def nambah(l,b):\n",
    "    l_baru = []\n",
    "    for item in l:\n",
    "        l_baru.append(item)\n",
    "    print(l_baru)\n",
    "    l_baru.append(b)\n",
    "    print(l_baru)\n",
    "    \n",
    "nambah(list_buah, \"duku\")\n",
    "print(list_buah)"
   ]
  },
  {
   "cell_type": "markdown",
   "id": "2fcd090e-58b4-4d1f-9fda-abda25062def",
   "metadata": {},
   "source": [
    "## Tipe Tipe Argument Function"
   ]
  },
  {
   "cell_type": "code",
   "execution_count": 50,
   "id": "013e17ef-31b4-44dd-8d64-c292e447851a",
   "metadata": {},
   "outputs": [],
   "source": [
    "# required\n",
    "# keyword\n",
    "# default \n",
    "# variabel length"
   ]
  },
  {
   "cell_type": "code",
   "execution_count": 51,
   "id": "216a4830-4292-41b9-aefa-610ef590e796",
   "metadata": {},
   "outputs": [
    {
     "ename": "TypeError",
     "evalue": "hello() missing 2 required positional arguments: 'nama' and 'waktu'",
     "output_type": "error",
     "traceback": [
      "\u001b[1;31m---------------------------------------------------------------------------\u001b[0m",
      "\u001b[1;31mTypeError\u001b[0m                                 Traceback (most recent call last)",
      "\u001b[1;32m<ipython-input-51-52852f681207>\u001b[0m in \u001b[0;36m<module>\u001b[1;34m\u001b[0m\n\u001b[0;32m      3\u001b[0m     \u001b[0mprint\u001b[0m\u001b[1;33m(\u001b[0m\u001b[1;34m\"selamat\"\u001b[0m\u001b[1;33m,\u001b[0m \u001b[0mwaktu\u001b[0m\u001b[1;33m,\u001b[0m \u001b[0mnama\u001b[0m\u001b[1;33m)\u001b[0m\u001b[1;33m\u001b[0m\u001b[1;33m\u001b[0m\u001b[0m\n\u001b[0;32m      4\u001b[0m \u001b[1;33m\u001b[0m\u001b[0m\n\u001b[1;32m----> 5\u001b[1;33m \u001b[0mhello\u001b[0m\u001b[1;33m(\u001b[0m\u001b[1;33m)\u001b[0m\u001b[1;33m\u001b[0m\u001b[1;33m\u001b[0m\u001b[0m\n\u001b[0m",
      "\u001b[1;31mTypeError\u001b[0m: hello() missing 2 required positional arguments: 'nama' and 'waktu'"
     ]
    }
   ],
   "source": [
    "# required - harus ada \n",
    "def hello(nama,waktu):\n",
    "    print(\"selamat\", waktu, nama)\n",
    "    \n",
    "hello()"
   ]
  },
  {
   "cell_type": "code",
   "execution_count": 52,
   "id": "f37120e2-b4d3-477f-9000-7b040960d6bb",
   "metadata": {},
   "outputs": [
    {
     "name": "stdout",
     "output_type": "stream",
     "text": [
      "selamat pagi vilga\n"
     ]
    }
   ],
   "source": [
    "# keyword - argumennya bisa kita isi secara tidak urut\n",
    "def hello(nama,waktu):\n",
    "    print(\"selamat\", waktu, nama)\n",
    "    \n",
    "hello(waktu = \"pagi\", nama = \"vilga\")"
   ]
  },
  {
   "cell_type": "code",
   "execution_count": 53,
   "id": "5a342230-34b3-465a-9da6-36afe2d3ef87",
   "metadata": {},
   "outputs": [
    {
     "name": "stdout",
     "output_type": "stream",
     "text": [
      "selamat siang vilga\n",
      "selamat malam tata\n",
      "selamat malam anda\n"
     ]
    }
   ],
   "source": [
    "# default - argumennya bisa kita isi secara default \n",
    "def hello(nama = \"anda\", waktu = \"malam\"):\n",
    "    print(\"selamat\", waktu, nama)\n",
    "    \n",
    "hello(\"vilga\", \"siang\")\n",
    "hello(\"tata\")\n",
    "hello()"
   ]
  },
  {
   "cell_type": "code",
   "execution_count": 57,
   "id": "0eb5ffad-6a42-4777-acbf-750ff63d7684",
   "metadata": {},
   "outputs": [
    {
     "name": "stdout",
     "output_type": "stream",
     "text": [
      "('budi', 'banu', 'pipit', 'ani')\n",
      "selamat pagi budi\n",
      "selamat pagi banu\n",
      "selamat pagi pipit\n",
      "selamat pagi ani\n"
     ]
    }
   ],
   "source": [
    "# variabel length - jumlah variabel bisa 0-sebanyak terserah \n",
    "def hello(*nama,waktu =\"pagi\"):\n",
    "    print(nama)\n",
    "    for n in nama:\n",
    "        print(\"selamat\", waktu, n)\n",
    "hello(\"budi\", \"banu\", \"pipit\", \"ani\")"
   ]
  },
  {
   "cell_type": "markdown",
   "id": "f4b3c66a-32fa-4f08-8225-ae289d62507f",
   "metadata": {},
   "source": [
    "# Lambda Function"
   ]
  },
  {
   "cell_type": "code",
   "execution_count": 58,
   "id": "f4ee3888-2182-4cd3-8e1c-0783e2502252",
   "metadata": {},
   "outputs": [],
   "source": [
    "x = lambda a1, a2, a3: a1 + a2 + a3"
   ]
  },
  {
   "cell_type": "code",
   "execution_count": 59,
   "id": "67b811c2-c7ac-4665-a882-2fcc305adcfc",
   "metadata": {},
   "outputs": [
    {
     "data": {
      "text/plain": [
       "6"
      ]
     },
     "execution_count": 59,
     "metadata": {},
     "output_type": "execute_result"
    }
   ],
   "source": [
    "x(1,2,3)"
   ]
  },
  {
   "cell_type": "code",
   "execution_count": 60,
   "id": "ecf8a9eb-7e12-4a7b-a878-24f0a7aa60bb",
   "metadata": {},
   "outputs": [
    {
     "data": {
      "text/plain": [
       "15"
      ]
     },
     "execution_count": 60,
     "metadata": {},
     "output_type": "execute_result"
    }
   ],
   "source": [
    "def a(n):\n",
    "    def b(m):\n",
    "        return m * n\n",
    "    return b(5)\n",
    "a(3)"
   ]
  },
  {
   "cell_type": "code",
   "execution_count": 61,
   "id": "94796baf-b1fa-4d17-812e-a7004943d8be",
   "metadata": {},
   "outputs": [
    {
     "data": {
      "text/plain": [
       "45"
      ]
     },
     "execution_count": 61,
     "metadata": {},
     "output_type": "execute_result"
    }
   ],
   "source": [
    "a(9)"
   ]
  },
  {
   "cell_type": "markdown",
   "id": "5038f5b0-a6c8-48be-afaf-e9a212e49831",
   "metadata": {},
   "source": [
    "# scope variabel "
   ]
  },
  {
   "cell_type": "code",
   "execution_count": 3,
   "id": "4de09b00-41c6-4c90-a2d8-b9ac35aa6047",
   "metadata": {},
   "outputs": [
    {
     "name": "stdout",
     "output_type": "stream",
     "text": [
      "hello 1\n"
     ]
    },
    {
     "ename": "NameError",
     "evalue": "name 'num' is not defined",
     "output_type": "error",
     "traceback": [
      "\u001b[1;31m---------------------------------------------------------------------------\u001b[0m",
      "\u001b[1;31mNameError\u001b[0m                                 Traceback (most recent call last)",
      "\u001b[1;32m<ipython-input-3-a565ec3ed41a>\u001b[0m in \u001b[0;36m<module>\u001b[1;34m\u001b[0m\n\u001b[0;32m      8\u001b[0m \u001b[1;33m\u001b[0m\u001b[0m\n\u001b[0;32m      9\u001b[0m \u001b[0mhello\u001b[0m\u001b[1;33m(\u001b[0m\u001b[1;33m)\u001b[0m\u001b[1;33m\u001b[0m\u001b[1;33m\u001b[0m\u001b[0m\n\u001b[1;32m---> 10\u001b[1;33m \u001b[0mhello2\u001b[0m\u001b[1;33m(\u001b[0m\u001b[1;33m)\u001b[0m\u001b[1;33m\u001b[0m\u001b[1;33m\u001b[0m\u001b[0m\n\u001b[0m",
      "\u001b[1;32m<ipython-input-3-a565ec3ed41a>\u001b[0m in \u001b[0;36mhello2\u001b[1;34m()\u001b[0m\n\u001b[0;32m      5\u001b[0m \u001b[1;32mdef\u001b[0m \u001b[0mhello2\u001b[0m\u001b[1;33m(\u001b[0m\u001b[1;33m)\u001b[0m\u001b[1;33m:\u001b[0m\u001b[1;33m\u001b[0m\u001b[1;33m\u001b[0m\u001b[0m\n\u001b[0;32m      6\u001b[0m     \u001b[0mangka\u001b[0m \u001b[1;33m=\u001b[0m \u001b[1;36m9\u001b[0m\u001b[1;33m\u001b[0m\u001b[1;33m\u001b[0m\u001b[0m\n\u001b[1;32m----> 7\u001b[1;33m     \u001b[0mprint\u001b[0m\u001b[1;33m(\u001b[0m\u001b[1;34m\"hello\"\u001b[0m\u001b[1;33m,\u001b[0m\u001b[0mnum\u001b[0m\u001b[1;33m)\u001b[0m\u001b[1;33m\u001b[0m\u001b[1;33m\u001b[0m\u001b[0m\n\u001b[0m\u001b[0;32m      8\u001b[0m \u001b[1;33m\u001b[0m\u001b[0m\n\u001b[0;32m      9\u001b[0m \u001b[0mhello\u001b[0m\u001b[1;33m(\u001b[0m\u001b[1;33m)\u001b[0m\u001b[1;33m\u001b[0m\u001b[1;33m\u001b[0m\u001b[0m\n",
      "\u001b[1;31mNameError\u001b[0m: name 'num' is not defined"
     ]
    }
   ],
   "source": [
    "def hello():\n",
    "    num = 1\n",
    "    print(\"hello\",num)\n",
    "    \n",
    "def hello2():\n",
    "    angka = 9\n",
    "    print(\"hello\",num)\n",
    "    \n",
    "hello()\n",
    "hello2()"
   ]
  },
  {
   "cell_type": "code",
   "execution_count": 4,
   "id": "47c338f2-5c17-4487-a708-c803b2cbae8c",
   "metadata": {},
   "outputs": [],
   "source": [
    "global_nama = \"vilga\""
   ]
  },
  {
   "cell_type": "code",
   "execution_count": 5,
   "id": "af3e58c6-063f-488e-b2c8-9fe487f6388d",
   "metadata": {},
   "outputs": [
    {
     "name": "stdout",
     "output_type": "stream",
     "text": [
      "vilga\n"
     ]
    }
   ],
   "source": [
    "def hello3():\n",
    "    print(global_nama)\n",
    "    \n",
    "hello3()"
   ]
  },
  {
   "cell_type": "markdown",
   "id": "f11866c9-bcc3-46c9-80f5-6f09bdd52bcf",
   "metadata": {},
   "source": [
    "# Modules"
   ]
  },
  {
   "cell_type": "markdown",
   "id": "4c35f4c4-a63d-4861-90dd-43a013c2ab12",
   "metadata": {},
   "source": [
    "di contoh kali ini kita membuat file \"matematik.py\" yang berisi variabel dan function"
   ]
  },
  {
   "cell_type": "code",
   "execution_count": 42,
   "id": "a2418dd5-66fd-4152-8a61-170252c424ec",
   "metadata": {},
   "outputs": [],
   "source": [
    "import banu"
   ]
  },
  {
   "cell_type": "code",
   "execution_count": 43,
   "id": "42ca50ac-ea1d-4ce0-b246-3b699c6ac9ef",
   "metadata": {},
   "outputs": [
    {
     "ename": "AttributeError",
     "evalue": "module 'banu' has no attribute 'pi'",
     "output_type": "error",
     "traceback": [
      "\u001b[1;31m---------------------------------------------------------------------------\u001b[0m",
      "\u001b[1;31mAttributeError\u001b[0m                            Traceback (most recent call last)",
      "\u001b[1;32m<ipython-input-43-9ed70f521895>\u001b[0m in \u001b[0;36m<module>\u001b[1;34m\u001b[0m\n\u001b[0;32m      1\u001b[0m \u001b[1;32mimport\u001b[0m \u001b[0mbanu\u001b[0m\u001b[1;33m\u001b[0m\u001b[1;33m\u001b[0m\u001b[0m\n\u001b[1;32m----> 2\u001b[1;33m \u001b[0mprint\u001b[0m\u001b[1;33m(\u001b[0m\u001b[0mbanu\u001b[0m\u001b[1;33m.\u001b[0m\u001b[0mpi\u001b[0m\u001b[1;33m)\u001b[0m\u001b[1;33m\u001b[0m\u001b[1;33m\u001b[0m\u001b[0m\n\u001b[0m",
      "\u001b[1;31mAttributeError\u001b[0m: module 'banu' has no attribute 'pi'"
     ]
    }
   ],
   "source": [
    "import banu \n",
    "print(banu.pi)"
   ]
  },
  {
   "cell_type": "code",
   "execution_count": null,
   "id": "c9f2de19-8f34-4f64-b38e-241a51f51fbf",
   "metadata": {},
   "outputs": [],
   "source": []
  }
 ],
 "metadata": {
  "kernelspec": {
   "display_name": "Python 3",
   "language": "python",
   "name": "python3"
  },
  "language_info": {
   "codemirror_mode": {
    "name": "ipython",
    "version": 3
   },
   "file_extension": ".py",
   "mimetype": "text/x-python",
   "name": "python",
   "nbconvert_exporter": "python",
   "pygments_lexer": "ipython3",
   "version": "3.8.8"
  }
 },
 "nbformat": 4,
 "nbformat_minor": 5
}
