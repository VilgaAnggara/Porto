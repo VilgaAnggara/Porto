{
 "cells": [
  {
   "cell_type": "markdown",
   "id": "cea40be0-89a8-4fdb-bcd3-b3473b4e50a8",
   "metadata": {},
   "source": [
    "# Conditional Statement"
   ]
  },
  {
   "cell_type": "markdown",
   "id": "d1a1e716-352c-45c8-a9b6-5e5c5bf674a7",
   "metadata": {},
   "source": [
    "semua bukan false ialah true "
   ]
  },
  {
   "cell_type": "code",
   "execution_count": 2,
   "id": "7636e107-1028-4ba2-b681-5f66b80f7883",
   "metadata": {},
   "outputs": [],
   "source": [
    "# false ialah:\n",
    "   # - angka 0 (float, int)\n",
    "   # - string kosong (text tapi tidak ada karakternya samsek, length 0)\n",
    "   # - bolean false\n",
    "   # - list kosong []\n",
    "   # - tuple kosong ()\n",
    "   # - dictionary {}"
   ]
  },
  {
   "cell_type": "code",
   "execution_count": 5,
   "id": "e3acbbc5-c3e2-4671-8606-0d90d8079ed4",
   "metadata": {},
   "outputs": [
    {
     "name": "stdout",
     "output_type": "stream",
     "text": [
      "vilga\n",
      "vilga\n"
     ]
    }
   ],
   "source": [
    "x = 22\n",
    "y = 23 \n",
    "\n",
    "if x != y :\n",
    "    print(\"vilga\")\n",
    "if x < y :\n",
    "    print(\"vilga\")\n",
    "if x > y : \n",
    "    print(\"ganteng\")"
   ]
  },
  {
   "cell_type": "code",
   "execution_count": 6,
   "id": "35dd9ab6-dfa5-4db9-ac64-5e2ae69fe522",
   "metadata": {},
   "outputs": [],
   "source": [
    "if 3 in [30, 13, 33, 0.3]: \n",
    "    print(\"ada\")"
   ]
  },
  {
   "cell_type": "code",
   "execution_count": 7,
   "id": "b8a9250c-fd41-4810-853a-49c1236b602f",
   "metadata": {},
   "outputs": [],
   "source": [
    "if \"tiga\" in (\"tiga puluh\", \"tiga belas\", \"tiga puluh tiga\"):\n",
    "    print(\"ada\")"
   ]
  },
  {
   "cell_type": "code",
   "execution_count": 9,
   "id": "6de751fc-ca00-4a9a-8af5-43c404e1b181",
   "metadata": {},
   "outputs": [
    {
     "name": "stdout",
     "output_type": "stream",
     "text": [
      "hatiku senang\n",
      "mari jalan jalan\n"
     ]
    }
   ],
   "source": [
    "cuaca_cerah = True \n",
    "\n",
    "if cuaca_cerah :\n",
    "    print(\"hatiku senang\")\n",
    "    print(\"mari jalan jalan\")"
   ]
  },
  {
   "cell_type": "code",
   "execution_count": 10,
   "id": "aaea40af-8d24-486a-9124-bae603d6127a",
   "metadata": {},
   "outputs": [
    {
     "name": "stdout",
     "output_type": "stream",
     "text": [
      "bisa jalan jalan\n"
     ]
    }
   ],
   "source": [
    "diluar_hujan = False \n",
    "\n",
    "if diluar_hujan : \n",
    "    print(\"aku sedih\")\n",
    "    print(\"terdiam membisu\")\n",
    "print(\"bisa jalan jalan\")"
   ]
  },
  {
   "cell_type": "code",
   "execution_count": 14,
   "id": "471c2cb2-0ab6-4328-a413-8d13d19347bf",
   "metadata": {},
   "outputs": [
    {
     "name": "stdout",
     "output_type": "stream",
     "text": [
      "menunggu wisuda\n",
      "segera mengurus administrasi yang ada\n",
      "selesai pengecekan\n"
     ]
    }
   ],
   "source": [
    "sudah_kompre = True\n",
    "lanjut_mengurus_SKL = True \n",
    "sudah_wisuda = False \n",
    "\n",
    "if sudah_kompre :\n",
    "    if lanjut_mengurus_SKL:\n",
    "        print(\"menunggu wisuda\")\n",
    "    else:\n",
    "        print(\"segera mengurus surat surat SKL\")\n",
    "    if sudah_wisuda:\n",
    "        print(\"anda sudah terbebas dari kuliah\")\n",
    "    else:\n",
    "        print(\"segera mengurus administrasi yang ada\")\n",
    "else: \n",
    "    print(\"segera mengurus kompre\")\n",
    "    \n",
    "print(\"selesai pengecekan\")"
   ]
  },
  {
   "cell_type": "code",
   "execution_count": 15,
   "id": "a4ee88ad-ea11-4522-834a-9636e082c4f7",
   "metadata": {},
   "outputs": [
    {
     "name": "stdout",
     "output_type": "stream",
     "text": [
      "segera mengurus surat surat SKL\n",
      "segera mengurus administrasi yang ada\n",
      "selesai pengecekan\n"
     ]
    }
   ],
   "source": [
    "sudah_kompre = True\n",
    "lanjut_mengurus_SKL = False \n",
    "sudah_wisuda = False \n",
    "\n",
    "if sudah_kompre :\n",
    "    if lanjut_mengurus_SKL:\n",
    "        print(\"menunggu wisuda\")\n",
    "    else:\n",
    "        print(\"segera mengurus surat surat SKL\")\n",
    "    if sudah_wisuda:\n",
    "        print(\"anda sudah terbebas dari kuliah\")\n",
    "    else:\n",
    "        print(\"segera mengurus administrasi yang ada\")\n",
    "else: \n",
    "    print(\"segera mengurus kompre\")\n",
    "    \n",
    "print(\"selesai pengecekan\")"
   ]
  },
  {
   "cell_type": "code",
   "execution_count": 16,
   "id": "892c1e04-55da-4d35-aa48-2a74c35165df",
   "metadata": {},
   "outputs": [
    {
     "name": "stdout",
     "output_type": "stream",
     "text": [
      "saya libur\n"
     ]
    }
   ],
   "source": [
    "hari_ini = \"minggu\"\n",
    "\n",
    "if hari_ini == \"senin\":\n",
    "    print(\"saya kuliah\")\n",
    "elif hari_ini == \"selasa\":\n",
    "    print(\"saya kuliah\")\n",
    "elif hari_ini == \"rabu\":\n",
    "    print(\"saya kuliah\")\n",
    "elif hari_ini == \"kamis\":\n",
    "    print(\"saya kuliah\")\n",
    "elif hari_ini == \"jumat\":\n",
    "    print(\"saya kuliah\")\n",
    "elif hari_ini == \"sabtu\":\n",
    "    print(\"saya libur\")\n",
    "elif hari_ini == \"minggu\":\n",
    "    print(\"saya libur\")"
   ]
  },
  {
   "cell_type": "markdown",
   "id": "eb94b350-b38d-44f0-b8a1-300df4af1ffc",
   "metadata": {},
   "source": [
    "## pass statement"
   ]
  },
  {
   "cell_type": "code",
   "execution_count": 19,
   "id": "3d3f44d0-fc5d-4593-92aa-5a57b64d6f4a",
   "metadata": {},
   "outputs": [],
   "source": [
    "if x > y :\n",
    "    pass\n",
    "elif x == y :\n",
    "    pass"
   ]
  },
  {
   "cell_type": "markdown",
   "id": "5077d681-ba54-4674-9b7f-a611609802ca",
   "metadata": {},
   "source": [
    "# While Loop"
   ]
  },
  {
   "cell_type": "markdown",
   "id": "395a288f-832f-429c-ba0b-9f47eb42b95e",
   "metadata": {},
   "source": [
    "selama kondisinya masih true statementnya akan diulang terus"
   ]
  },
  {
   "cell_type": "code",
   "execution_count": 20,
   "id": "94611bdb-eabd-436b-8c98-27bfee051627",
   "metadata": {},
   "outputs": [
    {
     "name": "stdout",
     "output_type": "stream",
     "text": [
      "1\n"
     ]
    }
   ],
   "source": [
    "print(1)"
   ]
  },
  {
   "cell_type": "code",
   "execution_count": 21,
   "id": "f090afdd-638e-42bb-b146-a04b0b714d9d",
   "metadata": {},
   "outputs": [
    {
     "name": "stdout",
     "output_type": "stream",
     "text": [
      "saya tidur\n"
     ]
    }
   ],
   "source": [
    "rumah_bersih = True\n",
    "\n",
    "while rumah_bersih:\n",
    "    print(\"saya tidur\")\n",
    "    \n",
    "    rumah_bersih = False"
   ]
  },
  {
   "cell_type": "code",
   "execution_count": 26,
   "id": "7fe86c7b-9762-4621-a184-b52a161ed32c",
   "metadata": {},
   "outputs": [
    {
     "name": "stdout",
     "output_type": "stream",
     "text": [
      "kelas 1\n",
      "kelas 2\n",
      "kelas 3\n",
      "kelas 4\n",
      "kelas 5\n",
      "kelas 6\n",
      "kelas 7\n",
      "kelas 8\n",
      "kelas 9\n",
      "kelas 10\n",
      "kelas usai\n"
     ]
    }
   ],
   "source": [
    "counter = 0 \n",
    "\n",
    "while counter < 10:\n",
    "    counter += 1 \n",
    "    print(\"kelas\", counter)\n",
    "else:\n",
    "    print(\"kelas usai\")"
   ]
  },
  {
   "cell_type": "markdown",
   "id": "80ece9ad-ee07-492b-89f2-71a470919bfb",
   "metadata": {},
   "source": [
    "# Break and Continue"
   ]
  },
  {
   "cell_type": "markdown",
   "id": "1fed4b83-76b6-436c-937a-bede1d09359e",
   "metadata": {},
   "source": [
    "sama seperti else di while"
   ]
  },
  {
   "cell_type": "code",
   "execution_count": 36,
   "id": "ba8ee9bc-8c73-4ec4-a769-250ed9f598bb",
   "metadata": {},
   "outputs": [
    {
     "name": "stdout",
     "output_type": "stream",
     "text": [
      "ikut kelas 1\n",
      "ikut kelas 2\n",
      "ikut kelas 3\n",
      "ikut kelas 4\n",
      "ikut kelas 5\n",
      "ikut kelas 6\n",
      "ikut kelas 7\n",
      "ikut kelas 8\n",
      "ikut kelas 9\n"
     ]
    }
   ],
   "source": [
    "angka = 0\n",
    "cuti = 10 \n",
    "\n",
    "while angka < 20:\n",
    "    angka += 1 \n",
    "    if angka == cuti:\n",
    "        break;\n",
    "    print(\"ikut kelas\", angka)"
   ]
  },
  {
   "cell_type": "code",
   "execution_count": 37,
   "id": "87fbb659-78ff-421e-b04b-d77fa1beda1d",
   "metadata": {},
   "outputs": [
    {
     "name": "stdout",
     "output_type": "stream",
     "text": [
      "kelas 1\n",
      "kelas 2\n",
      "kelas 3\n",
      "kelas 4\n",
      "kelas 6\n",
      "kelas 7\n",
      "kelas 8\n",
      "kelas 9\n",
      "kelas 10\n",
      "kelas 11\n",
      "kelas 12\n",
      "kelas 13\n",
      "kelas 14\n",
      "kelas 15\n",
      "kelas 16\n"
     ]
    }
   ],
   "source": [
    "counter = 0 \n",
    "bolos = 5 \n",
    "\n",
    "while counter < 16:\n",
    "    counter += 1 \n",
    "    if counter == bolos:\n",
    "        continue;\n",
    "    print(\"kelas\", counter)"
   ]
  },
  {
   "cell_type": "markdown",
   "id": "a68538ee-350d-49ac-9ceb-b4702e0e9a29",
   "metadata": {},
   "source": [
    "## For Loop"
   ]
  },
  {
   "cell_type": "code",
   "execution_count": 38,
   "id": "20bc7c29-e6df-4dcc-a1fa-b068e710c4f6",
   "metadata": {},
   "outputs": [
    {
     "name": "stdout",
     "output_type": "stream",
     "text": [
      "1\n",
      "2\n",
      "3\n",
      "4\n",
      "5\n",
      "6\n",
      "7\n",
      "8\n"
     ]
    }
   ],
   "source": [
    "urutan_angka = [1,2,3,4,5,6,7,8]\n",
    "for vilga in urutan_angka:\n",
    "    print(vilga)"
   ]
  },
  {
   "cell_type": "code",
   "execution_count": 40,
   "id": "438a6169-7013-4000-aab2-90c259bc6b05",
   "metadata": {},
   "outputs": [
    {
     "name": "stdout",
     "output_type": "stream",
     "text": [
      "lantai\n",
      "tipe\n",
      "kamar\n"
     ]
    }
   ],
   "source": [
    "rumah = {\n",
    "    \"lantai\" : 3,\n",
    "    \"tipe\" : \"industrial\",\n",
    "    \"kamar\" : 5,\n",
    "}\n",
    "for arta in rumah:\n",
    "    print(arta)"
   ]
  },
  {
   "cell_type": "code",
   "execution_count": 41,
   "id": "21f335b8-97b3-4d11-892d-212471d1f32f",
   "metadata": {},
   "outputs": [
    {
     "name": "stdout",
     "output_type": "stream",
     "text": [
      "lantai {'lantai': 3, 'tipe': 'industrial', 'kamar': 5}\n",
      "tipe {'lantai': 3, 'tipe': 'industrial', 'kamar': 5}\n",
      "kamar {'lantai': 3, 'tipe': 'industrial', 'kamar': 5}\n"
     ]
    }
   ],
   "source": [
    "rumah = {\n",
    "    \"lantai\" : 3,\n",
    "    \"tipe\" : \"industrial\",\n",
    "    \"kamar\" : 5,\n",
    "}\n",
    "for arta in rumah:\n",
    "    print(arta, rumah)"
   ]
  },
  {
   "cell_type": "code",
   "execution_count": null,
   "id": "1fb24ac9-f95a-4766-84a4-b47cd4ae2767",
   "metadata": {},
   "outputs": [],
   "source": []
  }
 ],
 "metadata": {
  "kernelspec": {
   "display_name": "Python 3",
   "language": "python",
   "name": "python3"
  },
  "language_info": {
   "codemirror_mode": {
    "name": "ipython",
    "version": 3
   },
   "file_extension": ".py",
   "mimetype": "text/x-python",
   "name": "python",
   "nbconvert_exporter": "python",
   "pygments_lexer": "ipython3",
   "version": "3.8.8"
  }
 },
 "nbformat": 4,
 "nbformat_minor": 5
}
