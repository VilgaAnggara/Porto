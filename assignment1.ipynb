{
 "cells": [
  {
   "cell_type": "markdown",
   "id": "8853bf8a-da07-46ff-b721-daf05b7dda43",
   "metadata": {},
   "source": [
    "# Assignment1 Python 1 "
   ]
  },
  {
   "cell_type": "code",
   "execution_count": 1,
   "id": "b976cf73-f4e6-42af-acc8-473f2cf44280",
   "metadata": {},
   "outputs": [],
   "source": [
    "import numpy as np\n",
    "import pandas as pd"
   ]
  },
  {
   "cell_type": "code",
   "execution_count": 2,
   "id": "c32bdf60-7190-43f5-b143-4dce109192c8",
   "metadata": {},
   "outputs": [
    {
     "data": {
      "text/html": [
       "<div>\n",
       "<style scoped>\n",
       "    .dataframe tbody tr th:only-of-type {\n",
       "        vertical-align: middle;\n",
       "    }\n",
       "\n",
       "    .dataframe tbody tr th {\n",
       "        vertical-align: top;\n",
       "    }\n",
       "\n",
       "    .dataframe thead th {\n",
       "        text-align: right;\n",
       "    }\n",
       "</style>\n",
       "<table border=\"1\" class=\"dataframe\">\n",
       "  <thead>\n",
       "    <tr style=\"text-align: right;\">\n",
       "      <th></th>\n",
       "      <th>lsoa_code</th>\n",
       "      <th>borough</th>\n",
       "      <th>major_category</th>\n",
       "      <th>minor_category</th>\n",
       "      <th>value</th>\n",
       "      <th>year</th>\n",
       "      <th>month</th>\n",
       "    </tr>\n",
       "  </thead>\n",
       "  <tbody>\n",
       "    <tr>\n",
       "      <th>0</th>\n",
       "      <td>E01001116</td>\n",
       "      <td>Croydon</td>\n",
       "      <td>Burglary</td>\n",
       "      <td>Burglary in Other Buildings</td>\n",
       "      <td>0</td>\n",
       "      <td>2016</td>\n",
       "      <td>11</td>\n",
       "    </tr>\n",
       "    <tr>\n",
       "      <th>1</th>\n",
       "      <td>E01001646</td>\n",
       "      <td>Greenwich</td>\n",
       "      <td>Violence Against the Person</td>\n",
       "      <td>Other violence</td>\n",
       "      <td>0</td>\n",
       "      <td>2016</td>\n",
       "      <td>11</td>\n",
       "    </tr>\n",
       "    <tr>\n",
       "      <th>2</th>\n",
       "      <td>E01000677</td>\n",
       "      <td>Bromley</td>\n",
       "      <td>Violence Against the Person</td>\n",
       "      <td>Other violence</td>\n",
       "      <td>0</td>\n",
       "      <td>2015</td>\n",
       "      <td>5</td>\n",
       "    </tr>\n",
       "    <tr>\n",
       "      <th>3</th>\n",
       "      <td>E01003774</td>\n",
       "      <td>Redbridge</td>\n",
       "      <td>Burglary</td>\n",
       "      <td>Burglary in Other Buildings</td>\n",
       "      <td>0</td>\n",
       "      <td>2016</td>\n",
       "      <td>3</td>\n",
       "    </tr>\n",
       "    <tr>\n",
       "      <th>4</th>\n",
       "      <td>E01004563</td>\n",
       "      <td>Wandsworth</td>\n",
       "      <td>Robbery</td>\n",
       "      <td>Personal Property</td>\n",
       "      <td>0</td>\n",
       "      <td>2008</td>\n",
       "      <td>6</td>\n",
       "    </tr>\n",
       "    <tr>\n",
       "      <th>5</th>\n",
       "      <td>E01001320</td>\n",
       "      <td>Ealing</td>\n",
       "      <td>Theft and Handling</td>\n",
       "      <td>Other Theft</td>\n",
       "      <td>0</td>\n",
       "      <td>2012</td>\n",
       "      <td>5</td>\n",
       "    </tr>\n",
       "    <tr>\n",
       "      <th>6</th>\n",
       "      <td>E01001342</td>\n",
       "      <td>Ealing</td>\n",
       "      <td>Violence Against the Person</td>\n",
       "      <td>Offensive Weapon</td>\n",
       "      <td>0</td>\n",
       "      <td>2010</td>\n",
       "      <td>7</td>\n",
       "    </tr>\n",
       "    <tr>\n",
       "      <th>7</th>\n",
       "      <td>E01002633</td>\n",
       "      <td>Hounslow</td>\n",
       "      <td>Robbery</td>\n",
       "      <td>Personal Property</td>\n",
       "      <td>0</td>\n",
       "      <td>2013</td>\n",
       "      <td>4</td>\n",
       "    </tr>\n",
       "    <tr>\n",
       "      <th>8</th>\n",
       "      <td>E01003496</td>\n",
       "      <td>Newham</td>\n",
       "      <td>Criminal Damage</td>\n",
       "      <td>Criminal Damage To Other Building</td>\n",
       "      <td>0</td>\n",
       "      <td>2013</td>\n",
       "      <td>9</td>\n",
       "    </tr>\n",
       "    <tr>\n",
       "      <th>9</th>\n",
       "      <td>E01004177</td>\n",
       "      <td>Sutton</td>\n",
       "      <td>Theft and Handling</td>\n",
       "      <td>Theft/Taking of Pedal Cycle</td>\n",
       "      <td>1</td>\n",
       "      <td>2016</td>\n",
       "      <td>8</td>\n",
       "    </tr>\n",
       "  </tbody>\n",
       "</table>\n",
       "</div>"
      ],
      "text/plain": [
       "   lsoa_code     borough               major_category  \\\n",
       "0  E01001116     Croydon                     Burglary   \n",
       "1  E01001646   Greenwich  Violence Against the Person   \n",
       "2  E01000677     Bromley  Violence Against the Person   \n",
       "3  E01003774   Redbridge                     Burglary   \n",
       "4  E01004563  Wandsworth                      Robbery   \n",
       "5  E01001320      Ealing           Theft and Handling   \n",
       "6  E01001342      Ealing  Violence Against the Person   \n",
       "7  E01002633    Hounslow                      Robbery   \n",
       "8  E01003496      Newham              Criminal Damage   \n",
       "9  E01004177      Sutton           Theft and Handling   \n",
       "\n",
       "                      minor_category  value  year  month  \n",
       "0        Burglary in Other Buildings      0  2016     11  \n",
       "1                     Other violence      0  2016     11  \n",
       "2                     Other violence      0  2015      5  \n",
       "3        Burglary in Other Buildings      0  2016      3  \n",
       "4                  Personal Property      0  2008      6  \n",
       "5                        Other Theft      0  2012      5  \n",
       "6                   Offensive Weapon      0  2010      7  \n",
       "7                  Personal Property      0  2013      4  \n",
       "8  Criminal Damage To Other Building      0  2013      9  \n",
       "9        Theft/Taking of Pedal Cycle      1  2016      8  "
      ]
     },
     "execution_count": 2,
     "metadata": {},
     "output_type": "execute_result"
    }
   ],
   "source": [
    "df_LondonCrime = pd.read_csv('london_crime_by_lsoa.csv')\n",
    "df_LondonCrime.head(10)"
   ]
  },
  {
   "cell_type": "code",
   "execution_count": 3,
   "id": "b8d9fa98-1cc9-427e-8e51-71ae95cd1eb6",
   "metadata": {},
   "outputs": [
    {
     "data": {
      "text/html": [
       "<div>\n",
       "<style scoped>\n",
       "    .dataframe tbody tr th:only-of-type {\n",
       "        vertical-align: middle;\n",
       "    }\n",
       "\n",
       "    .dataframe tbody tr th {\n",
       "        vertical-align: top;\n",
       "    }\n",
       "\n",
       "    .dataframe thead th {\n",
       "        text-align: right;\n",
       "    }\n",
       "</style>\n",
       "<table border=\"1\" class=\"dataframe\">\n",
       "  <thead>\n",
       "    <tr style=\"text-align: right;\">\n",
       "      <th></th>\n",
       "      <th>lsoa_code</th>\n",
       "      <th>borough</th>\n",
       "      <th>major_category</th>\n",
       "      <th>minor_category</th>\n",
       "      <th>value</th>\n",
       "      <th>year</th>\n",
       "      <th>month</th>\n",
       "    </tr>\n",
       "  </thead>\n",
       "  <tbody>\n",
       "    <tr>\n",
       "      <th>13490594</th>\n",
       "      <td>E01001706</td>\n",
       "      <td>Greenwich</td>\n",
       "      <td>Criminal Damage</td>\n",
       "      <td>Criminal Damage To Other Building</td>\n",
       "      <td>0</td>\n",
       "      <td>2008</td>\n",
       "      <td>2</td>\n",
       "    </tr>\n",
       "    <tr>\n",
       "      <th>13490595</th>\n",
       "      <td>E01001144</td>\n",
       "      <td>Croydon</td>\n",
       "      <td>Violence Against the Person</td>\n",
       "      <td>Harassment</td>\n",
       "      <td>0</td>\n",
       "      <td>2012</td>\n",
       "      <td>1</td>\n",
       "    </tr>\n",
       "    <tr>\n",
       "      <th>13490596</th>\n",
       "      <td>E01000655</td>\n",
       "      <td>Bromley</td>\n",
       "      <td>Theft and Handling</td>\n",
       "      <td>Theft From Shops</td>\n",
       "      <td>0</td>\n",
       "      <td>2010</td>\n",
       "      <td>7</td>\n",
       "    </tr>\n",
       "    <tr>\n",
       "      <th>13490597</th>\n",
       "      <td>E01000588</td>\n",
       "      <td>Brent</td>\n",
       "      <td>Theft and Handling</td>\n",
       "      <td>Theft/Taking of Pedal Cycle</td>\n",
       "      <td>0</td>\n",
       "      <td>2014</td>\n",
       "      <td>10</td>\n",
       "    </tr>\n",
       "    <tr>\n",
       "      <th>13490598</th>\n",
       "      <td>E01032577</td>\n",
       "      <td>Hillingdon</td>\n",
       "      <td>Theft and Handling</td>\n",
       "      <td>Other Theft</td>\n",
       "      <td>0</td>\n",
       "      <td>2012</td>\n",
       "      <td>2</td>\n",
       "    </tr>\n",
       "    <tr>\n",
       "      <th>13490599</th>\n",
       "      <td>E01000504</td>\n",
       "      <td>Brent</td>\n",
       "      <td>Criminal Damage</td>\n",
       "      <td>Criminal Damage To Dwelling</td>\n",
       "      <td>0</td>\n",
       "      <td>2015</td>\n",
       "      <td>2</td>\n",
       "    </tr>\n",
       "    <tr>\n",
       "      <th>13490600</th>\n",
       "      <td>E01002504</td>\n",
       "      <td>Hillingdon</td>\n",
       "      <td>Robbery</td>\n",
       "      <td>Personal Property</td>\n",
       "      <td>1</td>\n",
       "      <td>2015</td>\n",
       "      <td>6</td>\n",
       "    </tr>\n",
       "    <tr>\n",
       "      <th>13490601</th>\n",
       "      <td>E01004165</td>\n",
       "      <td>Sutton</td>\n",
       "      <td>Burglary</td>\n",
       "      <td>Burglary in a Dwelling</td>\n",
       "      <td>0</td>\n",
       "      <td>2011</td>\n",
       "      <td>2</td>\n",
       "    </tr>\n",
       "    <tr>\n",
       "      <th>13490602</th>\n",
       "      <td>E01001134</td>\n",
       "      <td>Croydon</td>\n",
       "      <td>Robbery</td>\n",
       "      <td>Business Property</td>\n",
       "      <td>0</td>\n",
       "      <td>2011</td>\n",
       "      <td>5</td>\n",
       "    </tr>\n",
       "    <tr>\n",
       "      <th>13490603</th>\n",
       "      <td>E01003413</td>\n",
       "      <td>Merton</td>\n",
       "      <td>Violence Against the Person</td>\n",
       "      <td>Wounding/GBH</td>\n",
       "      <td>0</td>\n",
       "      <td>2015</td>\n",
       "      <td>6</td>\n",
       "    </tr>\n",
       "  </tbody>\n",
       "</table>\n",
       "</div>"
      ],
      "text/plain": [
       "          lsoa_code     borough               major_category  \\\n",
       "13490594  E01001706   Greenwich              Criminal Damage   \n",
       "13490595  E01001144     Croydon  Violence Against the Person   \n",
       "13490596  E01000655     Bromley           Theft and Handling   \n",
       "13490597  E01000588       Brent           Theft and Handling   \n",
       "13490598  E01032577  Hillingdon           Theft and Handling   \n",
       "13490599  E01000504       Brent              Criminal Damage   \n",
       "13490600  E01002504  Hillingdon                      Robbery   \n",
       "13490601  E01004165      Sutton                     Burglary   \n",
       "13490602  E01001134     Croydon                      Robbery   \n",
       "13490603  E01003413      Merton  Violence Against the Person   \n",
       "\n",
       "                             minor_category  value  year  month  \n",
       "13490594  Criminal Damage To Other Building      0  2008      2  \n",
       "13490595                         Harassment      0  2012      1  \n",
       "13490596                   Theft From Shops      0  2010      7  \n",
       "13490597        Theft/Taking of Pedal Cycle      0  2014     10  \n",
       "13490598                        Other Theft      0  2012      2  \n",
       "13490599        Criminal Damage To Dwelling      0  2015      2  \n",
       "13490600                  Personal Property      1  2015      6  \n",
       "13490601             Burglary in a Dwelling      0  2011      2  \n",
       "13490602                  Business Property      0  2011      5  \n",
       "13490603                       Wounding/GBH      0  2015      6  "
      ]
     },
     "execution_count": 3,
     "metadata": {},
     "output_type": "execute_result"
    }
   ],
   "source": [
    "df_LondonCrime.tail(10)"
   ]
  },
  {
   "cell_type": "code",
   "execution_count": 4,
   "id": "54a35e7c-c31c-46f1-b3bc-5ea3ebaeb8af",
   "metadata": {},
   "outputs": [
    {
     "name": "stdout",
     "output_type": "stream",
     "text": [
      "<class 'pandas.core.frame.DataFrame'>\n",
      "RangeIndex: 13490604 entries, 0 to 13490603\n",
      "Data columns (total 7 columns):\n",
      " #   Column          Dtype \n",
      "---  ------          ----- \n",
      " 0   lsoa_code       object\n",
      " 1   borough         object\n",
      " 2   major_category  object\n",
      " 3   minor_category  object\n",
      " 4   value           int64 \n",
      " 5   year            int64 \n",
      " 6   month           int64 \n",
      "dtypes: int64(3), object(4)\n",
      "memory usage: 720.5+ MB\n"
     ]
    }
   ],
   "source": [
    "df_LondonCrime.info()"
   ]
  },
  {
   "cell_type": "code",
   "execution_count": 5,
   "id": "82834d6a-5b19-4104-ab70-824ac7b30d1d",
   "metadata": {},
   "outputs": [
    {
     "data": {
      "text/plain": [
       "array(['lsoa_code', 'borough', 'major_category', 'minor_category',\n",
       "       'value', 'year', 'month'], dtype=object)"
      ]
     },
     "execution_count": 5,
     "metadata": {},
     "output_type": "execute_result"
    }
   ],
   "source": [
    "df_LondonCrime.columns.values"
   ]
  },
  {
   "cell_type": "code",
   "execution_count": 6,
   "id": "9311dfad-0e8c-442a-bc6b-bbcd1c61bab3",
   "metadata": {},
   "outputs": [
    {
     "data": {
      "text/plain": [
       "(13490604, 7)"
      ]
     },
     "execution_count": 6,
     "metadata": {},
     "output_type": "execute_result"
    }
   ],
   "source": [
    "df_LondonCrime.shape"
   ]
  },
  {
   "cell_type": "code",
   "execution_count": 7,
   "id": "587cb1c1-f9b9-4b8c-bb13-2f4b5398bda4",
   "metadata": {},
   "outputs": [],
   "source": [
    "# merubah nama kolom 'borough' menjadi 'region'\n",
    "df_LondonCrime.rename(columns={\"borough\" : \"region\"}, inplace=True)"
   ]
  },
  {
   "cell_type": "code",
   "execution_count": 8,
   "id": "7fb23804-7660-4d3a-8d2f-e376b814201f",
   "metadata": {},
   "outputs": [
    {
     "data": {
      "text/html": [
       "<div>\n",
       "<style scoped>\n",
       "    .dataframe tbody tr th:only-of-type {\n",
       "        vertical-align: middle;\n",
       "    }\n",
       "\n",
       "    .dataframe tbody tr th {\n",
       "        vertical-align: top;\n",
       "    }\n",
       "\n",
       "    .dataframe thead th {\n",
       "        text-align: right;\n",
       "    }\n",
       "</style>\n",
       "<table border=\"1\" class=\"dataframe\">\n",
       "  <thead>\n",
       "    <tr style=\"text-align: right;\">\n",
       "      <th></th>\n",
       "      <th>lsoa_code</th>\n",
       "      <th>region</th>\n",
       "      <th>major_category</th>\n",
       "      <th>minor_category</th>\n",
       "      <th>value</th>\n",
       "      <th>year</th>\n",
       "      <th>month</th>\n",
       "    </tr>\n",
       "  </thead>\n",
       "  <tbody>\n",
       "    <tr>\n",
       "      <th>0</th>\n",
       "      <td>E01001116</td>\n",
       "      <td>Croydon</td>\n",
       "      <td>Burglary</td>\n",
       "      <td>Burglary in Other Buildings</td>\n",
       "      <td>0</td>\n",
       "      <td>2016</td>\n",
       "      <td>11</td>\n",
       "    </tr>\n",
       "    <tr>\n",
       "      <th>1</th>\n",
       "      <td>E01001646</td>\n",
       "      <td>Greenwich</td>\n",
       "      <td>Violence Against the Person</td>\n",
       "      <td>Other violence</td>\n",
       "      <td>0</td>\n",
       "      <td>2016</td>\n",
       "      <td>11</td>\n",
       "    </tr>\n",
       "    <tr>\n",
       "      <th>2</th>\n",
       "      <td>E01000677</td>\n",
       "      <td>Bromley</td>\n",
       "      <td>Violence Against the Person</td>\n",
       "      <td>Other violence</td>\n",
       "      <td>0</td>\n",
       "      <td>2015</td>\n",
       "      <td>5</td>\n",
       "    </tr>\n",
       "    <tr>\n",
       "      <th>3</th>\n",
       "      <td>E01003774</td>\n",
       "      <td>Redbridge</td>\n",
       "      <td>Burglary</td>\n",
       "      <td>Burglary in Other Buildings</td>\n",
       "      <td>0</td>\n",
       "      <td>2016</td>\n",
       "      <td>3</td>\n",
       "    </tr>\n",
       "    <tr>\n",
       "      <th>4</th>\n",
       "      <td>E01004563</td>\n",
       "      <td>Wandsworth</td>\n",
       "      <td>Robbery</td>\n",
       "      <td>Personal Property</td>\n",
       "      <td>0</td>\n",
       "      <td>2008</td>\n",
       "      <td>6</td>\n",
       "    </tr>\n",
       "  </tbody>\n",
       "</table>\n",
       "</div>"
      ],
      "text/plain": [
       "   lsoa_code      region               major_category  \\\n",
       "0  E01001116     Croydon                     Burglary   \n",
       "1  E01001646   Greenwich  Violence Against the Person   \n",
       "2  E01000677     Bromley  Violence Against the Person   \n",
       "3  E01003774   Redbridge                     Burglary   \n",
       "4  E01004563  Wandsworth                      Robbery   \n",
       "\n",
       "                minor_category  value  year  month  \n",
       "0  Burglary in Other Buildings      0  2016     11  \n",
       "1               Other violence      0  2016     11  \n",
       "2               Other violence      0  2015      5  \n",
       "3  Burglary in Other Buildings      0  2016      3  \n",
       "4            Personal Property      0  2008      6  "
      ]
     },
     "execution_count": 8,
     "metadata": {},
     "output_type": "execute_result"
    }
   ],
   "source": [
    "df_LondonCrime.head()"
   ]
  },
  {
   "cell_type": "code",
   "execution_count": 9,
   "id": "2d7b8317-ba29-45f8-8429-4e52da1a0589",
   "metadata": {},
   "outputs": [
    {
     "data": {
      "text/plain": [
       "array([       0,        1,        2, ..., 13490601, 13490602, 13490603],\n",
       "      dtype=int64)"
      ]
     },
     "execution_count": 9,
     "metadata": {},
     "output_type": "execute_result"
    }
   ],
   "source": [
    "df_LondonCrime.index.values"
   ]
  },
  {
   "cell_type": "code",
   "execution_count": 10,
   "id": "bdc7803a-06fd-4c76-92d7-c90de60963ac",
   "metadata": {},
   "outputs": [
    {
     "data": {
      "text/plain": [
       "lsoa_code         0\n",
       "region            0\n",
       "major_category    0\n",
       "minor_category    0\n",
       "value             0\n",
       "year              0\n",
       "month             0\n",
       "dtype: int64"
      ]
     },
     "execution_count": 10,
     "metadata": {},
     "output_type": "execute_result"
    }
   ],
   "source": [
    "df_LondonCrime.isnull().sum()"
   ]
  },
  {
   "cell_type": "code",
   "execution_count": 11,
   "id": "b684d443-32b5-4d0e-be05-b5ac23848aba",
   "metadata": {},
   "outputs": [],
   "source": [
    "import matplotlib as mpl \n",
    "import matplotlib.pyplot as plt\n",
    "mpl.style.use(['ggplot'])"
   ]
  },
  {
   "cell_type": "markdown",
   "id": "c34d8a6f-a095-4829-9b8d-c68ffcfc5438",
   "metadata": {},
   "source": [
    "# Area Plot"
   ]
  },
  {
   "cell_type": "markdown",
   "id": "13899424-1ad0-4ed9-8086-4eabbeb8c981",
   "metadata": {},
   "source": [
    "# Case 1 : Perbandingan kejahatan di wilayah Greencwich, Sutton, Croydon"
   ]
  },
  {
   "cell_type": "code",
   "execution_count": 12,
   "id": "ef02e752-a90a-4c15-8038-43f1762efccf",
   "metadata": {},
   "outputs": [
    {
     "data": {
      "text/html": [
       "<div>\n",
       "<style scoped>\n",
       "    .dataframe tbody tr th:only-of-type {\n",
       "        vertical-align: middle;\n",
       "    }\n",
       "\n",
       "    .dataframe tbody tr th {\n",
       "        vertical-align: top;\n",
       "    }\n",
       "\n",
       "    .dataframe thead th {\n",
       "        text-align: right;\n",
       "    }\n",
       "</style>\n",
       "<table border=\"1\" class=\"dataframe\">\n",
       "  <thead>\n",
       "    <tr style=\"text-align: right;\">\n",
       "      <th></th>\n",
       "      <th>lsoa_code</th>\n",
       "      <th>region</th>\n",
       "      <th>major_category</th>\n",
       "      <th>minor_category</th>\n",
       "      <th>value</th>\n",
       "      <th>year</th>\n",
       "      <th>month</th>\n",
       "    </tr>\n",
       "  </thead>\n",
       "  <tbody>\n",
       "    <tr>\n",
       "      <th>1</th>\n",
       "      <td>E01001646</td>\n",
       "      <td>Greenwich</td>\n",
       "      <td>Violence Against the Person</td>\n",
       "      <td>Other violence</td>\n",
       "      <td>0</td>\n",
       "      <td>2016</td>\n",
       "      <td>11</td>\n",
       "    </tr>\n",
       "    <tr>\n",
       "      <th>75</th>\n",
       "      <td>E01001600</td>\n",
       "      <td>Greenwich</td>\n",
       "      <td>Burglary</td>\n",
       "      <td>Burglary in Other Buildings</td>\n",
       "      <td>0</td>\n",
       "      <td>2016</td>\n",
       "      <td>11</td>\n",
       "    </tr>\n",
       "    <tr>\n",
       "      <th>100</th>\n",
       "      <td>E01001572</td>\n",
       "      <td>Greenwich</td>\n",
       "      <td>Drugs</td>\n",
       "      <td>Possession Of Drugs</td>\n",
       "      <td>0</td>\n",
       "      <td>2012</td>\n",
       "      <td>10</td>\n",
       "    </tr>\n",
       "    <tr>\n",
       "      <th>221</th>\n",
       "      <td>E01001634</td>\n",
       "      <td>Greenwich</td>\n",
       "      <td>Criminal Damage</td>\n",
       "      <td>Criminal Damage To Motor Vehicle</td>\n",
       "      <td>0</td>\n",
       "      <td>2008</td>\n",
       "      <td>2</td>\n",
       "    </tr>\n",
       "    <tr>\n",
       "      <th>248</th>\n",
       "      <td>E01001635</td>\n",
       "      <td>Greenwich</td>\n",
       "      <td>Theft and Handling</td>\n",
       "      <td>Motor Vehicle Interference &amp; Tampering</td>\n",
       "      <td>0</td>\n",
       "      <td>2009</td>\n",
       "      <td>2</td>\n",
       "    </tr>\n",
       "  </tbody>\n",
       "</table>\n",
       "</div>"
      ],
      "text/plain": [
       "     lsoa_code     region               major_category  \\\n",
       "1    E01001646  Greenwich  Violence Against the Person   \n",
       "75   E01001600  Greenwich                     Burglary   \n",
       "100  E01001572  Greenwich                        Drugs   \n",
       "221  E01001634  Greenwich              Criminal Damage   \n",
       "248  E01001635  Greenwich           Theft and Handling   \n",
       "\n",
       "                             minor_category  value  year  month  \n",
       "1                            Other violence      0  2016     11  \n",
       "75              Burglary in Other Buildings      0  2016     11  \n",
       "100                     Possession Of Drugs      0  2012     10  \n",
       "221        Criminal Damage To Motor Vehicle      0  2008      2  \n",
       "248  Motor Vehicle Interference & Tampering      0  2009      2  "
      ]
     },
     "execution_count": 12,
     "metadata": {},
     "output_type": "execute_result"
    }
   ],
   "source": [
    "df_greenwich = df_LondonCrime.loc[df_LondonCrime['region'] == 'Greenwich']\n",
    "df_greenwich.head()"
   ]
  },
  {
   "cell_type": "code",
   "execution_count": 13,
   "id": "034aa29f-a873-4965-97bd-f044cffd44ef",
   "metadata": {},
   "outputs": [
    {
     "data": {
      "text/plain": [
       "Theft and Handling             124308\n",
       "Violence Against the Person    100980\n",
       "Criminal Damage                 64800\n",
       "Drugs                           37260\n",
       "Burglary                        32616\n",
       "Robbery                         30240\n",
       "Other Notifiable Offences       22032\n",
       "Fraud or Forgery                 6048\n",
       "Sexual Offences                  2916\n",
       "Name: major_category, dtype: int64"
      ]
     },
     "execution_count": 13,
     "metadata": {},
     "output_type": "execute_result"
    }
   ],
   "source": [
    "df_greenwich['major_category'].value_counts()"
   ]
  },
  {
   "cell_type": "code",
   "execution_count": 14,
   "id": "4f72f3c7-b923-4f16-a250-343ed68c2aa8",
   "metadata": {},
   "outputs": [
    {
     "data": {
      "text/html": [
       "<div>\n",
       "<style scoped>\n",
       "    .dataframe tbody tr th:only-of-type {\n",
       "        vertical-align: middle;\n",
       "    }\n",
       "\n",
       "    .dataframe tbody tr th {\n",
       "        vertical-align: top;\n",
       "    }\n",
       "\n",
       "    .dataframe thead th {\n",
       "        text-align: right;\n",
       "    }\n",
       "</style>\n",
       "<table border=\"1\" class=\"dataframe\">\n",
       "  <thead>\n",
       "    <tr style=\"text-align: right;\">\n",
       "      <th></th>\n",
       "      <th>lsoa_code</th>\n",
       "      <th>region</th>\n",
       "      <th>major_category</th>\n",
       "      <th>minor_category</th>\n",
       "      <th>value</th>\n",
       "      <th>year</th>\n",
       "      <th>month</th>\n",
       "    </tr>\n",
       "  </thead>\n",
       "  <tbody>\n",
       "    <tr>\n",
       "      <th>9</th>\n",
       "      <td>E01004177</td>\n",
       "      <td>Sutton</td>\n",
       "      <td>Theft and Handling</td>\n",
       "      <td>Theft/Taking of Pedal Cycle</td>\n",
       "      <td>1</td>\n",
       "      <td>2016</td>\n",
       "      <td>8</td>\n",
       "    </tr>\n",
       "    <tr>\n",
       "      <th>19</th>\n",
       "      <td>E01004195</td>\n",
       "      <td>Sutton</td>\n",
       "      <td>Drugs</td>\n",
       "      <td>Possession Of Drugs</td>\n",
       "      <td>0</td>\n",
       "      <td>2009</td>\n",
       "      <td>10</td>\n",
       "    </tr>\n",
       "    <tr>\n",
       "      <th>79</th>\n",
       "      <td>E01004165</td>\n",
       "      <td>Sutton</td>\n",
       "      <td>Robbery</td>\n",
       "      <td>Personal Property</td>\n",
       "      <td>1</td>\n",
       "      <td>2008</td>\n",
       "      <td>1</td>\n",
       "    </tr>\n",
       "    <tr>\n",
       "      <th>97</th>\n",
       "      <td>E01004142</td>\n",
       "      <td>Sutton</td>\n",
       "      <td>Burglary</td>\n",
       "      <td>Burglary in Other Buildings</td>\n",
       "      <td>3</td>\n",
       "      <td>2013</td>\n",
       "      <td>5</td>\n",
       "    </tr>\n",
       "    <tr>\n",
       "      <th>101</th>\n",
       "      <td>E01004093</td>\n",
       "      <td>Sutton</td>\n",
       "      <td>Violence Against the Person</td>\n",
       "      <td>Wounding/GBH</td>\n",
       "      <td>0</td>\n",
       "      <td>2016</td>\n",
       "      <td>7</td>\n",
       "    </tr>\n",
       "  </tbody>\n",
       "</table>\n",
       "</div>"
      ],
      "text/plain": [
       "     lsoa_code  region               major_category  \\\n",
       "9    E01004177  Sutton           Theft and Handling   \n",
       "19   E01004195  Sutton                        Drugs   \n",
       "79   E01004165  Sutton                      Robbery   \n",
       "97   E01004142  Sutton                     Burglary   \n",
       "101  E01004093  Sutton  Violence Against the Person   \n",
       "\n",
       "                  minor_category  value  year  month  \n",
       "9    Theft/Taking of Pedal Cycle      1  2016      8  \n",
       "19           Possession Of Drugs      0  2009     10  \n",
       "79             Personal Property      1  2008      1  \n",
       "97   Burglary in Other Buildings      3  2013      5  \n",
       "101                 Wounding/GBH      0  2016      7  "
      ]
     },
     "execution_count": 14,
     "metadata": {},
     "output_type": "execute_result"
    }
   ],
   "source": [
    "df_sutton = df_LondonCrime.loc[df_LondonCrime['region'] == 'Sutton']\n",
    "df_sutton.head()"
   ]
  },
  {
   "cell_type": "code",
   "execution_count": 15,
   "id": "13f56e89-e53c-444f-843e-df5f569b45f0",
   "metadata": {},
   "outputs": [
    {
     "data": {
      "text/plain": [
       "Theft and Handling             96768\n",
       "Violence Against the Person    77760\n",
       "Criminal Damage                51408\n",
       "Drugs                          26784\n",
       "Burglary                       26136\n",
       "Robbery                        21060\n",
       "Other Notifiable Offences      17712\n",
       "Fraud or Forgery                3024\n",
       "Sexual Offences                 1836\n",
       "Name: major_category, dtype: int64"
      ]
     },
     "execution_count": 15,
     "metadata": {},
     "output_type": "execute_result"
    }
   ],
   "source": [
    "df_sutton['major_category'].value_counts()"
   ]
  },
  {
   "cell_type": "code",
   "execution_count": 16,
   "id": "e8ca0e17-0fee-4767-bf47-7fa1840d8a78",
   "metadata": {},
   "outputs": [
    {
     "data": {
      "text/plain": [
       "Theft and Handling             176256\n",
       "Violence Against the Person    143424\n",
       "Criminal Damage                 94176\n",
       "Drugs                           51948\n",
       "Burglary                        47520\n",
       "Robbery                         43740\n",
       "Other Notifiable Offences       30564\n",
       "Fraud or Forgery                 9396\n",
       "Sexual Offences                  5076\n",
       "Name: major_category, dtype: int64"
      ]
     },
     "execution_count": 16,
     "metadata": {},
     "output_type": "execute_result"
    }
   ],
   "source": [
    "df_croydon = df_LondonCrime.loc[df_LondonCrime['region'] == 'Croydon']\n",
    "df_croydon['major_category'].value_counts()"
   ]
  },
  {
   "cell_type": "code",
   "execution_count": 17,
   "id": "8cb10df2-97b3-4c50-a566-0b7a80b9af62",
   "metadata": {},
   "outputs": [],
   "source": [
    "greenwich_kriminal = pd.Series(\n",
    "    {\"Theft and Handling\":124308, \"Violence Against the Person\":100980, \"Criminal Damage\":64800, \"Drugs\":37260, \"Burglary\":32616, \"Robbery\":30240, \"Other Notifiable Offences\":22032, \n",
    "     \"Fraud or Forgery\":6048, \"Sexual Offences\":2916}\n",
    ")\n",
    "sutton_kriminal = pd.Series(\n",
    "     {\"Theft and Handling\":96768, \"Violence Against the Person\":77760, \"Criminal Damage\":51408, \"Drugs\":26784, \"Burglary\":26136, \"Robbery\":21060, \"Other Notifiable Offences\":17712, \n",
    "     \"Fraud or Forgery\":3024, \"Sexual Offences\":1836}\n",
    ")\n",
    "croydon_kriminal = pd.Series(\n",
    "     {\"Theft and Handling\":176256, \"Violence Against the Person\":143424, \"Criminal Damage\":94176, \"Drugs\":51948, \"Burglary\":47520, \"Robbery\":43740, \"Other Notifiable Offences\":30564, \n",
    "     \"Fraud or Forgery\":9396, \"Sexual Offences\":5076}\n",
    ")"
   ]
  },
  {
   "cell_type": "code",
   "execution_count": 18,
   "id": "7ecb8b79-25a4-4bfa-910c-32f406e78a4f",
   "metadata": {},
   "outputs": [
    {
     "data": {
      "text/html": [
       "<div>\n",
       "<style scoped>\n",
       "    .dataframe tbody tr th:only-of-type {\n",
       "        vertical-align: middle;\n",
       "    }\n",
       "\n",
       "    .dataframe tbody tr th {\n",
       "        vertical-align: top;\n",
       "    }\n",
       "\n",
       "    .dataframe thead th {\n",
       "        text-align: right;\n",
       "    }\n",
       "</style>\n",
       "<table border=\"1\" class=\"dataframe\">\n",
       "  <thead>\n",
       "    <tr style=\"text-align: right;\">\n",
       "      <th></th>\n",
       "      <th>Greenwich</th>\n",
       "      <th>Sutton</th>\n",
       "      <th>Croydon</th>\n",
       "    </tr>\n",
       "  </thead>\n",
       "  <tbody>\n",
       "    <tr>\n",
       "      <th>Theft and Handling</th>\n",
       "      <td>124308</td>\n",
       "      <td>96768</td>\n",
       "      <td>176256</td>\n",
       "    </tr>\n",
       "    <tr>\n",
       "      <th>Violence Against the Person</th>\n",
       "      <td>100980</td>\n",
       "      <td>77760</td>\n",
       "      <td>143424</td>\n",
       "    </tr>\n",
       "    <tr>\n",
       "      <th>Criminal Damage</th>\n",
       "      <td>64800</td>\n",
       "      <td>51408</td>\n",
       "      <td>94176</td>\n",
       "    </tr>\n",
       "    <tr>\n",
       "      <th>Drugs</th>\n",
       "      <td>37260</td>\n",
       "      <td>26784</td>\n",
       "      <td>51948</td>\n",
       "    </tr>\n",
       "    <tr>\n",
       "      <th>Burglary</th>\n",
       "      <td>32616</td>\n",
       "      <td>26136</td>\n",
       "      <td>47520</td>\n",
       "    </tr>\n",
       "    <tr>\n",
       "      <th>Robbery</th>\n",
       "      <td>30240</td>\n",
       "      <td>21060</td>\n",
       "      <td>43740</td>\n",
       "    </tr>\n",
       "    <tr>\n",
       "      <th>Other Notifiable Offences</th>\n",
       "      <td>22032</td>\n",
       "      <td>17712</td>\n",
       "      <td>30564</td>\n",
       "    </tr>\n",
       "    <tr>\n",
       "      <th>Fraud or Forgery</th>\n",
       "      <td>6048</td>\n",
       "      <td>3024</td>\n",
       "      <td>9396</td>\n",
       "    </tr>\n",
       "    <tr>\n",
       "      <th>Sexual Offences</th>\n",
       "      <td>2916</td>\n",
       "      <td>1836</td>\n",
       "      <td>5076</td>\n",
       "    </tr>\n",
       "  </tbody>\n",
       "</table>\n",
       "</div>"
      ],
      "text/plain": [
       "                             Greenwich  Sutton  Croydon\n",
       "Theft and Handling              124308   96768   176256\n",
       "Violence Against the Person     100980   77760   143424\n",
       "Criminal Damage                  64800   51408    94176\n",
       "Drugs                            37260   26784    51948\n",
       "Burglary                         32616   26136    47520\n",
       "Robbery                          30240   21060    43740\n",
       "Other Notifiable Offences        22032   17712    30564\n",
       "Fraud or Forgery                  6048    3024     9396\n",
       "Sexual Offences                   2916    1836     5076"
      ]
     },
     "execution_count": 18,
     "metadata": {},
     "output_type": "execute_result"
    }
   ],
   "source": [
    "greenwich_sutton_croydon = pd.DataFrame(\n",
    "    {\"Greenwich\": greenwich_kriminal, \"Sutton\": sutton_kriminal, \"Croydon\": croydon_kriminal}\n",
    ")\n",
    "greenwich_sutton_croydon"
   ]
  },
  {
   "cell_type": "code",
   "execution_count": 19,
   "id": "c26567e4-7162-43d1-b742-78c846a17d5e",
   "metadata": {},
   "outputs": [
    {
     "data": {
      "image/png": "[encoded data removed]",
      "text/plain": [
       "<Figure size 1440x432 with 1 Axes>"
      ]
     },
     "metadata": {},
     "output_type": "display_data"
    }
   ],
   "source": [
    "greenwich_sutton_croydon.plot(kind=\"area\", stacked=False, figsize=(20,6))\n",
    "plt.title(\"Perbandingan Jumlah Kejahatan di Wilayah Greenwich, Sutton, Croydon 2008 - 2016\")\n",
    "plt.xlabel(\"Jenis Kejahatan\")\n",
    "plt.ylabel(\"Jumlah Kejahatan\")\n",
    "plt.show()"
   ]
  },
  {
   "cell_type": "markdown",
   "id": "b575d4b0-d9f8-490c-8805-2da618bd3cab",
   "metadata": {},
   "source": [
    "insight: Dari grafik diatas menjelaskan bahwa kejahatan yang sering terjadi di Greenwich, Sutton, dan Croydon dalam periode tahun 2008-2016 ialah Theft and Handling sedangkan kejahatan Sexual Offences mendapat peringkat terakhir jenis kejahatan yang terjadi di tiga wilayah tersebut"
   ]
  },
  {
   "cell_type": "markdown",
   "id": "73403936-69a5-4b62-8769-f6520e81c81d",
   "metadata": {},
   "source": [
    "# Histogram"
   ]
  },
  {
   "cell_type": "markdown",
   "id": "16f55a89-3a14-4b58-8bfd-680087403ff4",
   "metadata": {},
   "source": [
    "# case 2 : Besaran kejahatan yang terjadi di wilayah London 2008-2016"
   ]
  },
  {
   "cell_type": "code",
   "execution_count": 20,
   "id": "9e886c7d-02a6-49bb-913c-eaead1ee26ac",
   "metadata": {},
   "outputs": [
    {
     "data": {
      "text/html": [
       "<div>\n",
       "<style scoped>\n",
       "    .dataframe tbody tr th:only-of-type {\n",
       "        vertical-align: middle;\n",
       "    }\n",
       "\n",
       "    .dataframe tbody tr th {\n",
       "        vertical-align: top;\n",
       "    }\n",
       "\n",
       "    .dataframe thead th {\n",
       "        text-align: right;\n",
       "    }\n",
       "</style>\n",
       "<table border=\"1\" class=\"dataframe\">\n",
       "  <thead>\n",
       "    <tr style=\"text-align: right;\">\n",
       "      <th></th>\n",
       "      <th>value</th>\n",
       "    </tr>\n",
       "    <tr>\n",
       "      <th>region</th>\n",
       "      <th></th>\n",
       "    </tr>\n",
       "  </thead>\n",
       "  <tbody>\n",
       "    <tr>\n",
       "      <th>Barking and Dagenham</th>\n",
       "      <td>149447</td>\n",
       "    </tr>\n",
       "    <tr>\n",
       "      <th>Barnet</th>\n",
       "      <td>212191</td>\n",
       "    </tr>\n",
       "    <tr>\n",
       "      <th>Bexley</th>\n",
       "      <td>114136</td>\n",
       "    </tr>\n",
       "    <tr>\n",
       "      <th>Brent</th>\n",
       "      <td>227551</td>\n",
       "    </tr>\n",
       "    <tr>\n",
       "      <th>Bromley</th>\n",
       "      <td>184349</td>\n",
       "    </tr>\n",
       "    <tr>\n",
       "      <th>Camden</th>\n",
       "      <td>275147</td>\n",
       "    </tr>\n",
       "    <tr>\n",
       "      <th>City of London</th>\n",
       "      <td>780</td>\n",
       "    </tr>\n",
       "    <tr>\n",
       "      <th>Croydon</th>\n",
       "      <td>260294</td>\n",
       "    </tr>\n",
       "    <tr>\n",
       "      <th>Ealing</th>\n",
       "      <td>251562</td>\n",
       "    </tr>\n",
       "    <tr>\n",
       "      <th>Enfield</th>\n",
       "      <td>193880</td>\n",
       "    </tr>\n",
       "  </tbody>\n",
       "</table>\n",
       "</div>"
      ],
      "text/plain": [
       "                       value\n",
       "region                      \n",
       "Barking and Dagenham  149447\n",
       "Barnet                212191\n",
       "Bexley                114136\n",
       "Brent                 227551\n",
       "Bromley               184349\n",
       "Camden                275147\n",
       "City of London           780\n",
       "Croydon               260294\n",
       "Ealing                251562\n",
       "Enfield               193880"
      ]
     },
     "execution_count": 20,
     "metadata": {},
     "output_type": "execute_result"
    }
   ],
   "source": [
    "df_region = df_LondonCrime.drop(['lsoa_code', 'major_category', 'minor_category', 'year', 'month'], axis = 1,)\n",
    "df_region_kriminal = pd.DataFrame(df_region.groupby(['region']).sum())\n",
    "df_region_kriminal.head(10)"
   ]
  },
  {
   "cell_type": "code",
   "execution_count": 21,
   "id": "586e2cb2-26ab-4e44-a269-be55c3bbf109",
   "metadata": {},
   "outputs": [
    {
     "data": {
      "image/png": "[encoded data removed]",
      "text/plain": [
       "<Figure size 720x360 with 1 Axes>"
      ]
     },
     "metadata": {},
     "output_type": "display_data"
    }
   ],
   "source": [
    "df_region_kriminal.plot(kind=\"hist\", figsize=(10,5))\n",
    "plt.title(\"Besaran Kejahatan yang Terjadi di London 2008-2016\")\n",
    "plt.xlabel(\"Jumlah Kasus Kejahatan\")\n",
    "plt.ylabel(\"wilayah\")\n",
    "plt.show()"
   ]
  },
  {
   "cell_type": "markdown",
   "id": "ac28b34b-428e-4b23-9d0e-a6cd5f9d0e7d",
   "metadata": {},
   "source": [
    "Insight: Dari taun 2008-2016 jumlah kejahatan yang terjadi di London berkisar antara 780-220k terbagi dari beberapa wilayah di London"
   ]
  },
  {
   "cell_type": "markdown",
   "id": "57fd86be-6fc7-4b55-81f0-9cc5ce084b50",
   "metadata": {},
   "source": [
    "# Bar Chat"
   ]
  },
  {
   "cell_type": "markdown",
   "id": "b790ca82-bf05-487d-a2fa-9884155c86da",
   "metadata": {},
   "source": [
    "# Case 3: kejahatan yang terjadi di wilayah Ealing 2008-2016"
   ]
  },
  {
   "cell_type": "code",
   "execution_count": 22,
   "id": "4d36be77-4524-4836-b1e5-9cf7883802a0",
   "metadata": {},
   "outputs": [
    {
     "data": {
      "text/html": [
       "<div>\n",
       "<style scoped>\n",
       "    .dataframe tbody tr th:only-of-type {\n",
       "        vertical-align: middle;\n",
       "    }\n",
       "\n",
       "    .dataframe tbody tr th {\n",
       "        vertical-align: top;\n",
       "    }\n",
       "\n",
       "    .dataframe thead th {\n",
       "        text-align: right;\n",
       "    }\n",
       "</style>\n",
       "<table border=\"1\" class=\"dataframe\">\n",
       "  <thead>\n",
       "    <tr style=\"text-align: right;\">\n",
       "      <th></th>\n",
       "      <th>lsoa_code</th>\n",
       "      <th>region</th>\n",
       "      <th>major_category</th>\n",
       "      <th>minor_category</th>\n",
       "      <th>value</th>\n",
       "      <th>year</th>\n",
       "      <th>month</th>\n",
       "    </tr>\n",
       "  </thead>\n",
       "  <tbody>\n",
       "    <tr>\n",
       "      <th>5</th>\n",
       "      <td>E01001320</td>\n",
       "      <td>Ealing</td>\n",
       "      <td>Theft and Handling</td>\n",
       "      <td>Other Theft</td>\n",
       "      <td>0</td>\n",
       "      <td>2012</td>\n",
       "      <td>5</td>\n",
       "    </tr>\n",
       "    <tr>\n",
       "      <th>6</th>\n",
       "      <td>E01001342</td>\n",
       "      <td>Ealing</td>\n",
       "      <td>Violence Against the Person</td>\n",
       "      <td>Offensive Weapon</td>\n",
       "      <td>0</td>\n",
       "      <td>2010</td>\n",
       "      <td>7</td>\n",
       "    </tr>\n",
       "    <tr>\n",
       "      <th>24</th>\n",
       "      <td>E01001301</td>\n",
       "      <td>Ealing</td>\n",
       "      <td>Theft and Handling</td>\n",
       "      <td>Other Theft Person</td>\n",
       "      <td>2</td>\n",
       "      <td>2012</td>\n",
       "      <td>1</td>\n",
       "    </tr>\n",
       "    <tr>\n",
       "      <th>27</th>\n",
       "      <td>E01001201</td>\n",
       "      <td>Ealing</td>\n",
       "      <td>Violence Against the Person</td>\n",
       "      <td>Other violence</td>\n",
       "      <td>0</td>\n",
       "      <td>2012</td>\n",
       "      <td>11</td>\n",
       "    </tr>\n",
       "    <tr>\n",
       "      <th>30</th>\n",
       "      <td>E01001317</td>\n",
       "      <td>Ealing</td>\n",
       "      <td>Burglary</td>\n",
       "      <td>Burglary in a Dwelling</td>\n",
       "      <td>0</td>\n",
       "      <td>2013</td>\n",
       "      <td>9</td>\n",
       "    </tr>\n",
       "  </tbody>\n",
       "</table>\n",
       "</div>"
      ],
      "text/plain": [
       "    lsoa_code  region               major_category          minor_category  \\\n",
       "5   E01001320  Ealing           Theft and Handling             Other Theft   \n",
       "6   E01001342  Ealing  Violence Against the Person        Offensive Weapon   \n",
       "24  E01001301  Ealing           Theft and Handling      Other Theft Person   \n",
       "27  E01001201  Ealing  Violence Against the Person          Other violence   \n",
       "30  E01001317  Ealing                     Burglary  Burglary in a Dwelling   \n",
       "\n",
       "    value  year  month  \n",
       "5       0  2012      5  \n",
       "6       0  2010      7  \n",
       "24      2  2012      1  \n",
       "27      0  2012     11  \n",
       "30      0  2013      9  "
      ]
     },
     "execution_count": 22,
     "metadata": {},
     "output_type": "execute_result"
    }
   ],
   "source": [
    "df_ealing = df_LondonCrime.loc[df_LondonCrime['region'] == 'Ealing']\n",
    "df_ealing.head()"
   ]
  },
  {
   "cell_type": "code",
   "execution_count": 23,
   "id": "da9d20a7-1b30-45ae-be3e-05444f724eb2",
   "metadata": {},
   "outputs": [
    {
     "data": {
      "text/plain": [
       "Theft and Handling             160812\n",
       "Violence Against the Person    130032\n",
       "Criminal Damage                 84024\n",
       "Drugs                           50220\n",
       "Burglary                        42336\n",
       "Robbery                         37908\n",
       "Other Notifiable Offences       31536\n",
       "Fraud or Forgery                 8532\n",
       "Sexual Offences                  3996\n",
       "Name: major_category, dtype: int64"
      ]
     },
     "execution_count": 23,
     "metadata": {},
     "output_type": "execute_result"
    }
   ],
   "source": [
    "df_ealing['major_category'].value_counts()"
   ]
  },
  {
   "cell_type": "code",
   "execution_count": 24,
   "id": "f2ea2fc7-2fa1-41f2-97be-59659cdb23da",
   "metadata": {},
   "outputs": [
    {
     "data": {
      "text/html": [
       "<div>\n",
       "<style scoped>\n",
       "    .dataframe tbody tr th:only-of-type {\n",
       "        vertical-align: middle;\n",
       "    }\n",
       "\n",
       "    .dataframe tbody tr th {\n",
       "        vertical-align: top;\n",
       "    }\n",
       "\n",
       "    .dataframe thead th {\n",
       "        text-align: right;\n",
       "    }\n",
       "</style>\n",
       "<table border=\"1\" class=\"dataframe\">\n",
       "  <thead>\n",
       "    <tr style=\"text-align: right;\">\n",
       "      <th></th>\n",
       "      <th>Ealing</th>\n",
       "    </tr>\n",
       "  </thead>\n",
       "  <tbody>\n",
       "    <tr>\n",
       "      <th>Theft and Handling</th>\n",
       "      <td>160812</td>\n",
       "    </tr>\n",
       "    <tr>\n",
       "      <th>Violence Against the Person</th>\n",
       "      <td>130032</td>\n",
       "    </tr>\n",
       "    <tr>\n",
       "      <th>Criminal Damage</th>\n",
       "      <td>84024</td>\n",
       "    </tr>\n",
       "    <tr>\n",
       "      <th>Drugs</th>\n",
       "      <td>50220</td>\n",
       "    </tr>\n",
       "    <tr>\n",
       "      <th>Burglary</th>\n",
       "      <td>42336</td>\n",
       "    </tr>\n",
       "    <tr>\n",
       "      <th>Robbery</th>\n",
       "      <td>37908</td>\n",
       "    </tr>\n",
       "    <tr>\n",
       "      <th>Other Notifiable Offences</th>\n",
       "      <td>31536</td>\n",
       "    </tr>\n",
       "    <tr>\n",
       "      <th>Fraud or Forgery</th>\n",
       "      <td>8532</td>\n",
       "    </tr>\n",
       "    <tr>\n",
       "      <th>Sexual Offences</th>\n",
       "      <td>3996</td>\n",
       "    </tr>\n",
       "  </tbody>\n",
       "</table>\n",
       "</div>"
      ],
      "text/plain": [
       "                             Ealing\n",
       "Theft and Handling           160812\n",
       "Violence Against the Person  130032\n",
       "Criminal Damage               84024\n",
       "Drugs                         50220\n",
       "Burglary                      42336\n",
       "Robbery                       37908\n",
       "Other Notifiable Offences     31536\n",
       "Fraud or Forgery               8532\n",
       "Sexual Offences                3996"
      ]
     },
     "execution_count": 24,
     "metadata": {},
     "output_type": "execute_result"
    }
   ],
   "source": [
    "ealing_kriminal = pd.Series(\n",
    "    {\"Theft and Handling\":160812, \"Violence Against the Person\":130032, \"Criminal Damage\":84024, \"Drugs\":50220, \"Burglary\":42336, \"Robbery\":37908, \"Other Notifiable Offences\":31536, \n",
    "     \"Fraud or Forgery\":8532, \"Sexual Offences\":3996}\n",
    ")\n",
    "ealing_kriminal2 = pd.DataFrame(\n",
    "    {\"Ealing\" : ealing_kriminal}\n",
    ")\n",
    "ealing_kriminal2"
   ]
  },
  {
   "cell_type": "code",
   "execution_count": 25,
   "id": "a6c667d6-c2a7-4b40-b69a-7bd50d3b3efa",
   "metadata": {},
   "outputs": [
    {
     "data": {
      "image/png": "[encoded data removed]",
      "text/plain": [
       "<Figure size 720x360 with 1 Axes>"
      ]
     },
     "metadata": {},
     "output_type": "display_data"
    }
   ],
   "source": [
    "ealing_kriminal2.plot(kind=\"bar\", figsize=(10,5))\n",
    "\n",
    "plt.title(\"Jumlah Kejahatan yang Terjadi di Wilayah Ealing 2008-2016\")\n",
    "plt.xlabel(\"Jenis Kejahatan\")\n",
    "plt.ylabel(\"Jumlah Kejahatan\")\n",
    "plt.show()"
   ]
  },
  {
   "cell_type": "code",
   "execution_count": 26,
   "id": "3ba7e49d-5119-4b05-b5c6-1636b1ac0692",
   "metadata": {},
   "outputs": [
    {
     "data": {
      "image/png": "[encoded data removed]",
      "text/plain": [
       "<Figure size 720x360 with 1 Axes>"
      ]
     },
     "metadata": {},
     "output_type": "display_data"
    }
   ],
   "source": [
    "ealing_kriminal2.plot(kind=\"barh\", figsize=(10,5))\n",
    "\n",
    "plt.title(\"Jumlah Kejahatan yang Terjadi di Wilayah Ealing 2008-2016\")\n",
    "plt.xlabel(\"Jenis Kejahatan\")\n",
    "plt.ylabel(\"Jumlah Kejahatan\")\n",
    "plt.show()"
   ]
  },
  {
   "cell_type": "markdown",
   "id": "ea85f627-0525-471d-9503-b8e58a606afd",
   "metadata": {},
   "source": [
    "Insight: Dari grafik diatas dapat diperoleh informasi jumlah kejahatan dan jenis kejahatan yang terjadi di wilayah Ealing dari periode tahun 2008-2016"
   ]
  },
  {
   "cell_type": "markdown",
   "id": "547fe017-59c3-459c-ad84-2dc39a6a7487",
   "metadata": {},
   "source": [
    "# Pie Chart "
   ]
  },
  {
   "cell_type": "markdown",
   "id": "6e14fea9-d8f3-417a-b914-b55a0d8866e3",
   "metadata": {},
   "source": [
    "# case 4: Presentase kejahatan yang terjadi di London 2008-2016"
   ]
  },
  {
   "cell_type": "code",
   "execution_count": 27,
   "id": "3b7788b5-6277-4f49-ac62-1db7c11f439e",
   "metadata": {},
   "outputs": [
    {
     "data": {
      "text/plain": [
       "major_category\n",
       "Burglary                       2099731248\n",
       "Criminal Damage                4163174064\n",
       "Drugs                          2373089616\n",
       "Fraud or Forgery                475878240\n",
       "Other Notifiable Offences      1561923648\n",
       "Robbery                        1890040608\n",
       "Sexual Offences                 217513296\n",
       "Theft and Handling             7980195600\n",
       "Violence Against the Person    6381548928\n",
       "Name: year, dtype: int64"
      ]
     },
     "execution_count": 27,
     "metadata": {},
     "output_type": "execute_result"
    }
   ],
   "source": [
    "df_MajorCategory = df_LondonCrime.groupby('major_category') ['year'].sum()\n",
    "df_MajorCategory"
   ]
  },
  {
   "cell_type": "code",
   "execution_count": 28,
   "id": "277d36ca-bcea-49af-918a-6adc02a8873d",
   "metadata": {},
   "outputs": [
    {
     "data": {
      "image/png": "[encoded data removed]",
      "text/plain": [
       "<Figure size 1080x432 with 1 Axes>"
      ]
     },
     "metadata": {},
     "output_type": "display_data"
    }
   ],
   "source": [
    "df_MajorCategory.plot(\n",
    "    kind=\"pie\", \n",
    "    figsize = (15,6), \n",
    "    startangle=90, \n",
    "    autopct=\"%1.1f%%\",\n",
    "    shadow=True,\n",
    "    pctdistance=1.12,\n",
    "    labels=None\n",
    ")\n",
    "\n",
    "plt.title(\"Total Kejahatan di London 2008-2016\", y = 1.12)\n",
    "plt.axis('equal')\n",
    "plt.legend(labels=df_MajorCategory.index, loc=\"upper left\")\n",
    "plt.show()"
   ]
  },
  {
   "cell_type": "markdown",
   "id": "e3153780-d7b0-446f-8749-41c9307ca207",
   "metadata": {},
   "source": [
    "Insight: Dari tahun 2008-2016, jenis kasus kejahatan yang paling umum di London adalah Pencurian dan Penanganan dengan 41,3% dari total kasus. Di sisi lain, Pelanggaran Seksual adalah jenis kejahatan paling umum di London dengan hanya 0,0% dari total kasus"
   ]
  },
  {
   "cell_type": "markdown",
   "id": "21554b97-abb1-4007-9a2c-a40ad844dc27",
   "metadata": {},
   "source": [
    "# Box Plot"
   ]
  },
  {
   "cell_type": "markdown",
   "id": "98773492-5b59-484b-b6db-96d1a0fa97a7",
   "metadata": {},
   "source": [
    "# Case 5: Nilai minimun, maximum, median dan quantile dari jumlah kejahatan yang terjadi di London pada periode 2008-2016"
   ]
  },
  {
   "cell_type": "code",
   "execution_count": 29,
   "id": "ed63c0f5-f8ec-44ab-9aec-b0b9196db0f6",
   "metadata": {},
   "outputs": [
    {
     "data": {
      "text/html": [
       "<div>\n",
       "<style scoped>\n",
       "    .dataframe tbody tr th:only-of-type {\n",
       "        vertical-align: middle;\n",
       "    }\n",
       "\n",
       "    .dataframe tbody tr th {\n",
       "        vertical-align: top;\n",
       "    }\n",
       "\n",
       "    .dataframe thead th {\n",
       "        text-align: right;\n",
       "    }\n",
       "</style>\n",
       "<table border=\"1\" class=\"dataframe\">\n",
       "  <thead>\n",
       "    <tr style=\"text-align: right;\">\n",
       "      <th></th>\n",
       "      <th>value</th>\n",
       "      <th>year</th>\n",
       "      <th>month</th>\n",
       "    </tr>\n",
       "  </thead>\n",
       "  <tbody>\n",
       "    <tr>\n",
       "      <th>count</th>\n",
       "      <td>1.349060e+07</td>\n",
       "      <td>1.349060e+07</td>\n",
       "      <td>1.349060e+07</td>\n",
       "    </tr>\n",
       "    <tr>\n",
       "      <th>mean</th>\n",
       "      <td>4.779444e-01</td>\n",
       "      <td>2.012000e+03</td>\n",
       "      <td>6.500000e+00</td>\n",
       "    </tr>\n",
       "    <tr>\n",
       "      <th>std</th>\n",
       "      <td>1.771513e+00</td>\n",
       "      <td>2.581989e+00</td>\n",
       "      <td>3.452053e+00</td>\n",
       "    </tr>\n",
       "    <tr>\n",
       "      <th>min</th>\n",
       "      <td>0.000000e+00</td>\n",
       "      <td>2.008000e+03</td>\n",
       "      <td>1.000000e+00</td>\n",
       "    </tr>\n",
       "    <tr>\n",
       "      <th>25%</th>\n",
       "      <td>0.000000e+00</td>\n",
       "      <td>2.010000e+03</td>\n",
       "      <td>3.750000e+00</td>\n",
       "    </tr>\n",
       "    <tr>\n",
       "      <th>50%</th>\n",
       "      <td>0.000000e+00</td>\n",
       "      <td>2.012000e+03</td>\n",
       "      <td>6.500000e+00</td>\n",
       "    </tr>\n",
       "    <tr>\n",
       "      <th>75%</th>\n",
       "      <td>1.000000e+00</td>\n",
       "      <td>2.014000e+03</td>\n",
       "      <td>9.250000e+00</td>\n",
       "    </tr>\n",
       "    <tr>\n",
       "      <th>max</th>\n",
       "      <td>3.090000e+02</td>\n",
       "      <td>2.016000e+03</td>\n",
       "      <td>1.200000e+01</td>\n",
       "    </tr>\n",
       "  </tbody>\n",
       "</table>\n",
       "</div>"
      ],
      "text/plain": [
       "              value          year         month\n",
       "count  1.349060e+07  1.349060e+07  1.349060e+07\n",
       "mean   4.779444e-01  2.012000e+03  6.500000e+00\n",
       "std    1.771513e+00  2.581989e+00  3.452053e+00\n",
       "min    0.000000e+00  2.008000e+03  1.000000e+00\n",
       "25%    0.000000e+00  2.010000e+03  3.750000e+00\n",
       "50%    0.000000e+00  2.012000e+03  6.500000e+00\n",
       "75%    1.000000e+00  2.014000e+03  9.250000e+00\n",
       "max    3.090000e+02  2.016000e+03  1.200000e+01"
      ]
     },
     "execution_count": 29,
     "metadata": {},
     "output_type": "execute_result"
    }
   ],
   "source": [
    "df_LondonCrime.describe()"
   ]
  },
  {
   "cell_type": "code",
   "execution_count": 30,
   "id": "a0b52221-e28e-4986-9ffc-dbbdb83f7f09",
   "metadata": {},
   "outputs": [
    {
     "data": {
      "text/html": [
       "<div>\n",
       "<style scoped>\n",
       "    .dataframe tbody tr th:only-of-type {\n",
       "        vertical-align: middle;\n",
       "    }\n",
       "\n",
       "    .dataframe tbody tr th {\n",
       "        vertical-align: top;\n",
       "    }\n",
       "\n",
       "    .dataframe thead th {\n",
       "        text-align: right;\n",
       "    }\n",
       "</style>\n",
       "<table border=\"1\" class=\"dataframe\">\n",
       "  <thead>\n",
       "    <tr style=\"text-align: right;\">\n",
       "      <th></th>\n",
       "      <th>value</th>\n",
       "    </tr>\n",
       "    <tr>\n",
       "      <th>year</th>\n",
       "      <th></th>\n",
       "    </tr>\n",
       "  </thead>\n",
       "  <tbody>\n",
       "    <tr>\n",
       "      <th>2008</th>\n",
       "      <td>738641</td>\n",
       "    </tr>\n",
       "    <tr>\n",
       "      <th>2009</th>\n",
       "      <td>717214</td>\n",
       "    </tr>\n",
       "    <tr>\n",
       "      <th>2010</th>\n",
       "      <td>715324</td>\n",
       "    </tr>\n",
       "    <tr>\n",
       "      <th>2011</th>\n",
       "      <td>724915</td>\n",
       "    </tr>\n",
       "    <tr>\n",
       "      <th>2012</th>\n",
       "      <td>737329</td>\n",
       "    </tr>\n",
       "    <tr>\n",
       "      <th>2013</th>\n",
       "      <td>686407</td>\n",
       "    </tr>\n",
       "    <tr>\n",
       "      <th>2014</th>\n",
       "      <td>680183</td>\n",
       "    </tr>\n",
       "    <tr>\n",
       "      <th>2015</th>\n",
       "      <td>711624</td>\n",
       "    </tr>\n",
       "    <tr>\n",
       "      <th>2016</th>\n",
       "      <td>736121</td>\n",
       "    </tr>\n",
       "  </tbody>\n",
       "</table>\n",
       "</div>"
      ],
      "text/plain": [
       "       value\n",
       "year        \n",
       "2008  738641\n",
       "2009  717214\n",
       "2010  715324\n",
       "2011  724915\n",
       "2012  737329\n",
       "2013  686407\n",
       "2014  680183\n",
       "2015  711624\n",
       "2016  736121"
      ]
     },
     "execution_count": 30,
     "metadata": {},
     "output_type": "execute_result"
    }
   ],
   "source": [
    "df_value = df_LondonCrime.drop(['lsoa_code', 'major_category', 'minor_category', 'region', 'month'], axis = 1,)\n",
    "df_value_year = pd.DataFrame(df_value.groupby(['year']).sum())\n",
    "df_value_year.head(10)"
   ]
  },
  {
   "cell_type": "code",
   "execution_count": 31,
   "id": "aee97704-eab6-4871-8709-b7bbba378ef5",
   "metadata": {},
   "outputs": [
    {
     "data": {
      "text/html": [
       "<div>\n",
       "<style scoped>\n",
       "    .dataframe tbody tr th:only-of-type {\n",
       "        vertical-align: middle;\n",
       "    }\n",
       "\n",
       "    .dataframe tbody tr th {\n",
       "        vertical-align: top;\n",
       "    }\n",
       "\n",
       "    .dataframe thead th {\n",
       "        text-align: right;\n",
       "    }\n",
       "</style>\n",
       "<table border=\"1\" class=\"dataframe\">\n",
       "  <thead>\n",
       "    <tr style=\"text-align: right;\">\n",
       "      <th></th>\n",
       "      <th>value</th>\n",
       "    </tr>\n",
       "  </thead>\n",
       "  <tbody>\n",
       "    <tr>\n",
       "      <th>count</th>\n",
       "      <td>9.000000</td>\n",
       "    </tr>\n",
       "    <tr>\n",
       "      <th>mean</th>\n",
       "      <td>716417.555556</td>\n",
       "    </tr>\n",
       "    <tr>\n",
       "      <th>std</th>\n",
       "      <td>21301.370555</td>\n",
       "    </tr>\n",
       "    <tr>\n",
       "      <th>min</th>\n",
       "      <td>680183.000000</td>\n",
       "    </tr>\n",
       "    <tr>\n",
       "      <th>25%</th>\n",
       "      <td>711624.000000</td>\n",
       "    </tr>\n",
       "    <tr>\n",
       "      <th>50%</th>\n",
       "      <td>717214.000000</td>\n",
       "    </tr>\n",
       "    <tr>\n",
       "      <th>75%</th>\n",
       "      <td>736121.000000</td>\n",
       "    </tr>\n",
       "    <tr>\n",
       "      <th>max</th>\n",
       "      <td>738641.000000</td>\n",
       "    </tr>\n",
       "  </tbody>\n",
       "</table>\n",
       "</div>"
      ],
      "text/plain": [
       "               value\n",
       "count       9.000000\n",
       "mean   716417.555556\n",
       "std     21301.370555\n",
       "min    680183.000000\n",
       "25%    711624.000000\n",
       "50%    717214.000000\n",
       "75%    736121.000000\n",
       "max    738641.000000"
      ]
     },
     "execution_count": 31,
     "metadata": {},
     "output_type": "execute_result"
    }
   ],
   "source": [
    "df_value_year.describe()"
   ]
  },
  {
   "cell_type": "code",
   "execution_count": 32,
   "id": "db7f0e50-a0f0-4507-b0af-074a913a7736",
   "metadata": {},
   "outputs": [
    {
     "data": {
      "image/png": "[encoded data removed]",
      "text/plain": [
       "<Figure size 720x360 with 1 Axes>"
      ]
     },
     "metadata": {},
     "output_type": "display_data"
    }
   ],
   "source": [
    "df_value_year.plot(kind=\"box\", figsize=(10,5))\n",
    "\n",
    "plt.title(\"Statistik Kejahatan di London\")\n",
    "plt.ylabel(\"Jumlah Kasus Kejahatan\")\n",
    "plt.show()"
   ]
  },
  {
   "cell_type": "markdown",
   "id": "eac3c36a-2b6e-4af4-a4ad-07509816c02c",
   "metadata": {},
   "source": [
    "Insights :             \n",
    "\n",
    "    Nilai minimum jumlah kejahatan periode 2008-2016 kurang lebih 680k\n",
    "    Nilai maximum jumlah kejahatan periode 2008-2016 kurang lebih 738k\n",
    "    Nilai median dari jumlah kejahatan periode 2008-2016 ialah 718k\n",
    "    25% nilai dari jumlah kejahatan periode 2008-2016 ialah 711k\n",
    "    75% nilai dari jumlah kejahatan periode 2008-2016 ialah 745k"
   ]
  },
  {
   "cell_type": "markdown",
   "id": "3a490440-34c6-4e0c-b724-ec8481a519f1",
   "metadata": {},
   "source": [
    "# Scatter"
   ]
  },
  {
   "cell_type": "markdown",
   "id": "aea2430c-06e5-4cbf-bd76-f2aa30829a52",
   "metadata": {},
   "source": [
    "# case 6: Tren dari kasus kejahatan yang terjadi di London periode tahun 2008-2016"
   ]
  },
  {
   "cell_type": "code",
   "execution_count": 40,
   "id": "ac745ddb-6d7d-4c26-af45-cb025f4d15b6",
   "metadata": {},
   "outputs": [
    {
     "data": {
      "image/png": "[encoded data removed]",
      "text/plain": [
       "<Figure size 720x360 with 1 Axes>"
      ]
     },
     "metadata": {},
     "output_type": "display_data"
    }
   ],
   "source": [
    "df_scatter = df_value_year.reset_index(inplace=False)\n",
    "df_scatter.plot(kind='scatter', x='year', y='value', figsize=(10, 5), color='darkblue') #function to generate scatter plot\n",
    "\n",
    "plt.title(\"Jumlah Kasus Kejahatan di London Tahun 2008-2016\")\n",
    "plt.xlabel(\"Tahun\")\n",
    "plt.ylabel(\"Jumlah Kasus\")\n",
    "plt.show()"
   ]
  },
  {
   "cell_type": "markdown",
   "id": "526df1c4-5d22-4826-ac21-febec97126a2",
   "metadata": {},
   "source": [
    "Insight: Tren kasus kejahatan yang terjadi di London 2008-2016 relatif stabil tetapi terdapat penurunan kasus yang cukup ekstrim di tahun 2013 dan 2014"
   ]
  },
  {
   "cell_type": "markdown",
   "id": "2e22836a-9d58-41f4-9c2c-a33ab898dfae",
   "metadata": {},
   "source": [
    "# WordCloud"
   ]
  },
  {
   "cell_type": "code",
   "execution_count": 34,
   "id": "2b3073d9-7dbd-419f-b369-53a9cade6cf6",
   "metadata": {},
   "outputs": [
    {
     "name": "stdout",
     "output_type": "stream",
     "text": [
      "Requirement already satisfied: wordcloud in c:\\users\\user\\anaconda3\\lib\\site-packages (1.8.1)\n",
      "Requirement already satisfied: numpy>=1.6.1 in c:\\users\\user\\anaconda3\\lib\\site-packages (from wordcloud) (1.20.1)\n",
      "Requirement already satisfied: matplotlib in c:\\users\\user\\anaconda3\\lib\\site-packages (from wordcloud) (3.3.4)\n",
      "Requirement already satisfied: pillow in c:\\users\\user\\anaconda3\\lib\\site-packages (from wordcloud) (8.2.0)\n",
      "Requirement already satisfied: python-dateutil>=2.1 in c:\\users\\user\\anaconda3\\lib\\site-packages (from matplotlib->wordcloud) (2.8.1)\n",
      "Requirement already satisfied: cycler>=0.10 in c:\\users\\user\\anaconda3\\lib\\site-packages (from matplotlib->wordcloud) (0.10.0)\n",
      "Requirement already satisfied: pyparsing!=2.0.4,!=2.1.2,!=2.1.6,>=2.0.3 in c:\\users\\user\\anaconda3\\lib\\site-packages (from matplotlib->wordcloud) (2.4.7)\n",
      "Requirement already satisfied: kiwisolver>=1.0.1 in c:\\users\\user\\anaconda3\\lib\\site-packages (from matplotlib->wordcloud) (1.3.1)\n",
      "Requirement already satisfied: six in c:\\users\\user\\anaconda3\\lib\\site-packages (from cycler>=0.10->matplotlib->wordcloud) (1.15.0)\n",
      "Wordcloud is installed and imported\n"
     ]
    }
   ],
   "source": [
    "!pip install wordcloud\n",
    "from wordcloud import WordCloud, STOPWORDS\n",
    "print(\"Wordcloud is installed and imported\")"
   ]
  },
  {
   "cell_type": "code",
   "execution_count": 36,
   "id": "c5a19ee1-ebd5-4f31-bef2-68ed85460da5",
   "metadata": {},
   "outputs": [
    {
     "data": {
      "image/png": "[encoded data removed]",
      "text/plain": [
       "<Figure size 432x288 with 1 Axes>"
      ]
     },
     "metadata": {},
     "output_type": "display_data"
    }
   ],
   "source": [
    "df_woc = df_LondonCrime[df_LondonCrime['year'].isin([2012,2013,2014,2015,2016])]\n",
    "df_woc = df_woc[df_woc['region'].isin(['City of London'])]\n",
    "df_woc = df_woc['major_category'].str.cat(sep=' ')\n",
    "\n",
    "stopwords = set(STOPWORDS)\n",
    "df_wordcloud = WordCloud(\n",
    "    background_color='white',\n",
    "    max_words=2000,\n",
    "    stopwords=stopwords\n",
    ")\n",
    "\n",
    "df_wordcloud.generate(df_woc)\n",
    "plt.imshow(df_wordcloud, interpolation='bilinear')\n",
    "plt.axis('off')\n",
    "plt.show()"
   ]
  },
  {
   "cell_type": "code",
   "execution_count": 38,
   "id": "8808d7f7-0cf6-4b75-ac01-2e412a53c5a2",
   "metadata": {},
   "outputs": [
    {
     "name": "stdout",
     "output_type": "stream",
     "text": [
      "Requirement already satisfied: folium in c:\\users\\user\\anaconda3\\lib\\site-packages (0.12.1)\n",
      "Requirement already satisfied: numpy in c:\\users\\user\\anaconda3\\lib\\site-packages (from folium) (1.20.1)\n",
      "Requirement already satisfied: jinja2>=2.9 in c:\\users\\user\\anaconda3\\lib\\site-packages (from folium) (2.11.3)\n",
      "Requirement already satisfied: requests in c:\\users\\user\\anaconda3\\lib\\site-packages (from folium) (2.25.1)\n",
      "Requirement already satisfied: branca>=0.3.0 in c:\\users\\user\\anaconda3\\lib\\site-packages (from folium) (0.4.2)\n",
      "Requirement already satisfied: MarkupSafe>=0.23 in c:\\users\\user\\anaconda3\\lib\\site-packages (from jinja2>=2.9->folium) (1.1.1)\n",
      "Requirement already satisfied: chardet<5,>=3.0.2 in c:\\users\\user\\anaconda3\\lib\\site-packages (from requests->folium) (4.0.0)\n",
      "Requirement already satisfied: idna<3,>=2.5 in c:\\users\\user\\anaconda3\\lib\\site-packages (from requests->folium) (2.10)\n",
      "Requirement already satisfied: certifi>=2017.4.17 in c:\\users\\user\\anaconda3\\lib\\site-packages (from requests->folium) (2020.12.5)\n",
      "Requirement already satisfied: urllib3<1.27,>=1.21.1 in c:\\users\\user\\anaconda3\\lib\\site-packages (from requests->folium) (1.26.4)\n"
     ]
    }
   ],
   "source": [
    "!pip install folium \n",
    "import folium "
   ]
  },
  {
   "cell_type": "code",
   "execution_count": 39,
   "id": "e2827985-6f47-4ea6-9b63-b0cda5ac6ca0",
   "metadata": {},
   "outputs": [
    {
     "data": {
      "text/html": [
       "<div style=\"width:100%;\"><div style=\"position:relative;width:100%;height:0;padding-bottom:60%;\"><span style=\"color:#565656\">Make this Notebook Trusted to load map: File -> Trust Notebook</span><iframe src=\"about:blank\" style=\"position:absolute;width:100%;height:100%;left:0;top:0;border:none !important;\" data-html=%3C%21DOCTYPE%20html%3E%0A%3Chead%3E%20%20%20%20%0A%20%20%20%20%3Cmeta%20http-equiv%3D%22content-type%22%20content%3D%22text/html%3B%20charset%3DUTF-8%22%20/%3E%0A%20%20%20%20%0A%20%20%20%20%20%20%20%20%3Cscript%3E%0A%20%20%20%20%20%20%20%20%20%20%20%20L_NO_TOUCH%20%3D%20false%3B%0A%20%20%20%20%20%20%20%20%20%20%20%20L_DISABLE_3D%20%3D%20false%3B%0A%20%20%20%20%20%20%20%20%3C/script%3E%0A%20%20%20%20%0A%20%20%20%20%3Cstyle%3Ehtml%2C%20body%20%7Bwidth%3A%20100%25%3Bheight%3A%20100%25%3Bmargin%3A%200%3Bpadding%3A%200%3B%7D%3C/style%3E%0A%20%20%20%20%3Cstyle%3E%23map%20%7Bposition%3Aabsolute%3Btop%3A0%3Bbottom%3A0%3Bright%3A0%3Bleft%3A0%3B%7D%3C/style%3E%0A%20%20%20%20%3Cscript%20src%3D%22https%3A//cdn.jsdelivr.net/npm/leaflet%401.6.0/dist/leaflet.js%22%3E%3C/script%3E%0A%20%20%20%20%3Cscript%20src%3D%22https%3A//code.jquery.com/jquery-1.12.4.min.js%22%3E%3C/script%3E%0A%20%20%20%20%3Cscript%20src%3D%22https%3A//maxcdn.bootstrapcdn.com/bootstrap/3.2.0/js/bootstrap.min.js%22%3E%3C/script%3E%0A%20%20%20%20%3Cscript%20src%3D%22https%3A//cdnjs.cloudflare.com/ajax/libs/Leaflet.awesome-markers/2.0.2/leaflet.awesome-markers.js%22%3E%3C/script%3E%0A%20%20%20%20%3Clink%20rel%3D%22stylesheet%22%20href%3D%22https%3A//cdn.jsdelivr.net/npm/leaflet%401.6.0/dist/leaflet.css%22/%3E%0A%20%20%20%20%3Clink%20rel%3D%22stylesheet%22%20href%3D%22https%3A//maxcdn.bootstrapcdn.com/bootstrap/3.2.0/css/bootstrap.min.css%22/%3E%0A%20%20%20%20%3Clink%20rel%3D%22stylesheet%22%20href%3D%22https%3A//maxcdn.bootstrapcdn.com/bootstrap/3.2.0/css/bootstrap-theme.min.css%22/%3E%0A%20%20%20%20%3Clink%20rel%3D%22stylesheet%22%20href%3D%22https%3A//maxcdn.bootstrapcdn.com/font-awesome/4.6.3/css/font-awesome.min.css%22/%3E%0A%20%20%20%20%3Clink%20rel%3D%22stylesheet%22%20href%3D%22https%3A//cdnjs.cloudflare.com/ajax/libs/Leaflet.awesome-markers/2.0.2/leaflet.awesome-markers.css%22/%3E%0A%20%20%20%20%3Clink%20rel%3D%22stylesheet%22%20href%3D%22https%3A//cdn.jsdelivr.net/gh/python-visualization/folium/folium/templates/leaflet.awesome.rotate.min.css%22/%3E%0A%20%20%20%20%0A%20%20%20%20%20%20%20%20%20%20%20%20%3Cmeta%20name%3D%22viewport%22%20content%3D%22width%3Ddevice-width%2C%0A%20%20%20%20%20%20%20%20%20%20%20%20%20%20%20%20initial-scale%3D1.0%2C%20maximum-scale%3D1.0%2C%20user-scalable%3Dno%22%20/%3E%0A%20%20%20%20%20%20%20%20%20%20%20%20%3Cstyle%3E%0A%20%20%20%20%20%20%20%20%20%20%20%20%20%20%20%20%23map_b5d5928035c24b79838d1929a80695e7%20%7B%0A%20%20%20%20%20%20%20%20%20%20%20%20%20%20%20%20%20%20%20%20position%3A%20relative%3B%0A%20%20%20%20%20%20%20%20%20%20%20%20%20%20%20%20%20%20%20%20width%3A%20100.0%25%3B%0A%20%20%20%20%20%20%20%20%20%20%20%20%20%20%20%20%20%20%20%20height%3A%20100.0%25%3B%0A%20%20%20%20%20%20%20%20%20%20%20%20%20%20%20%20%20%20%20%20left%3A%200.0%25%3B%0A%20%20%20%20%20%20%20%20%20%20%20%20%20%20%20%20%20%20%20%20top%3A%200.0%25%3B%0A%20%20%20%20%20%20%20%20%20%20%20%20%20%20%20%20%7D%0A%20%20%20%20%20%20%20%20%20%20%20%20%3C/style%3E%0A%20%20%20%20%20%20%20%20%0A%3C/head%3E%0A%3Cbody%3E%20%20%20%20%0A%20%20%20%20%0A%20%20%20%20%20%20%20%20%20%20%20%20%3Cdiv%20class%3D%22folium-map%22%20id%3D%22map_b5d5928035c24b79838d1929a80695e7%22%20%3E%3C/div%3E%0A%20%20%20%20%20%20%20%20%0A%3C/body%3E%0A%3Cscript%3E%20%20%20%20%0A%20%20%20%20%0A%20%20%20%20%20%20%20%20%20%20%20%20var%20map_b5d5928035c24b79838d1929a80695e7%20%3D%20L.map%28%0A%20%20%20%20%20%20%20%20%20%20%20%20%20%20%20%20%22map_b5d5928035c24b79838d1929a80695e7%22%2C%0A%20%20%20%20%20%20%20%20%20%20%20%20%20%20%20%20%7B%0A%20%20%20%20%20%20%20%20%20%20%20%20%20%20%20%20%20%20%20%20center%3A%20%5B51.5074%2C%200.1278%5D%2C%0A%20%20%20%20%20%20%20%20%20%20%20%20%20%20%20%20%20%20%20%20crs%3A%20L.CRS.EPSG3857%2C%0A%20%20%20%20%20%20%20%20%20%20%20%20%20%20%20%20%20%20%20%20zoom%3A%208%2C%0A%20%20%20%20%20%20%20%20%20%20%20%20%20%20%20%20%20%20%20%20zoomControl%3A%20true%2C%0A%20%20%20%20%20%20%20%20%20%20%20%20%20%20%20%20%20%20%20%20preferCanvas%3A%20false%2C%0A%20%20%20%20%20%20%20%20%20%20%20%20%20%20%20%20%7D%0A%20%20%20%20%20%20%20%20%20%20%20%20%29%3B%0A%0A%20%20%20%20%20%20%20%20%20%20%20%20%0A%0A%20%20%20%20%20%20%20%20%0A%20%20%20%20%0A%20%20%20%20%20%20%20%20%20%20%20%20var%20tile_layer_2c77c657445b418685fc7eee99b880d4%20%3D%20L.tileLayer%28%0A%20%20%20%20%20%20%20%20%20%20%20%20%20%20%20%20%22https%3A//%7Bs%7D.tile.openstreetmap.org/%7Bz%7D/%7Bx%7D/%7By%7D.png%22%2C%0A%20%20%20%20%20%20%20%20%20%20%20%20%20%20%20%20%7B%22attribution%22%3A%20%22Data%20by%20%5Cu0026copy%3B%20%5Cu003ca%20href%3D%5C%22http%3A//openstreetmap.org%5C%22%5Cu003eOpenStreetMap%5Cu003c/a%5Cu003e%2C%20under%20%5Cu003ca%20href%3D%5C%22http%3A//www.openstreetmap.org/copyright%5C%22%5Cu003eODbL%5Cu003c/a%5Cu003e.%22%2C%20%22detectRetina%22%3A%20false%2C%20%22maxNativeZoom%22%3A%2018%2C%20%22maxZoom%22%3A%2018%2C%20%22minZoom%22%3A%200%2C%20%22noWrap%22%3A%20false%2C%20%22opacity%22%3A%201%2C%20%22subdomains%22%3A%20%22abc%22%2C%20%22tms%22%3A%20false%7D%0A%20%20%20%20%20%20%20%20%20%20%20%20%29.addTo%28map_b5d5928035c24b79838d1929a80695e7%29%3B%0A%20%20%20%20%20%20%20%20%0A%3C/script%3E onload=\"this.contentDocument.open();this.contentDocument.write(    decodeURIComponent(this.getAttribute('data-html')));this.contentDocument.close();\" allowfullscreen webkitallowfullscreen mozallowfullscreen></iframe></div></div>"
      ],
      "text/plain": [
       "<folium.folium.Map at 0x18f83abf370>"
      ]
     },
     "execution_count": 39,
     "metadata": {},
     "output_type": "execute_result"
    }
   ],
   "source": [
    "latitude = 51.5074\n",
    "longitude = 0.1278\n",
    "london_map = folium.Map(location=[latitude,longitude], zoom_start=8)\n",
    "london_map"
   ]
  },
  {
   "cell_type": "code",
   "execution_count": null,
   "id": "0310e18e-76de-4042-bab7-15a012c20f78",
   "metadata": {},
   "outputs": [],
   "source": []
  }
 ],
 "metadata": {
  "kernelspec": {
   "display_name": "Python 3",
   "language": "python",
   "name": "python3"
  },
  "language_info": {
   "codemirror_mode": {
    "name": "ipython",
    "version": 3
   },
   "file_extension": ".py",
   "mimetype": "text/x-python",
   "name": "python",
   "nbconvert_exporter": "python",
   "pygments_lexer": "ipython3",
   "version": "3.8.8"
  }
 },
 "nbformat": 4,
 "nbformat_minor": 5
}
