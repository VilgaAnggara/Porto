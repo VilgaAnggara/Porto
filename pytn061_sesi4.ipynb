{
 "cells": [
  {
   "cell_type": "code",
   "execution_count": 1,
   "id": "5445a404-e1db-49ee-a36d-3f5a41c6a3a4",
   "metadata": {},
   "outputs": [
    {
     "name": "stdout",
     "output_type": "stream",
     "text": [
      "Requirement already satisfied: numpy in c:\\users\\user\\anaconda3\\lib\\site-packages (1.20.1)\n",
      "Note: you may need to restart the kernel to use updated packages.\n"
     ]
    }
   ],
   "source": [
    "pip install numpy"
   ]
  },
  {
   "cell_type": "code",
   "execution_count": 2,
   "id": "88a29b77-c8f7-4f5b-b6d1-0d1d2b31ec01",
   "metadata": {},
   "outputs": [],
   "source": [
    "import numpy as np"
   ]
  },
  {
   "cell_type": "code",
   "execution_count": 4,
   "id": "cf5820d1-1328-4f16-83ab-e19a379e61db",
   "metadata": {},
   "outputs": [
    {
     "name": "stdout",
     "output_type": "stream",
     "text": [
      "{1, 2, 3}\n"
     ]
    },
    {
     "data": {
      "text/plain": [
       "array({1, 2, 3}, dtype=object)"
      ]
     },
     "execution_count": 4,
     "metadata": {},
     "output_type": "execute_result"
    }
   ],
   "source": [
    "a = np.array ({1,2,3})\n",
    "print(a)\n",
    "a"
   ]
  },
  {
   "cell_type": "code",
   "execution_count": 6,
   "id": "490ea064-2c08-4303-a901-1346e2c011b3",
   "metadata": {},
   "outputs": [
    {
     "name": "stdout",
     "output_type": "stream",
     "text": [
      "[[1 2 3]\n",
      " [4 5 6]\n",
      " [7 8 9]]\n"
     ]
    },
    {
     "data": {
      "text/plain": [
       "array([[1, 2, 3],\n",
       "       [4, 5, 6],\n",
       "       [7, 8, 9]])"
      ]
     },
     "execution_count": 6,
     "metadata": {},
     "output_type": "execute_result"
    }
   ],
   "source": [
    "b = np.array ([[1,2,3],[4,5,6,],[7,8,9]])\n",
    "print(b)\n",
    "b"
   ]
  },
  {
   "cell_type": "code",
   "execution_count": 7,
   "id": "2b9700fe-0f60-4f74-a55c-7ebee0994fc5",
   "metadata": {},
   "outputs": [
    {
     "name": "stdout",
     "output_type": "stream",
     "text": [
      "[[1, 2, 3], [4, 5, 6], [7, 8, 9]]\n"
     ]
    }
   ],
   "source": [
    "c = [[1,2,3],[4,5,6],[7,8,9]]\n",
    "print(c)"
   ]
  },
  {
   "cell_type": "markdown",
   "id": "6004dcc0-9a1e-4e29-9478-71fc9d26a411",
   "metadata": {},
   "source": [
    "jumlah item dalam sebuah numpy array secara row axis harus seimbang/sama"
   ]
  },
  {
   "cell_type": "markdown",
   "id": "6d8aac9c-22d2-4116-a09a-fd4aa8532cd7",
   "metadata": {},
   "source": [
    "setiap row punya item yang sama"
   ]
  },
  {
   "cell_type": "markdown",
   "id": "95c1f76e-6101-4dd0-bedf-61db5b6a7bcb",
   "metadata": {},
   "source": [
    "## shorcut lain untuk numpy array selain np.array([])"
   ]
  },
  {
   "cell_type": "code",
   "execution_count": 12,
   "id": "dbbd47e1-e55c-45d0-83a7-9d042b0cc72a",
   "metadata": {},
   "outputs": [
    {
     "data": {
      "text/plain": [
       "array([0., 0., 0., 0., 0., 0., 0., 0., 0., 0.])"
      ]
     },
     "execution_count": 12,
     "metadata": {},
     "output_type": "execute_result"
    }
   ],
   "source": [
    "np.zeros(10)"
   ]
  },
  {
   "cell_type": "code",
   "execution_count": 3,
   "id": "68855803-941e-4a82-90a4-b0d81348c722",
   "metadata": {},
   "outputs": [
    {
     "data": {
      "text/plain": [
       "array([1., 1., 1., 1., 1., 1., 1., 1., 1.])"
      ]
     },
     "execution_count": 3,
     "metadata": {},
     "output_type": "execute_result"
    }
   ],
   "source": [
    "np.ones(9)"
   ]
  },
  {
   "cell_type": "code",
   "execution_count": 4,
   "id": "f41ee3e3-e267-4202-87a0-66dc9f773611",
   "metadata": {},
   "outputs": [
    {
     "data": {
      "text/plain": [
       "array([9.83130635e-312, 3.99255407e+252, 4.38730294e-321, 1.90979625e-313,\n",
       "       6.99442788e-009])"
      ]
     },
     "execution_count": 4,
     "metadata": {},
     "output_type": "execute_result"
    }
   ],
   "source": [
    "np.empty(5)"
   ]
  },
  {
   "cell_type": "code",
   "execution_count": 5,
   "id": "bf7815d1-c1a0-41b3-bfb9-e40322bcd001",
   "metadata": {},
   "outputs": [
    {
     "data": {
      "text/plain": [
       "array([0, 1, 2, 3, 4, 5, 6, 7])"
      ]
     },
     "execution_count": 5,
     "metadata": {},
     "output_type": "execute_result"
    }
   ],
   "source": [
    "np.arange(8)"
   ]
  },
  {
   "cell_type": "code",
   "execution_count": 10,
   "id": "8f8f2650-15f6-43e9-9476-6fee97257ae1",
   "metadata": {},
   "outputs": [
    {
     "data": {
      "text/plain": [
       "array([ 5, 25, 45, 65, 85])"
      ]
     },
     "execution_count": 10,
     "metadata": {},
     "output_type": "execute_result"
    }
   ],
   "source": [
    "lima = np.arange(5,100,20)\n",
    "lima"
   ]
  },
  {
   "cell_type": "markdown",
   "id": "641a2095-a029-4b2d-8851-13dd9bade997",
   "metadata": {},
   "source": [
    "## add, sort, remove"
   ]
  },
  {
   "cell_type": "code",
   "execution_count": 6,
   "id": "cce1d11e-96f5-4645-9c31-2298e8377c60",
   "metadata": {},
   "outputs": [
    {
     "data": {
      "text/plain": [
       "array([0., 0., 1., 1., 1.])"
      ]
     },
     "execution_count": 6,
     "metadata": {},
     "output_type": "execute_result"
    }
   ],
   "source": [
    "a = np.zeros(2)\n",
    "b = np.ones(3)\n",
    "\n",
    "np.append(a,b)"
   ]
  },
  {
   "cell_type": "code",
   "execution_count": 7,
   "id": "2de75834-8713-4dda-8f1c-1b27fdb4a302",
   "metadata": {},
   "outputs": [
    {
     "data": {
      "text/plain": [
       "array([0., 0., 1., 2., 3., 4., 5.])"
      ]
     },
     "execution_count": 7,
     "metadata": {},
     "output_type": "execute_result"
    }
   ],
   "source": [
    "np.append(a, [1,2,3,4,5])"
   ]
  },
  {
   "cell_type": "code",
   "execution_count": 12,
   "id": "0e142e8e-cad6-45dc-894a-17351658304f",
   "metadata": {},
   "outputs": [
    {
     "data": {
      "text/plain": [
       "array([ 5, 25, 65, 85])"
      ]
     },
     "execution_count": 12,
     "metadata": {},
     "output_type": "execute_result"
    }
   ],
   "source": [
    "np.delete(lima,2)"
   ]
  },
  {
   "cell_type": "code",
   "execution_count": 13,
   "id": "ec2eeec8-a3f0-4af6-ac50-6ac5d3594484",
   "metadata": {},
   "outputs": [
    {
     "data": {
      "text/plain": [
       "array([-12,   4,   8, -90,   5,   0,  -9])"
      ]
     },
     "execution_count": 13,
     "metadata": {},
     "output_type": "execute_result"
    }
   ],
   "source": [
    "acak = np.array([-12,4,8,-90,5,0,-9])\n",
    "acak"
   ]
  },
  {
   "cell_type": "code",
   "execution_count": 14,
   "id": "981581db-7890-4106-b230-e5eddf30add8",
   "metadata": {},
   "outputs": [
    {
     "data": {
      "text/plain": [
       "array([-90, -12,  -9,   0,   4,   5,   8])"
      ]
     },
     "execution_count": 14,
     "metadata": {},
     "output_type": "execute_result"
    }
   ],
   "source": [
    "tersortir = np.sort(acak)\n",
    "tersortir"
   ]
  },
  {
   "cell_type": "code",
   "execution_count": 3,
   "id": "91054d28-dd51-4fc4-9d99-2cada26c439a",
   "metadata": {},
   "outputs": [],
   "source": [
    "array3d = np.array([\n",
    "    [[1,2,1,2],[3,4,5,6]],\n",
    "    [[5,6,7,8],[8,5,6,2]],\n",
    "    [[23,3,5,6],[5,99,6,7]]\n",
    "])"
   ]
  },
  {
   "cell_type": "code",
   "execution_count": 5,
   "id": "0094b2ea-0710-48be-a3cf-49c68f11ce8e",
   "metadata": {},
   "outputs": [
    {
     "data": {
      "text/plain": [
       "3"
      ]
     },
     "execution_count": 5,
     "metadata": {},
     "output_type": "execute_result"
    }
   ],
   "source": [
    "np.ndim(array3d)"
   ]
  },
  {
   "cell_type": "code",
   "execution_count": 6,
   "id": "e42b959b-aae9-45fd-a037-e6b256268aa3",
   "metadata": {},
   "outputs": [
    {
     "data": {
      "text/plain": [
       "(3, 2, 4)"
      ]
     },
     "execution_count": 6,
     "metadata": {},
     "output_type": "execute_result"
    }
   ],
   "source": [
    "np.shape(array3d)\n",
    "# kita akan dapat (3, 2, 4) yang artinya di level pertama ada 3 item\n",
    "# setiap item tersebut (level2) isinya ada 2 element\n",
    "# setiap element tersebut (level3) ada 4 barang lagi"
   ]
  },
  {
   "cell_type": "code",
   "execution_count": 7,
   "id": "c93916b8-3376-4a16-aba9-7a0b55f3f52d",
   "metadata": {},
   "outputs": [
    {
     "data": {
      "text/plain": [
       "24"
      ]
     },
     "execution_count": 7,
     "metadata": {},
     "output_type": "execute_result"
    }
   ],
   "source": [
    "np.size(array3d)"
   ]
  },
  {
   "cell_type": "markdown",
   "id": "2eced5ab-9dc8-4a63-a90f-53a2064b247a",
   "metadata": {},
   "source": [
    "# reshape"
   ]
  },
  {
   "cell_type": "code",
   "execution_count": 10,
   "id": "93149fb5-e8ac-4ba1-bea2-f8e80342e641",
   "metadata": {},
   "outputs": [
    {
     "data": {
      "text/plain": [
       "array([[ 1,  2,  1,  2,  3,  4],\n",
       "       [ 5,  6,  5,  6,  7,  8],\n",
       "       [ 8,  5,  6,  2, 23,  3],\n",
       "       [ 5,  6,  5, 99,  6,  7]])"
      ]
     },
     "execution_count": 10,
     "metadata": {},
     "output_type": "execute_result"
    }
   ],
   "source": [
    "hasil_reshape = array3d.reshape(4,6)\n",
    "hasil_reshape"
   ]
  },
  {
   "cell_type": "code",
   "execution_count": 11,
   "id": "348f1460-9974-4b98-87ca-e805e5177285",
   "metadata": {},
   "outputs": [
    {
     "data": {
      "text/plain": [
       "array([[ 1],\n",
       "       [ 2],\n",
       "       [ 1],\n",
       "       [ 2],\n",
       "       [ 3],\n",
       "       [ 4],\n",
       "       [ 5],\n",
       "       [ 6],\n",
       "       [ 5],\n",
       "       [ 6],\n",
       "       [ 7],\n",
       "       [ 8],\n",
       "       [ 8],\n",
       "       [ 5],\n",
       "       [ 6],\n",
       "       [ 2],\n",
       "       [23],\n",
       "       [ 3],\n",
       "       [ 5],\n",
       "       [ 6],\n",
       "       [ 5],\n",
       "       [99],\n",
       "       [ 6],\n",
       "       [ 7]])"
      ]
     },
     "execution_count": 11,
     "metadata": {},
     "output_type": "execute_result"
    }
   ],
   "source": [
    "hasil_reshape = array3d.reshape(24,1)\n",
    "hasil_reshape"
   ]
  },
  {
   "cell_type": "code",
   "execution_count": 12,
   "id": "b9d6a2fa-fb1f-4410-88f1-83865caac8b0",
   "metadata": {},
   "outputs": [
    {
     "data": {
      "text/plain": [
       "array([[[ 1,  2,  1,  2],\n",
       "        [ 3,  4,  5,  6],\n",
       "        [ 5,  6,  7,  8]],\n",
       "\n",
       "       [[ 8,  5,  6,  2],\n",
       "        [23,  3,  5,  6],\n",
       "        [ 5, 99,  6,  7]]])"
      ]
     },
     "execution_count": 12,
     "metadata": {},
     "output_type": "execute_result"
    }
   ],
   "source": [
    "hasil_reshape = array3d.reshape(2,3,4)\n",
    "hasil_reshape"
   ]
  },
  {
   "cell_type": "markdown",
   "id": "ed611991-0477-4bee-98b4-6cb4ae2bea8d",
   "metadata": {},
   "source": [
    "# menambah dimensi array "
   ]
  },
  {
   "cell_type": "code",
   "execution_count": 15,
   "id": "70699be3-b27b-43b8-b93a-73d18545516f",
   "metadata": {},
   "outputs": [
    {
     "data": {
      "text/plain": [
       "array([0, 1, 2, 3, 4, 5])"
      ]
     },
     "execution_count": 15,
     "metadata": {},
     "output_type": "execute_result"
    }
   ],
   "source": [
    "arr = np.arange(6)\n",
    "arr"
   ]
  },
  {
   "cell_type": "code",
   "execution_count": 16,
   "id": "aee8f10a-0234-47dc-b0c9-8b3c08d4ff38",
   "metadata": {},
   "outputs": [
    {
     "data": {
      "text/plain": [
       "1"
      ]
     },
     "execution_count": 16,
     "metadata": {},
     "output_type": "execute_result"
    }
   ],
   "source": [
    "arr.ndim"
   ]
  },
  {
   "cell_type": "code",
   "execution_count": 21,
   "id": "4627e9c3-7307-4b92-b805-07b4c911a1f4",
   "metadata": {},
   "outputs": [
    {
     "data": {
      "text/plain": [
       "array([[0, 1, 2, 3, 4, 5]])"
      ]
     },
     "execution_count": 21,
     "metadata": {},
     "output_type": "execute_result"
    }
   ],
   "source": [
    "arr2 = arr[np.newaxis, :] # merubah array 1 dimensi menjadi 2 dimensi. cara lain: np.expand_dims(arr, axis=0)\n",
    "arr2"
   ]
  },
  {
   "cell_type": "code",
   "execution_count": 22,
   "id": "2cc90d11-5eb7-4529-bd92-b71c33550c87",
   "metadata": {},
   "outputs": [
    {
     "data": {
      "text/plain": [
       "2"
      ]
     },
     "execution_count": 22,
     "metadata": {},
     "output_type": "execute_result"
    }
   ],
   "source": [
    "arr2.ndim"
   ]
  },
  {
   "cell_type": "code",
   "execution_count": 25,
   "id": "d422e87e-db5b-4ced-a22d-c2d2cd0648be",
   "metadata": {},
   "outputs": [
    {
     "data": {
      "text/plain": [
       "array([[0],\n",
       "       [1],\n",
       "       [2],\n",
       "       [3],\n",
       "       [4],\n",
       "       [5]])"
      ]
     },
     "execution_count": 25,
     "metadata": {},
     "output_type": "execute_result"
    }
   ],
   "source": [
    "arr3 = arr[:, np.newaxis] # merubah array 1 dimensi menjadi 2 dimensi. cara lain: np.expand_dims(arr, axis=1)\n",
    "arr3"
   ]
  },
  {
   "cell_type": "markdown",
   "id": "36022084-4c13-4d88-8adf-bec21fa09052",
   "metadata": {},
   "source": [
    "apa perbedaan arr[np.newaxis, :] dengan arr[:, np.newaxis]?\n",
    "\n",
    "bedany adalah axis mana yang ditambahkan menjadi dimensi baru.\n",
    "\n",
    "untuk yang pertama, dia akan tambahin di axis 0 (row).\n",
    "\n",
    "untuk yang kedua, dia akan tambahin di axis 1 (column)."
   ]
  },
  {
   "cell_type": "code",
   "execution_count": 33,
   "id": "6fb5cbbe-61db-4541-815a-19c52d213f9c",
   "metadata": {},
   "outputs": [
    {
     "data": {
      "text/plain": [
       "array([[0, 1, 2, 3, 4, 5]])"
      ]
     },
     "execution_count": 33,
     "metadata": {},
     "output_type": "execute_result"
    }
   ],
   "source": [
    "# cara lain selain pakai np.newaxis adalah dengan pakai np.expand_dims\n",
    "np.expand_dims(arr, axis=0)"
   ]
  },
  {
   "cell_type": "code",
   "execution_count": 32,
   "id": "66aeb060-3f91-4752-a8f8-a07b0dea235e",
   "metadata": {},
   "outputs": [
    {
     "data": {
      "text/plain": [
       "array([[0],\n",
       "       [1],\n",
       "       [2],\n",
       "       [3],\n",
       "       [4],\n",
       "       [5]])"
      ]
     },
     "execution_count": 32,
     "metadata": {},
     "output_type": "execute_result"
    }
   ],
   "source": [
    "np.expand_dims(arr, axis=1)"
   ]
  },
  {
   "cell_type": "markdown",
   "id": "cec037c6-39bd-4229-96c6-7eb2d0ad7b5f",
   "metadata": {},
   "source": [
    "# indexing and slicing"
   ]
  },
  {
   "cell_type": "markdown",
   "id": "85265f22-6363-457f-8413-261f43f7ff89",
   "metadata": {},
   "source": [
    "indexing adalah mengambil 1 item di array/list menggunakan index nya\n",
    "\n",
    "slicing adalah mengambil satu set item di array/list menggunakan index juga"
   ]
  },
  {
   "cell_type": "code",
   "execution_count": 34,
   "id": "b6d72b66-b207-45ce-9a46-2a34b612c222",
   "metadata": {},
   "outputs": [
    {
     "data": {
      "text/plain": [
       "array([0, 1, 2, 3, 4, 5])"
      ]
     },
     "execution_count": 34,
     "metadata": {},
     "output_type": "execute_result"
    }
   ],
   "source": [
    "arr"
   ]
  },
  {
   "cell_type": "code",
   "execution_count": 38,
   "id": "28f6a76a-f7fe-491b-ad52-69b89024a920",
   "metadata": {},
   "outputs": [
    {
     "data": {
      "text/plain": [
       "array([0, 1, 2])"
      ]
     },
     "execution_count": 38,
     "metadata": {},
     "output_type": "execute_result"
    }
   ],
   "source": [
    "arr[0:3] # membuat array baru yang isinya ada 3 item, diambil dari arr index ke 0 sampai index ke 2"
   ]
  },
  {
   "cell_type": "code",
   "execution_count": 36,
   "id": "e31c53c1-4659-4f7d-829e-1ca8f935f464",
   "metadata": {},
   "outputs": [
    {
     "data": {
      "text/plain": [
       "3"
      ]
     },
     "execution_count": 36,
     "metadata": {},
     "output_type": "execute_result"
    }
   ],
   "source": [
    "arr[3]"
   ]
  },
  {
   "cell_type": "code",
   "execution_count": 37,
   "id": "c1161dbf-3ca4-45fa-a85b-767b4d0c1a9e",
   "metadata": {},
   "outputs": [
    {
     "data": {
      "text/plain": [
       "array([1, 2, 3, 4])"
      ]
     },
     "execution_count": 37,
     "metadata": {},
     "output_type": "execute_result"
    }
   ],
   "source": [
    "arr[1:5]"
   ]
  },
  {
   "cell_type": "code",
   "execution_count": 39,
   "id": "7897c4b9-415d-4353-9504-a2bb769d718c",
   "metadata": {},
   "outputs": [
    {
     "data": {
      "text/plain": [
       "4"
      ]
     },
     "execution_count": 39,
     "metadata": {},
     "output_type": "execute_result"
    }
   ],
   "source": [
    "arr[-2]"
   ]
  },
  {
   "cell_type": "code",
   "execution_count": 42,
   "id": "eb107823-3690-4189-aeb5-c8b81e12d25f",
   "metadata": {},
   "outputs": [
    {
     "data": {
      "text/plain": [
       "array([1, 2, 3, 4])"
      ]
     },
     "execution_count": 42,
     "metadata": {},
     "output_type": "execute_result"
    }
   ],
   "source": [
    "new = arr[1:5] # kalau hasilnya mau disimpan, masukkan ke variable\n",
    "new"
   ]
  },
  {
   "cell_type": "code",
   "execution_count": 43,
   "id": "0db3e80e-7b22-4adb-abaa-97b88b35ec02",
   "metadata": {},
   "outputs": [
    {
     "data": {
      "text/plain": [
       "array([0, 1, 2, 3, 4, 5])"
      ]
     },
     "execution_count": 43,
     "metadata": {},
     "output_type": "execute_result"
    }
   ],
   "source": [
    "arr # arr tidak diubah oleh indexing ataupun slicing"
   ]
  },
  {
   "cell_type": "code",
   "execution_count": 44,
   "id": "114b57a1-a534-4387-89e1-249b0783b023",
   "metadata": {},
   "outputs": [
    {
     "data": {
      "text/plain": [
       "array([  1, -99,  -5,   7,   8,   3,   4, -12,   0,  -5])"
      ]
     },
     "execution_count": 44,
     "metadata": {},
     "output_type": "execute_result"
    }
   ],
   "source": [
    "acak = np.array([1,-99,-5,7,8,3,4,-12,0,-5])\n",
    "acak"
   ]
  },
  {
   "cell_type": "code",
   "execution_count": 47,
   "id": "010bd912-2f2d-4d37-b652-d32afbbe9599",
   "metadata": {},
   "outputs": [
    {
     "data": {
      "text/plain": [
       "array([1, 7, 8, 3, 4])"
      ]
     },
     "execution_count": 47,
     "metadata": {},
     "output_type": "execute_result"
    }
   ],
   "source": [
    "acak[acak>0] # numpy array bisa terima kondisi sebagai index nya juga"
   ]
  },
  {
   "cell_type": "code",
   "execution_count": 46,
   "id": "67ccc9b8-70c9-4c67-a185-c652d7b1a5a4",
   "metadata": {},
   "outputs": [
    {
     "data": {
      "text/plain": [
       "array([  1, -99,  -5,   7,   8,   3,   4, -12,   0,  -5])"
      ]
     },
     "execution_count": 46,
     "metadata": {},
     "output_type": "execute_result"
    }
   ],
   "source": [
    "acak"
   ]
  },
  {
   "cell_type": "code",
   "execution_count": 48,
   "id": "d4092219-60a7-4fa1-a422-70c6e3c2de1b",
   "metadata": {},
   "outputs": [
    {
     "data": {
      "text/plain": [
       "array([  8,   4, -12,   0])"
      ]
     },
     "execution_count": 48,
     "metadata": {},
     "output_type": "execute_result"
    }
   ],
   "source": [
    "acak_genap = acak[acak % 2 == 0]\n",
    "acak_genap"
   ]
  },
  {
   "cell_type": "code",
   "execution_count": 50,
   "id": "d78f3bbd-65dd-42e0-9f6d-25764c4f573c",
   "metadata": {},
   "outputs": [
    {
     "data": {
      "text/plain": [
       "array([8, 4])"
      ]
     },
     "execution_count": 50,
     "metadata": {},
     "output_type": "execute_result"
    }
   ],
   "source": [
    "acak_genap_lebih0 = acak[(acak % 2 == 0) & (acak>0)]\n",
    "acak_genap_lebih0"
   ]
  },
  {
   "cell_type": "markdown",
   "id": "afc27e2d-4cfa-41e2-b69f-1a70b6c6332e",
   "metadata": {},
   "source": [
    "# teknik lain untuk membuat numpy array "
   ]
  },
  {
   "cell_type": "markdown",
   "id": "4fcec935-a231-4e2a-a13f-b139dc1d2dd8",
   "metadata": {},
   "source": [
    "vstack: vertical stack\n",
    "hstack: horizontal stack\n",
    "hsplit: horizontal split"
   ]
  },
  {
   "cell_type": "code",
   "execution_count": 51,
   "id": "c2be19bd-00f0-4282-a66e-63642a1e4184",
   "metadata": {},
   "outputs": [
    {
     "data": {
      "text/plain": [
       "array([[1, 2, 3, 4, 5, 6, 7],\n",
       "       [4, 5, 6, 7, 8, 9, 0]])"
      ]
     },
     "execution_count": 51,
     "metadata": {},
     "output_type": "execute_result"
    }
   ],
   "source": [
    "arr1 = np.array([1,2,3,4,5,6,7])\n",
    "arr2 = np.array([4,5,6,7,8,9,0])\n",
    "arr_tumpuk12 = np.vstack((arr1,arr2))\n",
    "# jadilah sebuah array 2 dimensi hasil \"menumpuk\" atau \"stack\"\n",
    "# arr1 dan arr2:\n",
    "arr_tumpuk12"
   ]
  },
  {
   "cell_type": "code",
   "execution_count": 54,
   "id": "7055b494-4a6b-476c-847f-602d96c1eb3d",
   "metadata": {},
   "outputs": [
    {
     "data": {
      "text/plain": [
       "array([[11, 10],\n",
       "       [ 1,  2],\n",
       "       [ 4,  5],\n",
       "       [ 8,  9],\n",
       "       [ 1,  4],\n",
       "       [ 6,  7]])"
      ]
     },
     "execution_count": 54,
     "metadata": {},
     "output_type": "execute_result"
    }
   ],
   "source": [
    "arr3 = np.array([[11,10],[1,2],[4,5]])\n",
    "arr4 = np.array([[8,9],[1,4],[6,7]])\n",
    "arr_tumpuk34 = np.vstack((arr3,arr4))\n",
    "arr_tumpuk34"
   ]
  },
  {
   "cell_type": "code",
   "execution_count": 55,
   "id": "0b010e46-c597-489b-95f5-9c4fd445ae52",
   "metadata": {},
   "outputs": [
    {
     "data": {
      "text/plain": [
       "array([ 1,  2,  3,  4,  5,  6,  7,  8,  9, 10, 11, 12, 13, 14])"
      ]
     },
     "execution_count": 55,
     "metadata": {},
     "output_type": "execute_result"
    }
   ],
   "source": [
    "arr1 = np.array([1,2,3,4,5,6,7])\n",
    "arr2 = np.array([8,9,10,11,12,13,14])\n",
    "arr_tumpuk12 = np.hstack((arr1,arr2))\n",
    "# horizontal stack menumpuk juga tapi dari kiri ke kanan\n",
    "arr_tumpuk12"
   ]
  },
  {
   "cell_type": "code",
   "execution_count": 57,
   "id": "bab48272-4df2-4914-9193-6c40979b4408",
   "metadata": {},
   "outputs": [
    {
     "data": {
      "text/plain": [
       "array([[ 1,  2,  7,  8],\n",
       "       [ 3,  4,  9, 10],\n",
       "       [ 5,  6, 11, 12]])"
      ]
     },
     "execution_count": 57,
     "metadata": {},
     "output_type": "execute_result"
    }
   ],
   "source": [
    "arr1 = np.array([[1,2], [3,4], [5,6]])\n",
    "arr2 = np.array([[7,8], [9,10], [11,12]])\n",
    "arr_tumpuk12 = np.hstack((arr1,arr2))\n",
    "arr_tumpuk12"
   ]
  },
  {
   "cell_type": "code",
   "execution_count": 60,
   "id": "1ecab6f2-2af7-4b63-b3cc-a3bf5e672c72",
   "metadata": {},
   "outputs": [
    {
     "data": {
      "text/plain": [
       "array([[ 1,  2,  3,  4,  5],\n",
       "       [ 6,  7,  8,  9, 10]])"
      ]
     },
     "execution_count": 60,
     "metadata": {},
     "output_type": "execute_result"
    }
   ],
   "source": [
    "arr3 = np.array([[1,2,3,4,5],\n",
    "               [6,7,8,9,10]])\n",
    "arr3"
   ]
  },
  {
   "cell_type": "code",
   "execution_count": 65,
   "id": "c108123d-5692-44e0-b1c5-e769299504f9",
   "metadata": {},
   "outputs": [
    {
     "data": {
      "text/plain": [
       "10"
      ]
     },
     "execution_count": 65,
     "metadata": {},
     "output_type": "execute_result"
    }
   ],
   "source": [
    "arr3.size"
   ]
  },
  {
   "cell_type": "code",
   "execution_count": 68,
   "id": "5183fb76-46ad-4c52-bf37-c1265e026898",
   "metadata": {},
   "outputs": [
    {
     "data": {
      "text/plain": [
       "[array([[1],\n",
       "        [6]]),\n",
       " array([[2],\n",
       "        [7]]),\n",
       " array([[3],\n",
       "        [8]]),\n",
       " array([[4],\n",
       "        [9]]),\n",
       " array([[ 5],\n",
       "        [10]])]"
      ]
     },
     "execution_count": 68,
     "metadata": {},
     "output_type": "execute_result"
    }
   ],
   "source": [
    "hasil_split = np.hsplit(arr3,5)\n",
    "hasil_split"
   ]
  },
  {
   "cell_type": "code",
   "execution_count": 71,
   "id": "9d53dec5-4dce-48a2-963a-a2320d5aef6e",
   "metadata": {},
   "outputs": [
    {
     "data": {
      "text/plain": [
       "array([[2],\n",
       "       [7]])"
      ]
     },
     "execution_count": 71,
     "metadata": {},
     "output_type": "execute_result"
    }
   ],
   "source": [
    "hasil_split[1]\n",
    "# karena hasil split nya ada 3, diberikan dalam bentuk list\n",
    "# kita bisa ambil menggunakan index"
   ]
  },
  {
   "cell_type": "markdown",
   "id": "5b8d3e90-5df5-4a7a-9a50-7166ef503b33",
   "metadata": {},
   "source": [
    "# numpy array bisa dihitung langsung"
   ]
  },
  {
   "cell_type": "code",
   "execution_count": 72,
   "id": "3b956c0f-a7c7-4fb1-a4dd-e9d78f7057e8",
   "metadata": {},
   "outputs": [
    {
     "data": {
      "text/plain": [
       "array([[11, 22, 33, 44, 55],\n",
       "       [66, 77, 88, 99, 89]])"
      ]
     },
     "execution_count": 72,
     "metadata": {},
     "output_type": "execute_result"
    }
   ],
   "source": [
    "arr3 = np.array([[11,22,33,44,55],\n",
    "                [66,77,88,99,89]])\n",
    "arr3"
   ]
  },
  {
   "cell_type": "code",
   "execution_count": 74,
   "id": "645dfca3-e5fb-4b8c-bc15-ab881314dff5",
   "metadata": {},
   "outputs": [
    {
     "data": {
      "text/plain": [
       "array([[ 12,  23,  34,  45,  56],\n",
       "       [ 67,  78,  89, 100,  90]])"
      ]
     },
     "execution_count": 74,
     "metadata": {},
     "output_type": "execute_result"
    }
   ],
   "source": [
    "arr3+1"
   ]
  },
  {
   "cell_type": "code",
   "execution_count": 75,
   "id": "d0698c8a-9f1e-4927-b53e-c7dddf9c148b",
   "metadata": {},
   "outputs": [
    {
     "data": {
      "text/plain": [
       "array([[ 1, 12, 23, 34, 45],\n",
       "       [56, 67, 78, 89, 79]])"
      ]
     },
     "execution_count": 75,
     "metadata": {},
     "output_type": "execute_result"
    }
   ],
   "source": [
    "arr3 - 10"
   ]
  },
  {
   "cell_type": "code",
   "execution_count": 76,
   "id": "37f18110-58b0-4a23-abe8-257cdc14d4ca",
   "metadata": {},
   "outputs": [
    {
     "data": {
      "text/plain": [
       "array([[ 88, 176, 264, 352, 440],\n",
       "       [528, 616, 704, 792, 712]])"
      ]
     },
     "execution_count": 76,
     "metadata": {},
     "output_type": "execute_result"
    }
   ],
   "source": [
    "arr3 * 8"
   ]
  },
  {
   "cell_type": "code",
   "execution_count": 77,
   "id": "c044cf16-cd9a-4faf-99ff-decb91353f30",
   "metadata": {},
   "outputs": [
    {
     "data": {
      "text/plain": [
       "array([[1, 0, 1, 0, 1],\n",
       "       [0, 1, 0, 1, 1]], dtype=int32)"
      ]
     },
     "execution_count": 77,
     "metadata": {},
     "output_type": "execute_result"
    }
   ],
   "source": [
    "arr3 % 2"
   ]
  },
  {
   "cell_type": "code",
   "execution_count": 78,
   "id": "a5e179c9-a903-4311-8a15-1341fb68e1e7",
   "metadata": {},
   "outputs": [
    {
     "data": {
      "text/plain": [
       "584"
      ]
     },
     "execution_count": 78,
     "metadata": {},
     "output_type": "execute_result"
    }
   ],
   "source": [
    "arr3.sum()"
   ]
  },
  {
   "cell_type": "code",
   "execution_count": 79,
   "id": "7e266aea-6a43-46f3-94c6-8e16051ae2c2",
   "metadata": {},
   "outputs": [
    {
     "data": {
      "text/plain": [
       "array([[11, 22, 33, 44, 55],\n",
       "       [66, 77, 88, 99, 89]])"
      ]
     },
     "execution_count": 79,
     "metadata": {},
     "output_type": "execute_result"
    }
   ],
   "source": [
    "arr3"
   ]
  },
  {
   "cell_type": "code",
   "execution_count": 81,
   "id": "cd00a80d-883d-4a24-a783-8185382221c1",
   "metadata": {},
   "outputs": [
    {
     "data": {
      "text/plain": [
       "array([165, 419])"
      ]
     },
     "execution_count": 81,
     "metadata": {},
     "output_type": "execute_result"
    }
   ],
   "source": [
    "arr3.sum(axis=1)"
   ]
  },
  {
   "cell_type": "markdown",
   "id": "11a6a342-2b6a-492c-a10b-65ba2190849a",
   "metadata": {},
   "source": [
    "# array operator lainnya "
   ]
  },
  {
   "cell_type": "markdown",
   "id": "f3bfd06a-c687-4e79-8b56-d5e083f2e7b1",
   "metadata": {},
   "source": [
    "maximum\n",
    "minimum\n",
    "sum (jumlah)\n",
    "mean (rata-rata)"
   ]
  },
  {
   "cell_type": "code",
   "execution_count": 82,
   "id": "0ce00bc7-53ea-40fa-94c1-2cd595187157",
   "metadata": {},
   "outputs": [
    {
     "data": {
      "text/plain": [
       "array([1, 2, 3, 4, 5, 6, 7, 8])"
      ]
     },
     "execution_count": 82,
     "metadata": {},
     "output_type": "execute_result"
    }
   ],
   "source": [
    "acak = np.array([1,2,3,4,5,6,7,8])\n",
    "acak"
   ]
  },
  {
   "cell_type": "code",
   "execution_count": 84,
   "id": "ebfdb3e6-9381-4d95-b829-fdfc2fe64532",
   "metadata": {},
   "outputs": [
    {
     "data": {
      "text/plain": [
       "8"
      ]
     },
     "execution_count": 84,
     "metadata": {},
     "output_type": "execute_result"
    }
   ],
   "source": [
    "acak.max()"
   ]
  },
  {
   "cell_type": "code",
   "execution_count": 85,
   "id": "0d87d79d-9255-41a8-b4d8-2d5baa5213a3",
   "metadata": {},
   "outputs": [
    {
     "data": {
      "text/plain": [
       "1"
      ]
     },
     "execution_count": 85,
     "metadata": {},
     "output_type": "execute_result"
    }
   ],
   "source": [
    "acak.min()"
   ]
  },
  {
   "cell_type": "code",
   "execution_count": 86,
   "id": "04ae08b1-7b6c-49cf-ab65-d84e9a238786",
   "metadata": {},
   "outputs": [
    {
     "data": {
      "text/plain": [
       "4.5"
      ]
     },
     "execution_count": 86,
     "metadata": {},
     "output_type": "execute_result"
    }
   ],
   "source": [
    "acak.mean()"
   ]
  },
  {
   "cell_type": "code",
   "execution_count": 89,
   "id": "e88fcbf0-cc81-43f6-804e-9348b48c1e07",
   "metadata": {},
   "outputs": [
    {
     "data": {
      "text/plain": [
       "36"
      ]
     },
     "execution_count": 89,
     "metadata": {},
     "output_type": "execute_result"
    }
   ],
   "source": [
    "acak.sum()"
   ]
  },
  {
   "cell_type": "code",
   "execution_count": null,
   "id": "35050d5c-4cdc-4b2a-bbf4-0447202cca35",
   "metadata": {},
   "outputs": [],
   "source": []
  }
 ],
 "metadata": {
  "kernelspec": {
   "display_name": "Python 3",
   "language": "python",
   "name": "python3"
  },
  "language_info": {
   "codemirror_mode": {
    "name": "ipython",
    "version": 3
   },
   "file_extension": ".py",
   "mimetype": "text/x-python",
   "name": "python",
   "nbconvert_exporter": "python",
   "pygments_lexer": "ipython3",
   "version": "3.8.8"
  }
 },
 "nbformat": 4,
 "nbformat_minor": 5
}
