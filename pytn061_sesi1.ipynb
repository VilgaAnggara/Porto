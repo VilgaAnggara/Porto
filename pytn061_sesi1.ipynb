{
 "cells": [
  {
   "cell_type": "markdown",
   "id": "c85e0d89-efe6-41b3-b34a-fcdc6f3e13e6",
   "metadata": {},
   "source": [
    "# Integers"
   ]
  },
  {
   "cell_type": "code",
   "execution_count": 3,
   "id": "0246f81c-c35b-47a8-b14d-bea009301c5c",
   "metadata": {},
   "outputs": [
    {
     "name": "stdout",
     "output_type": "stream",
     "text": [
      "1234\n"
     ]
    }
   ],
   "source": [
    "print(1234)"
   ]
  },
  {
   "cell_type": "code",
   "execution_count": 4,
   "id": "7d4f8ae7-301a-45d0-9a8f-1a1c071f95e0",
   "metadata": {},
   "outputs": [
    {
     "name": "stdout",
     "output_type": "stream",
     "text": [
      "<class 'int'>\n"
     ]
    }
   ],
   "source": [
    "print(type(1234))"
   ]
  },
  {
   "cell_type": "markdown",
   "id": "4f77d348-6b0b-4245-b865-2bd47a9272be",
   "metadata": {},
   "source": [
    "# Floating Number"
   ]
  },
  {
   "cell_type": "code",
   "execution_count": 5,
   "id": "745cf52e-94a2-4b6c-940a-0df3e89aee74",
   "metadata": {},
   "outputs": [
    {
     "name": "stdout",
     "output_type": "stream",
     "text": [
      "2.3\n"
     ]
    }
   ],
   "source": [
    "print(2.3)"
   ]
  },
  {
   "cell_type": "code",
   "execution_count": 6,
   "id": "9a53ba01-abe3-42b3-afbb-ce84095eca50",
   "metadata": {},
   "outputs": [
    {
     "name": "stdout",
     "output_type": "stream",
     "text": [
      "22000000.0\n"
     ]
    }
   ],
   "source": [
    "print(2.2e7)"
   ]
  },
  {
   "cell_type": "code",
   "execution_count": 11,
   "id": "99620f72-1b7e-4f87-b3bb-fdde84c511a3",
   "metadata": {},
   "outputs": [
    {
     "name": "stdout",
     "output_type": "stream",
     "text": [
      "350000000.0\n"
     ]
    }
   ],
   "source": [
    "print(3.5e8)"
   ]
  },
  {
   "cell_type": "code",
   "execution_count": 15,
   "id": "a66b5e6e-f7f7-483e-81d2-13447d2740b6",
   "metadata": {},
   "outputs": [
    {
     "name": "stdout",
     "output_type": "stream",
     "text": [
      "0.054\n"
     ]
    }
   ],
   "source": [
    "print(5.4e-2)"
   ]
  },
  {
   "cell_type": "code",
   "execution_count": 16,
   "id": "4d79f614-f629-45c1-bb00-54044e9c79d1",
   "metadata": {},
   "outputs": [
    {
     "name": "stdout",
     "output_type": "stream",
     "text": [
      "<class 'float'>\n"
     ]
    }
   ],
   "source": [
    "print(type(5.4e-8))"
   ]
  },
  {
   "cell_type": "markdown",
   "id": "85678447-6864-4c56-8f96-f3be6dae6605",
   "metadata": {},
   "source": [
    "# String"
   ]
  },
  {
   "cell_type": "code",
   "execution_count": 17,
   "id": "d7a0d0a6-8d95-49cc-a518-b64318be098d",
   "metadata": {},
   "outputs": [
    {
     "name": "stdout",
     "output_type": "stream",
     "text": [
      "vilga_anggara_kurnia\n"
     ]
    }
   ],
   "source": [
    "print(\"vilga_anggara_kurnia\")"
   ]
  },
  {
   "cell_type": "code",
   "execution_count": 19,
   "id": "a74518ce-4d97-42a5-aa3e-f6e4250dedf4",
   "metadata": {},
   "outputs": [
    {
     "name": "stdout",
     "output_type": "stream",
     "text": [
      "<class 'str'>\n"
     ]
    }
   ],
   "source": [
    "print(type(\"halo_world\"))"
   ]
  },
  {
   "cell_type": "markdown",
   "id": "883974cd-fee2-458a-b89d-051161f49966",
   "metadata": {},
   "source": [
    "# Bolean type"
   ]
  },
  {
   "cell_type": "code",
   "execution_count": 21,
   "id": "b1f3d7b9-0ab3-4019-88e5-1bf123e8ebf5",
   "metadata": {},
   "outputs": [
    {
     "name": "stdout",
     "output_type": "stream",
     "text": [
      "True\n",
      "False\n",
      "<class 'bool'>\n"
     ]
    }
   ],
   "source": [
    "print(True)\n",
    "print(False)\n",
    "print(type(True))"
   ]
  },
  {
   "cell_type": "markdown",
   "id": "f4ea2ff5-7b50-4a6d-8ab1-518fa2688997",
   "metadata": {},
   "source": [
    "# Pembuatan Variabel "
   ]
  },
  {
   "cell_type": "code",
   "execution_count": 22,
   "id": "29380473-7eea-46b6-a011-841b1613d2a9",
   "metadata": {},
   "outputs": [],
   "source": [
    "vilga = 80\n",
    "valda = 90 "
   ]
  },
  {
   "cell_type": "code",
   "execution_count": 23,
   "id": "5e270d2d-bc15-4f49-9ac6-3cfbc168385b",
   "metadata": {},
   "outputs": [
    {
     "name": "stdout",
     "output_type": "stream",
     "text": [
      "170\n"
     ]
    }
   ],
   "source": [
    "print(vilga + valda)"
   ]
  },
  {
   "cell_type": "code",
   "execution_count": 27,
   "id": "ee9d1915-caef-43c9-8768-0cf510725426",
   "metadata": {},
   "outputs": [
    {
     "name": "stdout",
     "output_type": "stream",
     "text": [
      "6400\n"
     ]
    }
   ],
   "source": [
    "print(vilga ** 2)"
   ]
  },
  {
   "cell_type": "code",
   "execution_count": 30,
   "id": "414de353-84aa-4fea-be5c-94080f95a76f",
   "metadata": {},
   "outputs": [
    {
     "name": "stdout",
     "output_type": "stream",
     "text": [
      "7201.125\n"
     ]
    }
   ],
   "source": [
    "print(vilga * valda + valda / vilga)"
   ]
  },
  {
   "cell_type": "code",
   "execution_count": 31,
   "id": "a0b76c0c-05a2-4e48-a6a4-b49bb652762c",
   "metadata": {},
   "outputs": [],
   "source": [
    "n = 4\n",
    "a = 5"
   ]
  },
  {
   "cell_type": "code",
   "execution_count": 33,
   "id": "2bc0a6c7-f5bf-4706-9178-5da7acd7726e",
   "metadata": {},
   "outputs": [
    {
     "name": "stdout",
     "output_type": "stream",
     "text": [
      "20\n",
      "9\n",
      "-1\n",
      "1024\n",
      "4\n",
      "False\n",
      "True\n",
      "False\n"
     ]
    }
   ],
   "source": [
    "print(n * a)\n",
    "print(n + a)\n",
    "print(n - a)\n",
    "print(n ** a)\n",
    "print(n % a)\n",
    "print(n == a)\n",
    "print(n <= a)\n",
    "print(n >= a)"
   ]
  },
  {
   "cell_type": "markdown",
   "id": "1273fae7-76f4-4d35-86c0-4a60686f6919",
   "metadata": {},
   "source": [
    "# String Dimanipulasi"
   ]
  },
  {
   "cell_type": "code",
   "execution_count": 34,
   "id": "13f8563e-265c-455d-a22a-934ff80e627b",
   "metadata": {},
   "outputs": [],
   "source": [
    "q = \"hallo\"\n",
    "a = \"world\""
   ]
  },
  {
   "cell_type": "code",
   "execution_count": 35,
   "id": "c5e6f4eb-f5d8-4036-9f6b-0a3f709703ef",
   "metadata": {},
   "outputs": [
    {
     "name": "stdout",
     "output_type": "stream",
     "text": [
      "hallo world\n"
     ]
    }
   ],
   "source": [
    "print(q + \" \" + a)"
   ]
  },
  {
   "cell_type": "code",
   "execution_count": 36,
   "id": "8dcae822-98f2-4500-8998-3240aa5f6a66",
   "metadata": {},
   "outputs": [
    {
     "name": "stdout",
     "output_type": "stream",
     "text": [
      "halloworld\n"
     ]
    }
   ],
   "source": [
    "print(q + \"\" + a)"
   ]
  },
  {
   "cell_type": "code",
   "execution_count": 41,
   "id": "0db25ff7-05c1-408a-b529-d03117696312",
   "metadata": {},
   "outputs": [
    {
     "name": "stdout",
     "output_type": "stream",
     "text": [
      "hallohallohallohalloworld\n"
     ]
    }
   ],
   "source": [
    "print(q * 4 + a)"
   ]
  },
  {
   "cell_type": "code",
   "execution_count": 48,
   "id": "9f240211-3f83-4120-8de0-317ffa7b9ca0",
   "metadata": {},
   "outputs": [],
   "source": [
    "b = \"abdi\" \n",
    "u = 10 "
   ]
  },
  {
   "cell_type": "code",
   "execution_count": 51,
   "id": "c8e7d177-d435-47f3-a9bc-a6db6c6199c2",
   "metadata": {},
   "outputs": [
    {
     "name": "stdout",
     "output_type": "stream",
     "text": [
      "abdi10\n"
     ]
    }
   ],
   "source": [
    "print(b + str(u))"
   ]
  },
  {
   "cell_type": "code",
   "execution_count": 52,
   "id": "88e948f7-7b68-4ea9-902c-3fcff6efc89c",
   "metadata": {},
   "outputs": [],
   "source": [
    "pesan = \"ayo rajin belajar\""
   ]
  },
  {
   "cell_type": "code",
   "execution_count": 54,
   "id": "8dc82eff-4f64-43d8-8f6e-03633dcd43fe",
   "metadata": {},
   "outputs": [
    {
     "name": "stdout",
     "output_type": "stream",
     "text": [
      "Ayo rajin belajar\n",
      "ayo rajin belajar\n",
      "AYO RAJIN BELAJAR\n",
      "AYO RAJIN BELAJAR\n",
      "Ayo Rajin Belajar\n"
     ]
    }
   ],
   "source": [
    "print(pesan.capitalize())\n",
    "print(pesan.lower())\n",
    "print(pesan.swapcase())\n",
    "print(pesan.upper())\n",
    "print(pesan.title())"
   ]
  },
  {
   "cell_type": "markdown",
   "id": "26da7f90-fbc8-49bf-93a4-ca7429203f72",
   "metadata": {},
   "source": [
    "# Tipe Data List"
   ]
  },
  {
   "cell_type": "markdown",
   "id": "58e289a9-bf55-47d9-a8eb-88c434c45827",
   "metadata": {},
   "source": [
    "urutan dari list dimulai dari angka 0 "
   ]
  },
  {
   "cell_type": "code",
   "execution_count": 56,
   "id": "2c9d08c6-b299-45bb-a9c0-3e67c7a216d3",
   "metadata": {},
   "outputs": [],
   "source": [
    "antrian_beli_durian = [\"budi\", \"bebe\", \"juki\", \"cindi\", \"abdel\"]"
   ]
  },
  {
   "cell_type": "code",
   "execution_count": 57,
   "id": "de7de084-27ce-401f-821a-c159bc46e928",
   "metadata": {},
   "outputs": [
    {
     "name": "stdout",
     "output_type": "stream",
     "text": [
      "juki\n"
     ]
    }
   ],
   "source": [
    "print(antrian_beli_durian[2])"
   ]
  },
  {
   "cell_type": "code",
   "execution_count": 58,
   "id": "843ee831-a6fd-4b1d-8b14-23353f12a290",
   "metadata": {},
   "outputs": [
    {
     "name": "stdout",
     "output_type": "stream",
     "text": [
      "['bebe', 'juki']\n"
     ]
    }
   ],
   "source": [
    "print(antrian_beli_durian[1:3])"
   ]
  },
  {
   "cell_type": "code",
   "execution_count": 60,
   "id": "c377d112-739c-47dc-805d-ef54fe6c3667",
   "metadata": {},
   "outputs": [
    {
     "name": "stdout",
     "output_type": "stream",
     "text": [
      "['bebe', 'juki', 'cindi', 'abdel']\n"
     ]
    }
   ],
   "source": [
    "print(antrian_beli_durian[1:10])"
   ]
  },
  {
   "cell_type": "code",
   "execution_count": 61,
   "id": "4c94ddcd-432a-4ac5-b5ed-925843bf7542",
   "metadata": {},
   "outputs": [],
   "source": [
    "antrian_beli_apel = [\"riri\", \"adi\"]"
   ]
  },
  {
   "cell_type": "code",
   "execution_count": 64,
   "id": "41bf551e-b286-45a6-a9bb-43a6563661ea",
   "metadata": {},
   "outputs": [
    {
     "name": "stdout",
     "output_type": "stream",
     "text": [
      "['budi', 'bebe', 'juki', 'cindi', 'abdel', 'riri', 'adi', '100']\n"
     ]
    }
   ],
   "source": [
    "print(antrian_beli_durian + antrian_beli_apel + [\"100\"])"
   ]
  },
  {
   "cell_type": "code",
   "execution_count": 65,
   "id": "55beba98-4df2-42dd-a7a3-02c60e8c5154",
   "metadata": {},
   "outputs": [
    {
     "name": "stdout",
     "output_type": "stream",
     "text": [
      "['riri', 'adi', 'riri', 'adi', 'riri', 'adi']\n"
     ]
    }
   ],
   "source": [
    "print(antrian_beli_apel * 3)"
   ]
  },
  {
   "cell_type": "code",
   "execution_count": 67,
   "id": "230309a0-f071-420c-ab42-ccac145cff32",
   "metadata": {},
   "outputs": [
    {
     "name": "stdout",
     "output_type": "stream",
     "text": [
      "7\n"
     ]
    }
   ],
   "source": [
    "print(len(antrian_beli_durian + antrian_beli_apel))"
   ]
  },
  {
   "cell_type": "code",
   "execution_count": 68,
   "id": "ffb235de-7600-4c98-9f7d-08f920fc8953",
   "metadata": {},
   "outputs": [],
   "source": [
    "nilai_kelas_B = [10, 20, 60, 90, 100] "
   ]
  },
  {
   "cell_type": "code",
   "execution_count": 69,
   "id": "ebbc8f4c-6e07-4910-931b-72d87eefafa2",
   "metadata": {},
   "outputs": [
    {
     "name": "stdout",
     "output_type": "stream",
     "text": [
      "10\n",
      "100\n"
     ]
    }
   ],
   "source": [
    "print(min(nilai_kelas_B))\n",
    "print(max(nilai_kelas_B))"
   ]
  },
  {
   "cell_type": "code",
   "execution_count": 78,
   "id": "9ada7bf2-1dfd-4202-a901-a0eb7ed702a6",
   "metadata": {},
   "outputs": [
    {
     "name": "stdout",
     "output_type": "stream",
     "text": [
      "['juki']\n"
     ]
    }
   ],
   "source": [
    "print(antrian_beli_durian)"
   ]
  },
  {
   "cell_type": "code",
   "execution_count": 80,
   "id": "91927cbb-199e-4380-ac67-0f2065d12496",
   "metadata": {},
   "outputs": [],
   "source": [
    "daftar_kelas = [\"budi\", \"ani\", \"tukiman\"]"
   ]
  },
  {
   "cell_type": "code",
   "execution_count": 81,
   "id": "fb14f654-e61d-43a6-87e1-71152ae6e057",
   "metadata": {},
   "outputs": [
    {
     "name": "stdout",
     "output_type": "stream",
     "text": [
      "['budi', 'tukiman']\n"
     ]
    }
   ],
   "source": [
    "del(daftar_kelas[1])\n",
    "print(daftar_kelas)"
   ]
  },
  {
   "cell_type": "code",
   "execution_count": 82,
   "id": "37803543-969e-4b1e-bf0b-e7ff1da82115",
   "metadata": {},
   "outputs": [],
   "source": [
    "nama_mantan = [\"a\", \"b\", \"c\"]"
   ]
  },
  {
   "cell_type": "code",
   "execution_count": 83,
   "id": "7c0a0189-d8d0-49f3-9ed7-87d05c706b67",
   "metadata": {},
   "outputs": [],
   "source": [
    "nama_mantan [0:2] = [\"g\", \"h\"]"
   ]
  },
  {
   "cell_type": "code",
   "execution_count": 84,
   "id": "108aa296-e8dc-4d2d-bdde-6b7078fa539b",
   "metadata": {},
   "outputs": [
    {
     "name": "stdout",
     "output_type": "stream",
     "text": [
      "['g', 'h', 'c']\n"
     ]
    }
   ],
   "source": [
    "print(nama_mantan)"
   ]
  },
  {
   "cell_type": "markdown",
   "id": "740249ff-b7e4-4084-8f2c-166cb3f797a6",
   "metadata": {},
   "source": [
    "# Tuple"
   ]
  },
  {
   "cell_type": "markdown",
   "id": "6b6a7d6c-c8fa-405d-ab11-8ba172f34f6d",
   "metadata": {},
   "source": [
    "tuple sama seperti list hanya saja perbedaannya ialah :\n",
    "memakai ()\n",
    "tidak bisa diubah"
   ]
  },
  {
   "cell_type": "code",
   "execution_count": 90,
   "id": "a2b6edeb-f1fe-45bf-9801-619aa404a5dc",
   "metadata": {},
   "outputs": [],
   "source": [
    "tuple_huruf = (\"a\", \"b\", \"c\", \"d\")"
   ]
  },
  {
   "cell_type": "code",
   "execution_count": 91,
   "id": "ba57c3ac-2976-4fd4-8997-4e9f6b500c79",
   "metadata": {},
   "outputs": [
    {
     "name": "stdout",
     "output_type": "stream",
     "text": [
      "c\n"
     ]
    }
   ],
   "source": [
    "print(tuple_huruf[2])"
   ]
  },
  {
   "cell_type": "code",
   "execution_count": 92,
   "id": "5ea68464-0260-4002-b6b5-c0619d93be1e",
   "metadata": {},
   "outputs": [
    {
     "name": "stdout",
     "output_type": "stream",
     "text": [
      "('a', 'b', 'c', 'd', 'a', 'b', 'c', 'd')\n"
     ]
    }
   ],
   "source": [
    "print(tuple_huruf * 2)"
   ]
  },
  {
   "cell_type": "code",
   "execution_count": 93,
   "id": "c20ddbf1-62f5-4daa-9cfb-3906366952a7",
   "metadata": {},
   "outputs": [
    {
     "name": "stdout",
     "output_type": "stream",
     "text": [
      "['a', 'b', 'c', 'd']\n"
     ]
    }
   ],
   "source": [
    "print(list(tuple_huruf))"
   ]
  },
  {
   "cell_type": "markdown",
   "id": "9cf01bb4-0481-410b-b495-486df4ec976d",
   "metadata": {},
   "source": [
    "# Dictionary"
   ]
  },
  {
   "cell_type": "code",
   "execution_count": 98,
   "id": "34b317e5-9f8e-4b85-b7c0-ebeba378bcde",
   "metadata": {},
   "outputs": [],
   "source": [
    "vilga = { \n",
    "    \"jenis_kelamin\" : \"laki_laki\",\n",
    "    \"umur\" : 23,\n",
    "    \"jenjang_pendidikan\" : \"lulus_kuliah\",\n",
    "    \"tempat_tinggal\" : \"malang\"\n",
    "}"
   ]
  },
  {
   "cell_type": "code",
   "execution_count": 99,
   "id": "7b593bf6-7a38-4757-9154-663790a1c9b9",
   "metadata": {},
   "outputs": [
    {
     "name": "stdout",
     "output_type": "stream",
     "text": [
      "{'jenis_kelamin': 'laki_laki', 'umur': 23, 'jenjang_pendidikan': 'lulus_kuliah', 'tempat_tinggal': 'malang'}\n"
     ]
    }
   ],
   "source": [
    "print(vilga)"
   ]
  },
  {
   "cell_type": "code",
   "execution_count": 100,
   "id": "b45da1be-0cbb-4128-a57d-c5b9cf993ae3",
   "metadata": {},
   "outputs": [],
   "source": [
    "vilga[\"ijasah\"] = [\"sd\", \"smp\", \"sma\"]"
   ]
  },
  {
   "cell_type": "code",
   "execution_count": 101,
   "id": "ec3f5dd7-e500-40d2-bbd2-edf9cbc2cc6d",
   "metadata": {},
   "outputs": [
    {
     "name": "stdout",
     "output_type": "stream",
     "text": [
      "{'jenis_kelamin': 'laki_laki', 'umur': 23, 'jenjang_pendidikan': 'lulus_kuliah', 'tempat_tinggal': 'malang', 'ijasah': ['sd', 'smp', 'sma']}\n"
     ]
    }
   ],
   "source": [
    "print(vilga)"
   ]
  },
  {
   "cell_type": "code",
   "execution_count": 102,
   "id": "cb651f83-e0a9-4373-bbe0-7bc9ef66d45e",
   "metadata": {},
   "outputs": [],
   "source": [
    "vilga[\"tempat_tinggal\"] = [\"surabaya\"]"
   ]
  },
  {
   "cell_type": "code",
   "execution_count": 103,
   "id": "390f1e53-c20b-4491-96e6-8059d2524a0e",
   "metadata": {},
   "outputs": [
    {
     "name": "stdout",
     "output_type": "stream",
     "text": [
      "{'jenis_kelamin': 'laki_laki', 'umur': 23, 'jenjang_pendidikan': 'lulus_kuliah', 'tempat_tinggal': ['surabaya'], 'ijasah': ['sd', 'smp', 'sma']}\n"
     ]
    }
   ],
   "source": [
    "print(vilga)"
   ]
  },
  {
   "cell_type": "code",
   "execution_count": 105,
   "id": "49d5e789-633b-4b3f-ab3b-b9fe62d8aa68",
   "metadata": {},
   "outputs": [],
   "source": [
    "vilga[\"hobi\"] = [\"basket\", \"catur\", \"tidur\"]"
   ]
  },
  {
   "cell_type": "code",
   "execution_count": 106,
   "id": "ff020d95-ca6e-40ad-94e0-1bfbda7c21f6",
   "metadata": {},
   "outputs": [
    {
     "name": "stdout",
     "output_type": "stream",
     "text": [
      "{'jenis_kelamin': 'laki_laki', 'umur': 23, 'jenjang_pendidikan': 'lulus_kuliah', 'tempat_tinggal': ['surabaya'], 'ijasah': ['sd', 'smp', 'sma'], 'hobi': ['basket', 'catur', 'tidur']}\n"
     ]
    }
   ],
   "source": [
    "print(vilga)"
   ]
  },
  {
   "cell_type": "code",
   "execution_count": 108,
   "id": "5104cbe6-d03b-459b-85f8-a0b98ffb6462",
   "metadata": {},
   "outputs": [
    {
     "name": "stdout",
     "output_type": "stream",
     "text": [
      "{'jenis_kelamin': 'laki_laki', 'umur': 23, 'jenjang_pendidikan': 'lulus_kuliah', 'tempat_tinggal': ['surabaya'], 'ijasah': ['sd', 'smp', 'sma'], 'hobi': ['basket', 'catur', 'tidur'], 'nama_orang_tua': ('anang', 'asih')}\n"
     ]
    }
   ],
   "source": [
    "vilga[\"nama_orang_tua\"] = (\"anang\", \"asih\")\n",
    "print(vilga)"
   ]
  },
  {
   "cell_type": "code",
   "execution_count": 109,
   "id": "efd4eb5a-86c3-4aba-88f7-2b82f6a879b2",
   "metadata": {},
   "outputs": [
    {
     "name": "stdout",
     "output_type": "stream",
     "text": [
      "{'jenis_kelamin': 'laki_laki', 'umur': 23, 'jenjang_pendidikan': 'lulus_kuliah', 'tempat_tinggal': ['surabaya'], 'ijasah': ['sd', 'smp', 'sma'], 'nama_orang_tua': ('anang', 'asih')}\n"
     ]
    }
   ],
   "source": [
    "del vilga[\"hobi\"]\n",
    "print(vilga)"
   ]
  },
  {
   "cell_type": "code",
   "execution_count": null,
   "id": "ad0b1f6e-f94b-437d-8097-36754fd29da2",
   "metadata": {},
   "outputs": [],
   "source": []
  }
 ],
 "metadata": {
  "kernelspec": {
   "display_name": "Python 3",
   "language": "python",
   "name": "python3"
  },
  "language_info": {
   "codemirror_mode": {
    "name": "ipython",
    "version": 3
   },
   "file_extension": ".py",
   "mimetype": "text/x-python",
   "name": "python",
   "nbconvert_exporter": "python",
   "pygments_lexer": "ipython3",
   "version": "3.8.8"
  }
 },
 "nbformat": 4,
 "nbformat_minor": 5
}
